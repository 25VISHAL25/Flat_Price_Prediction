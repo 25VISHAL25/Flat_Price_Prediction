{
 "cells": [
  {
   "cell_type": "code",
   "execution_count": 1,
   "id": "7ec2a27a",
   "metadata": {},
   "outputs": [],
   "source": [
    "import numpy as np\n",
    "import pandas as pd\n",
    "from numpy import random\n",
    "import warnings\n",
    "warnings.filterwarnings('ignore')\n",
    "import matplotlib.pyplot as plt\n",
    "import seaborn as sns\n",
    "from wordcloud import WordCloud\n",
    "import nltk"
   ]
  },
  {
   "cell_type": "code",
   "execution_count": 2,
   "id": "b0e57f5f",
   "metadata": {},
   "outputs": [
    {
     "data": {
      "text/html": [
       "<div>\n",
       "<style scoped>\n",
       "    .dataframe tbody tr th:only-of-type {\n",
       "        vertical-align: middle;\n",
       "    }\n",
       "\n",
       "    .dataframe tbody tr th {\n",
       "        vertical-align: top;\n",
       "    }\n",
       "\n",
       "    .dataframe thead th {\n",
       "        text-align: right;\n",
       "    }\n",
       "</style>\n",
       "<table border=\"1\" class=\"dataframe\">\n",
       "  <thead>\n",
       "    <tr style=\"text-align: right;\">\n",
       "      <th></th>\n",
       "      <th>Profession</th>\n",
       "      <th>Annual_Income</th>\n",
       "      <th>Family_member</th>\n",
       "      <th>Family_earners</th>\n",
       "      <th>source_of_flat</th>\n",
       "      <th>Area</th>\n",
       "      <th>Location</th>\n",
       "      <th>Type_of_flat</th>\n",
       "      <th>Area_in_sqft</th>\n",
       "      <th>Amenities</th>\n",
       "      <th>...</th>\n",
       "      <th>Bathrooms</th>\n",
       "      <th>Availability_of_flat</th>\n",
       "      <th>No_floors_in_building</th>\n",
       "      <th>Floor_no</th>\n",
       "      <th>Balcony</th>\n",
       "      <th>Lift</th>\n",
       "      <th>Parking</th>\n",
       "      <th>Water_supply</th>\n",
       "      <th>Buying_of_Flat</th>\n",
       "      <th>Price</th>\n",
       "    </tr>\n",
       "  </thead>\n",
       "  <tbody>\n",
       "    <tr>\n",
       "      <th>0</th>\n",
       "      <td>Job</td>\n",
       "      <td>450000</td>\n",
       "      <td>4</td>\n",
       "      <td>1</td>\n",
       "      <td>Friend</td>\n",
       "      <td>Built-up</td>\n",
       "      <td>Near TC College</td>\n",
       "      <td>1</td>\n",
       "      <td>722</td>\n",
       "      <td>Children Play ground</td>\n",
       "      <td>...</td>\n",
       "      <td>1</td>\n",
       "      <td>2023</td>\n",
       "      <td>3</td>\n",
       "      <td>1</td>\n",
       "      <td>2</td>\n",
       "      <td>No</td>\n",
       "      <td>Yes</td>\n",
       "      <td>One day later</td>\n",
       "      <td>By EMI</td>\n",
       "      <td>2000000</td>\n",
       "    </tr>\n",
       "    <tr>\n",
       "      <th>1</th>\n",
       "      <td>Treding</td>\n",
       "      <td>1000000</td>\n",
       "      <td>4</td>\n",
       "      <td>3</td>\n",
       "      <td>Friend</td>\n",
       "      <td>Super built-up</td>\n",
       "      <td>Near TC College</td>\n",
       "      <td>2</td>\n",
       "      <td>1800</td>\n",
       "      <td>Garden, Children Play ground</td>\n",
       "      <td>...</td>\n",
       "      <td>2</td>\n",
       "      <td>2010</td>\n",
       "      <td>4</td>\n",
       "      <td>2</td>\n",
       "      <td>1</td>\n",
       "      <td>No</td>\n",
       "      <td>Yes</td>\n",
       "      <td>Everyday</td>\n",
       "      <td>By EMI</td>\n",
       "      <td>2500000</td>\n",
       "    </tr>\n",
       "    <tr>\n",
       "      <th>2</th>\n",
       "      <td>Job</td>\n",
       "      <td>200000</td>\n",
       "      <td>4</td>\n",
       "      <td>2</td>\n",
       "      <td>Dealer</td>\n",
       "      <td>Built-up</td>\n",
       "      <td>Near TC College</td>\n",
       "      <td>2</td>\n",
       "      <td>650</td>\n",
       "      <td>Children Play ground</td>\n",
       "      <td>...</td>\n",
       "      <td>1</td>\n",
       "      <td>2005</td>\n",
       "      <td>3</td>\n",
       "      <td>2</td>\n",
       "      <td>3</td>\n",
       "      <td>No</td>\n",
       "      <td>Yes</td>\n",
       "      <td>Everyday</td>\n",
       "      <td>By EMI</td>\n",
       "      <td>500000</td>\n",
       "    </tr>\n",
       "    <tr>\n",
       "      <th>3</th>\n",
       "      <td>Job</td>\n",
       "      <td>350000</td>\n",
       "      <td>4</td>\n",
       "      <td>1</td>\n",
       "      <td>Advertisement</td>\n",
       "      <td>Built-up</td>\n",
       "      <td>Near TC College</td>\n",
       "      <td>1</td>\n",
       "      <td>400</td>\n",
       "      <td>No</td>\n",
       "      <td>...</td>\n",
       "      <td>1</td>\n",
       "      <td>2021</td>\n",
       "      <td>3</td>\n",
       "      <td>3</td>\n",
       "      <td>1</td>\n",
       "      <td>No</td>\n",
       "      <td>Yes</td>\n",
       "      <td>Everyday</td>\n",
       "      <td>By EMI</td>\n",
       "      <td>2000000</td>\n",
       "    </tr>\n",
       "    <tr>\n",
       "      <th>4</th>\n",
       "      <td>Job</td>\n",
       "      <td>100000</td>\n",
       "      <td>5</td>\n",
       "      <td>1</td>\n",
       "      <td>Dealer</td>\n",
       "      <td>Built-up</td>\n",
       "      <td>Near TC College</td>\n",
       "      <td>3</td>\n",
       "      <td>1200</td>\n",
       "      <td>Garden</td>\n",
       "      <td>...</td>\n",
       "      <td>2</td>\n",
       "      <td>2023</td>\n",
       "      <td>4</td>\n",
       "      <td>3</td>\n",
       "      <td>1</td>\n",
       "      <td>No</td>\n",
       "      <td>Yes</td>\n",
       "      <td>Everyday</td>\n",
       "      <td>By EMI</td>\n",
       "      <td>2400000</td>\n",
       "    </tr>\n",
       "    <tr>\n",
       "      <th>...</th>\n",
       "      <td>...</td>\n",
       "      <td>...</td>\n",
       "      <td>...</td>\n",
       "      <td>...</td>\n",
       "      <td>...</td>\n",
       "      <td>...</td>\n",
       "      <td>...</td>\n",
       "      <td>...</td>\n",
       "      <td>...</td>\n",
       "      <td>...</td>\n",
       "      <td>...</td>\n",
       "      <td>...</td>\n",
       "      <td>...</td>\n",
       "      <td>...</td>\n",
       "      <td>...</td>\n",
       "      <td>...</td>\n",
       "      <td>...</td>\n",
       "      <td>...</td>\n",
       "      <td>...</td>\n",
       "      <td>...</td>\n",
       "      <td>...</td>\n",
       "    </tr>\n",
       "    <tr>\n",
       "      <th>304</th>\n",
       "      <td>Job</td>\n",
       "      <td>1200000</td>\n",
       "      <td>4</td>\n",
       "      <td>2</td>\n",
       "      <td>Friend</td>\n",
       "      <td>Super built-up</td>\n",
       "      <td>Sahyog Society</td>\n",
       "      <td>2</td>\n",
       "      <td>900</td>\n",
       "      <td>Auditoriam Garden, Children Play ground</td>\n",
       "      <td>...</td>\n",
       "      <td>2</td>\n",
       "      <td>2021</td>\n",
       "      <td>5</td>\n",
       "      <td>4</td>\n",
       "      <td>2</td>\n",
       "      <td>Yes</td>\n",
       "      <td>Yes</td>\n",
       "      <td>Everyday</td>\n",
       "      <td>By EMI</td>\n",
       "      <td>3500000</td>\n",
       "    </tr>\n",
       "    <tr>\n",
       "      <th>305</th>\n",
       "      <td>Teacher</td>\n",
       "      <td>1000000</td>\n",
       "      <td>5</td>\n",
       "      <td>1</td>\n",
       "      <td>Friend</td>\n",
       "      <td>Super built-up</td>\n",
       "      <td>Sahyog Society</td>\n",
       "      <td>2</td>\n",
       "      <td>1000</td>\n",
       "      <td>Garden, Children Play ground</td>\n",
       "      <td>...</td>\n",
       "      <td>2</td>\n",
       "      <td>2018</td>\n",
       "      <td>4</td>\n",
       "      <td>2</td>\n",
       "      <td>2</td>\n",
       "      <td>No</td>\n",
       "      <td>Yes</td>\n",
       "      <td>Everyday</td>\n",
       "      <td>By EMI</td>\n",
       "      <td>3200000</td>\n",
       "    </tr>\n",
       "    <tr>\n",
       "      <th>306</th>\n",
       "      <td>Business</td>\n",
       "      <td>1400000</td>\n",
       "      <td>4</td>\n",
       "      <td>1</td>\n",
       "      <td>Dealers</td>\n",
       "      <td>Super built-up</td>\n",
       "      <td>Sahyog Society</td>\n",
       "      <td>3</td>\n",
       "      <td>1300</td>\n",
       "      <td>Auditoriam Children Play ground</td>\n",
       "      <td>...</td>\n",
       "      <td>3</td>\n",
       "      <td>2020</td>\n",
       "      <td>5</td>\n",
       "      <td>4</td>\n",
       "      <td>2</td>\n",
       "      <td>Yes</td>\n",
       "      <td>Yes</td>\n",
       "      <td>Everyday</td>\n",
       "      <td>By EMI</td>\n",
       "      <td>5000000</td>\n",
       "    </tr>\n",
       "    <tr>\n",
       "      <th>307</th>\n",
       "      <td>Business</td>\n",
       "      <td>1600000</td>\n",
       "      <td>6</td>\n",
       "      <td>2</td>\n",
       "      <td>Dealers</td>\n",
       "      <td>Super built-up</td>\n",
       "      <td>Sahyog Society</td>\n",
       "      <td>2</td>\n",
       "      <td>950</td>\n",
       "      <td>Auditoriam Children Play ground</td>\n",
       "      <td>...</td>\n",
       "      <td>2</td>\n",
       "      <td>2022</td>\n",
       "      <td>4</td>\n",
       "      <td>4</td>\n",
       "      <td>2</td>\n",
       "      <td>Yes</td>\n",
       "      <td>Yes</td>\n",
       "      <td>Everyday</td>\n",
       "      <td>By EMI</td>\n",
       "      <td>4000000</td>\n",
       "    </tr>\n",
       "    <tr>\n",
       "      <th>308</th>\n",
       "      <td>Job</td>\n",
       "      <td>1000000</td>\n",
       "      <td>4</td>\n",
       "      <td>2</td>\n",
       "      <td>Friend</td>\n",
       "      <td>Super built-up</td>\n",
       "      <td>Sahyog Society</td>\n",
       "      <td>2</td>\n",
       "      <td>850</td>\n",
       "      <td>Auditoriam Children Play ground</td>\n",
       "      <td>...</td>\n",
       "      <td>2</td>\n",
       "      <td>2021</td>\n",
       "      <td>5</td>\n",
       "      <td>4</td>\n",
       "      <td>2</td>\n",
       "      <td>No</td>\n",
       "      <td>Yes</td>\n",
       "      <td>Everyday</td>\n",
       "      <td>By EMI</td>\n",
       "      <td>3500000</td>\n",
       "    </tr>\n",
       "  </tbody>\n",
       "</table>\n",
       "<p>309 rows × 21 columns</p>\n",
       "</div>"
      ],
      "text/plain": [
       "    Profession  Annual_Income   Family_member  Family_earners source_of_flat  \\\n",
       "0          Job          450000              4               1         Friend   \n",
       "1     Treding          1000000              4               3         Friend   \n",
       "2          Job          200000              4               2         Dealer   \n",
       "3          Job          350000              4               1  Advertisement   \n",
       "4          Job          100000              5               1         Dealer   \n",
       "..         ...             ...            ...             ...            ...   \n",
       "304        Job         1200000              4               2         Friend   \n",
       "305    Teacher         1000000              5               1         Friend   \n",
       "306   Business         1400000              4               1        Dealers   \n",
       "307   Business         1600000              6               2        Dealers   \n",
       "308        Job         1000000              4               2         Friend   \n",
       "\n",
       "                 Area         Location  Type_of_flat   Area_in_sqft  \\\n",
       "0           Built-up   Near TC College              1           722   \n",
       "1    Super built-up    Near TC College              2          1800   \n",
       "2           Built-up   Near TC College              2           650   \n",
       "3           Built-up   Near TC College              1           400   \n",
       "4           Built-up   Near TC College              3          1200   \n",
       "..                ...              ...            ...           ...   \n",
       "304    Super built-up   Sahyog Society              2           900   \n",
       "305    Super built-up   Sahyog Society              2          1000   \n",
       "306    Super built-up   Sahyog Society              3          1300   \n",
       "307    Super built-up   Sahyog Society              2           950   \n",
       "308    Super built-up   Sahyog Society              2           850   \n",
       "\n",
       "                                    Amenities  ... Bathrooms   \\\n",
       "0                        Children Play ground  ...          1   \n",
       "1                Garden, Children Play ground  ...          2   \n",
       "2                        Children Play ground  ...          1   \n",
       "3                                          No  ...          1   \n",
       "4                                      Garden  ...          2   \n",
       "..                                        ...  ...        ...   \n",
       "304  Auditoriam Garden, Children Play ground   ...          2   \n",
       "305             Garden, Children Play ground   ...          2   \n",
       "306          Auditoriam Children Play ground   ...          3   \n",
       "307          Auditoriam Children Play ground   ...          2   \n",
       "308          Auditoriam Children Play ground   ...          2   \n",
       "\n",
       "     Availability_of_flat  No_floors_in_building   Floor_no  Balcony  Lift  \\\n",
       "0                    2023                       3         1        2    No   \n",
       "1                    2010                       4         2        1    No   \n",
       "2                    2005                       3         2        3    No   \n",
       "3                    2021                       3         3        1    No   \n",
       "4                    2023                       4         3        1    No   \n",
       "..                    ...                     ...       ...      ...   ...   \n",
       "304                  2021                       5         4        2   Yes   \n",
       "305                  2018                       4         2        2    No   \n",
       "306                  2020                       5         4        2   Yes   \n",
       "307                  2022                       4         4        2   Yes   \n",
       "308                  2021                       5         4        2    No   \n",
       "\n",
       "    Parking   Water_supply Buying_of_Flat    Price  \n",
       "0       Yes  One day later         By EMI  2000000  \n",
       "1       Yes       Everyday         By EMI  2500000  \n",
       "2       Yes       Everyday         By EMI   500000  \n",
       "3       Yes       Everyday         By EMI  2000000  \n",
       "4       Yes       Everyday         By EMI  2400000  \n",
       "..      ...            ...            ...      ...  \n",
       "304     Yes       Everyday         By EMI  3500000  \n",
       "305     Yes       Everyday         By EMI  3200000  \n",
       "306     Yes       Everyday         By EMI  5000000  \n",
       "307     Yes       Everyday         By EMI  4000000  \n",
       "308     Yes       Everyday         By EMI  3500000  \n",
       "\n",
       "[309 rows x 21 columns]"
      ]
     },
     "execution_count": 2,
     "metadata": {},
     "output_type": "execute_result"
    }
   ],
   "source": [
    "data=pd.read_excel(r\"C:\\Users\\Lenovo\\Documents\\MSC Project\\Data (1).xlsx\")\n",
    "data"
   ]
  },
  {
   "cell_type": "markdown",
   "id": "0abc5a6e",
   "metadata": {},
   "source": [
    "# Dtype Conversion"
   ]
  },
  {
   "cell_type": "code",
   "execution_count": 3,
   "id": "f94f8354",
   "metadata": {},
   "outputs": [
    {
     "data": {
      "text/plain": [
       "Profession                   object\n",
       "Annual_Income                 int64\n",
       "Family_member                 int64\n",
       "Family_earners                int64\n",
       "source_of_flat               object\n",
       "Area                         object\n",
       "Location                     object\n",
       "Type_of_flat                  int64\n",
       "Area_in_sqft                  int64\n",
       "Amenities                    object\n",
       "Availability_of_resources    object\n",
       "Bathrooms                     int64\n",
       "Availability_of_flat          int64\n",
       "No_floors_in_building         int64\n",
       "Floor_no                      int64\n",
       "Balcony                       int64\n",
       "Lift                         object\n",
       "Parking                      object\n",
       "Water_supply                 object\n",
       "Buying_of_Flat               object\n",
       "Price                         int64\n",
       "dtype: object"
      ]
     },
     "execution_count": 3,
     "metadata": {},
     "output_type": "execute_result"
    }
   ],
   "source": [
    "data.dtypes"
   ]
  },
  {
   "cell_type": "code",
   "execution_count": 4,
   "id": "8236f501",
   "metadata": {},
   "outputs": [],
   "source": [
    "from sklearn.preprocessing import LabelEncoder\n",
    "le=LabelEncoder()"
   ]
  },
  {
   "cell_type": "code",
   "execution_count": 5,
   "id": "b9649a44",
   "metadata": {},
   "outputs": [
    {
     "data": {
      "text/plain": [
       "2    215\n",
       "1     49\n",
       "3     39\n",
       "5      4\n",
       "0      1\n",
       "4      1\n",
       "Name: Area, dtype: int64"
      ]
     },
     "execution_count": 5,
     "metadata": {},
     "output_type": "execute_result"
    }
   ],
   "source": [
    "data.Area=le.fit_transform(data.Area)\n",
    "data.Area.value_counts()"
   ]
  },
  {
   "cell_type": "code",
   "execution_count": 6,
   "id": "7977eefb",
   "metadata": {},
   "outputs": [
    {
     "data": {
      "text/plain": [
       "3    133\n",
       "2     90\n",
       "1     55\n",
       "0     31\n",
       "Name: source_of_flat, dtype: int64"
      ]
     },
     "execution_count": 6,
     "metadata": {},
     "output_type": "execute_result"
    }
   ],
   "source": [
    "data.source_of_flat=le.fit_transform(data.source_of_flat)\n",
    "data.source_of_flat.value_counts()"
   ]
  },
  {
   "cell_type": "code",
   "execution_count": 7,
   "id": "ccc09948",
   "metadata": {},
   "outputs": [
    {
     "data": {
      "text/plain": [
       "9     125\n",
       "1      46\n",
       "15     27\n",
       "0      21\n",
       "16     17\n",
       "7      16\n",
       "6      16\n",
       "14     13\n",
       "11      6\n",
       "2       5\n",
       "17      4\n",
       "8       3\n",
       "12      3\n",
       "10      2\n",
       "3       2\n",
       "5       1\n",
       "13      1\n",
       "4       1\n",
       "Name: Profession, dtype: int64"
      ]
     },
     "execution_count": 7,
     "metadata": {},
     "output_type": "execute_result"
    }
   ],
   "source": [
    "data.Profession=le.fit_transform(data.Profession)\n",
    "data.Profession.value_counts()"
   ]
  },
  {
   "cell_type": "code",
   "execution_count": 8,
   "id": "1380c184",
   "metadata": {},
   "outputs": [
    {
     "data": {
      "text/plain": [
       "0    257\n",
       "1     25\n",
       "2     24\n",
       "3      3\n",
       "Name: Water_supply, dtype: int64"
      ]
     },
     "execution_count": 8,
     "metadata": {},
     "output_type": "execute_result"
    }
   ],
   "source": [
    "data.Water_supply=le.fit_transform(data.Water_supply)\n",
    "data.Water_supply.value_counts()"
   ]
  },
  {
   "cell_type": "code",
   "execution_count": 9,
   "id": "a94cd61c",
   "metadata": {},
   "outputs": [
    {
     "data": {
      "text/plain": [
       "0    263\n",
       "1     46\n",
       "Name: Buying_of_Flat, dtype: int64"
      ]
     },
     "execution_count": 9,
     "metadata": {},
     "output_type": "execute_result"
    }
   ],
   "source": [
    "data.Buying_of_Flat=le.fit_transform(data.Buying_of_Flat)\n",
    "data.Buying_of_Flat.value_counts()"
   ]
  },
  {
   "cell_type": "code",
   "execution_count": 10,
   "id": "0709ac9e",
   "metadata": {},
   "outputs": [
    {
     "data": {
      "text/plain": [
       "1    308\n",
       "0      1\n",
       "Name: Parking, dtype: int64"
      ]
     },
     "execution_count": 10,
     "metadata": {},
     "output_type": "execute_result"
    }
   ],
   "source": [
    "data.Parking=le.fit_transform(data.Parking)\n",
    "data.Parking.value_counts()"
   ]
  },
  {
   "cell_type": "code",
   "execution_count": 11,
   "id": "0377c129",
   "metadata": {},
   "outputs": [
    {
     "data": {
      "text/plain": [
       "1    160\n",
       "0    149\n",
       "Name: Lift, dtype: int64"
      ]
     },
     "execution_count": 11,
     "metadata": {},
     "output_type": "execute_result"
    }
   ],
   "source": [
    "data.Lift =le.fit_transform(data.Lift)\n",
    "data.Lift.value_counts()"
   ]
  },
  {
   "cell_type": "code",
   "execution_count": 12,
   "id": "5b62e45b",
   "metadata": {},
   "outputs": [
    {
     "data": {
      "text/plain": [
       "17    20\n",
       "6     18\n",
       "5     16\n",
       "25    16\n",
       "37    14\n",
       "19    12\n",
       "42    12\n",
       "10    11\n",
       "3     11\n",
       "39    10\n",
       "12    10\n",
       "41    10\n",
       "13    10\n",
       "33    10\n",
       "29     9\n",
       "30     9\n",
       "34     9\n",
       "21     8\n",
       "11     8\n",
       "36     7\n",
       "4      7\n",
       "28     7\n",
       "8      6\n",
       "44     6\n",
       "51     4\n",
       "15     4\n",
       "24     3\n",
       "2      3\n",
       "45     3\n",
       "26     3\n",
       "20     2\n",
       "0      2\n",
       "38     2\n",
       "43     2\n",
       "54     2\n",
       "35     1\n",
       "40     1\n",
       "14     1\n",
       "23     1\n",
       "16     1\n",
       "18     1\n",
       "7      1\n",
       "57     1\n",
       "27     1\n",
       "9      1\n",
       "22     1\n",
       "1      1\n",
       "32     1\n",
       "53     1\n",
       "55     1\n",
       "56     1\n",
       "46     1\n",
       "52     1\n",
       "47     1\n",
       "50     1\n",
       "49     1\n",
       "48     1\n",
       "31     1\n",
       "Name: Location, dtype: int64"
      ]
     },
     "execution_count": 12,
     "metadata": {},
     "output_type": "execute_result"
    }
   ],
   "source": [
    "data.Location=le.fit_transform(data.Location)\n",
    "data.Location.value_counts()"
   ]
  },
  {
   "cell_type": "code",
   "execution_count": 13,
   "id": "65fbb62a",
   "metadata": {},
   "outputs": [
    {
     "data": {
      "text/plain": [
       "12    126\n",
       "4      78\n",
       "7      33\n",
       "10     30\n",
       "14     12\n",
       "17      5\n",
       "0       5\n",
       "2       4\n",
       "1       3\n",
       "9       2\n",
       "18      2\n",
       "5       2\n",
       "16      1\n",
       "3       1\n",
       "13      1\n",
       "6       1\n",
       "15      1\n",
       "11      1\n",
       "8       1\n",
       "Name: Amenities, dtype: int64"
      ]
     },
     "execution_count": 13,
     "metadata": {},
     "output_type": "execute_result"
    }
   ],
   "source": [
    "data.Amenities=le.fit_transform(data.Amenities)\n",
    "data.Amenities.value_counts()"
   ]
  },
  {
   "cell_type": "code",
   "execution_count": 14,
   "id": "a8e187f0",
   "metadata": {},
   "outputs": [
    {
     "data": {
      "text/plain": [
       "9     71\n",
       "10    71\n",
       "7     70\n",
       "14    28\n",
       "5     15\n",
       "13    13\n",
       "16    10\n",
       "6      8\n",
       "15     6\n",
       "4      5\n",
       "8      4\n",
       "18     1\n",
       "1      1\n",
       "2      1\n",
       "17     1\n",
       "12     1\n",
       "0      1\n",
       "11     1\n",
       "3      1\n",
       "Name: Availability_of_resources, dtype: int64"
      ]
     },
     "execution_count": 14,
     "metadata": {},
     "output_type": "execute_result"
    }
   ],
   "source": [
    "data.Availability_of_resources=le.fit_transform(data.Availability_of_resources)\n",
    "data.Availability_of_resources.value_counts()"
   ]
  },
  {
   "cell_type": "code",
   "execution_count": 15,
   "id": "5f3960cb",
   "metadata": {},
   "outputs": [
    {
     "data": {
      "text/plain": [
       "Profession                   int32\n",
       "Annual_Income                int64\n",
       "Family_member                int64\n",
       "Family_earners               int64\n",
       "source_of_flat               int32\n",
       "Area                         int32\n",
       "Location                     int32\n",
       "Type_of_flat                 int64\n",
       "Area_in_sqft                 int64\n",
       "Amenities                    int32\n",
       "Availability_of_resources    int32\n",
       "Bathrooms                    int64\n",
       "Availability_of_flat         int64\n",
       "No_floors_in_building        int64\n",
       "Floor_no                     int64\n",
       "Balcony                      int64\n",
       "Lift                         int32\n",
       "Parking                      int32\n",
       "Water_supply                 int32\n",
       "Buying_of_Flat               int32\n",
       "Price                        int64\n",
       "dtype: object"
      ]
     },
     "execution_count": 15,
     "metadata": {},
     "output_type": "execute_result"
    }
   ],
   "source": [
    "data.dtypes"
   ]
  },
  {
   "cell_type": "code",
   "execution_count": 16,
   "id": "bad9942c",
   "metadata": {},
   "outputs": [],
   "source": [
    "######## PPS ###############"
   ]
  },
  {
   "cell_type": "code",
   "execution_count": 17,
   "id": "95eeaca4",
   "metadata": {},
   "outputs": [],
   "source": [
    "######## PPS MATRIX ###############"
   ]
  },
  {
   "cell_type": "code",
   "execution_count": 18,
   "id": "835e5dbf",
   "metadata": {},
   "outputs": [
    {
     "data": {
      "image/png": "[encoded data removed]",
      "text/plain": [
       "<Figure size 1800x1800 with 25 Axes>"
      ]
     },
     "metadata": {
      "needs_background": "light"
     },
     "output_type": "display_data"
    }
   ],
   "source": [
    "data.hist(figsize=(25,25))\n",
    "plt.show()"
   ]
  },
  {
   "cell_type": "markdown",
   "id": "257d8d7e",
   "metadata": {},
   "source": [
    "# Skewness Treatment "
   ]
  },
  {
   "cell_type": "code",
   "execution_count": 19,
   "id": "76ed97bc",
   "metadata": {},
   "outputs": [
    {
     "data": {
      "text/plain": [
       "Profession                   -0.141065\n",
       "Annual_Income                 0.820238\n",
       "Family_member                 2.630147\n",
       "Family_earners                1.068495\n",
       "source_of_flat               -0.702763\n",
       "Area                          1.111771\n",
       "Location                      0.223953\n",
       "Type_of_flat                  0.905410\n",
       "Area_in_sqft                  1.684289\n",
       "Amenities                    -0.304364\n",
       "Availability_of_resources     0.407325\n",
       "Bathrooms                     1.332607\n",
       "Availability_of_flat        -17.511707\n",
       "No_floors_in_building         1.103595\n",
       "Floor_no                      0.266911\n",
       "Balcony                       0.717473\n",
       "Lift                         -0.071591\n",
       "Parking                     -17.578396\n",
       "Water_supply                  2.387697\n",
       "Buying_of_Flat                1.982527\n",
       "Price                        11.973157\n",
       "dtype: float64"
      ]
     },
     "execution_count": 19,
     "metadata": {},
     "output_type": "execute_result"
    }
   ],
   "source": [
    "data.skew()"
   ]
  },
  {
   "cell_type": "code",
   "execution_count": 20,
   "id": "3f7fc2cf",
   "metadata": {},
   "outputs": [
    {
     "data": {
      "text/html": [
       "<div>\n",
       "<style scoped>\n",
       "    .dataframe tbody tr th:only-of-type {\n",
       "        vertical-align: middle;\n",
       "    }\n",
       "\n",
       "    .dataframe tbody tr th {\n",
       "        vertical-align: top;\n",
       "    }\n",
       "\n",
       "    .dataframe thead th {\n",
       "        text-align: right;\n",
       "    }\n",
       "</style>\n",
       "<table border=\"1\" class=\"dataframe\">\n",
       "  <thead>\n",
       "    <tr style=\"text-align: right;\">\n",
       "      <th></th>\n",
       "      <th>Profession</th>\n",
       "      <th>Annual_Income</th>\n",
       "      <th>Family_member</th>\n",
       "      <th>Family_earners</th>\n",
       "      <th>source_of_flat</th>\n",
       "      <th>Area</th>\n",
       "      <th>Location</th>\n",
       "      <th>Type_of_flat</th>\n",
       "      <th>Area_in_sqft</th>\n",
       "      <th>Amenities</th>\n",
       "      <th>...</th>\n",
       "      <th>Bathrooms</th>\n",
       "      <th>Availability_of_flat</th>\n",
       "      <th>No_floors_in_building</th>\n",
       "      <th>Floor_no</th>\n",
       "      <th>Balcony</th>\n",
       "      <th>Lift</th>\n",
       "      <th>Parking</th>\n",
       "      <th>Water_supply</th>\n",
       "      <th>Buying_of_Flat</th>\n",
       "      <th>Price</th>\n",
       "    </tr>\n",
       "  </thead>\n",
       "  <tbody>\n",
       "    <tr>\n",
       "      <th>5</th>\n",
       "      <td>0</td>\n",
       "      <td>300000</td>\n",
       "      <td>4</td>\n",
       "      <td>2</td>\n",
       "      <td>3</td>\n",
       "      <td>2</td>\n",
       "      <td>19</td>\n",
       "      <td>2</td>\n",
       "      <td>750</td>\n",
       "      <td>7</td>\n",
       "      <td>...</td>\n",
       "      <td>2</td>\n",
       "      <td>2017</td>\n",
       "      <td>4</td>\n",
       "      <td>2</td>\n",
       "      <td>1</td>\n",
       "      <td>1</td>\n",
       "      <td>1</td>\n",
       "      <td>0</td>\n",
       "      <td>0</td>\n",
       "      <td>2500000</td>\n",
       "    </tr>\n",
       "    <tr>\n",
       "      <th>44</th>\n",
       "      <td>0</td>\n",
       "      <td>350000</td>\n",
       "      <td>9</td>\n",
       "      <td>1</td>\n",
       "      <td>3</td>\n",
       "      <td>2</td>\n",
       "      <td>36</td>\n",
       "      <td>1</td>\n",
       "      <td>600</td>\n",
       "      <td>12</td>\n",
       "      <td>...</td>\n",
       "      <td>1</td>\n",
       "      <td>2013</td>\n",
       "      <td>3</td>\n",
       "      <td>1</td>\n",
       "      <td>1</td>\n",
       "      <td>0</td>\n",
       "      <td>1</td>\n",
       "      <td>0</td>\n",
       "      <td>1</td>\n",
       "      <td>1700000</td>\n",
       "    </tr>\n",
       "    <tr>\n",
       "      <th>78</th>\n",
       "      <td>0</td>\n",
       "      <td>800000</td>\n",
       "      <td>4</td>\n",
       "      <td>1</td>\n",
       "      <td>1</td>\n",
       "      <td>2</td>\n",
       "      <td>1</td>\n",
       "      <td>0</td>\n",
       "      <td>400</td>\n",
       "      <td>12</td>\n",
       "      <td>...</td>\n",
       "      <td>1</td>\n",
       "      <td>2020</td>\n",
       "      <td>3</td>\n",
       "      <td>3</td>\n",
       "      <td>0</td>\n",
       "      <td>0</td>\n",
       "      <td>1</td>\n",
       "      <td>0</td>\n",
       "      <td>1</td>\n",
       "      <td>1500000</td>\n",
       "    </tr>\n",
       "    <tr>\n",
       "      <th>86</th>\n",
       "      <td>0</td>\n",
       "      <td>1900000</td>\n",
       "      <td>3</td>\n",
       "      <td>1</td>\n",
       "      <td>1</td>\n",
       "      <td>2</td>\n",
       "      <td>3</td>\n",
       "      <td>3</td>\n",
       "      <td>1600</td>\n",
       "      <td>12</td>\n",
       "      <td>...</td>\n",
       "      <td>2</td>\n",
       "      <td>2022</td>\n",
       "      <td>4</td>\n",
       "      <td>4</td>\n",
       "      <td>1</td>\n",
       "      <td>1</td>\n",
       "      <td>1</td>\n",
       "      <td>0</td>\n",
       "      <td>0</td>\n",
       "      <td>5500000</td>\n",
       "    </tr>\n",
       "    <tr>\n",
       "      <th>131</th>\n",
       "      <td>0</td>\n",
       "      <td>800000</td>\n",
       "      <td>4</td>\n",
       "      <td>1</td>\n",
       "      <td>1</td>\n",
       "      <td>2</td>\n",
       "      <td>13</td>\n",
       "      <td>1</td>\n",
       "      <td>400</td>\n",
       "      <td>12</td>\n",
       "      <td>...</td>\n",
       "      <td>1</td>\n",
       "      <td>2018</td>\n",
       "      <td>4</td>\n",
       "      <td>2</td>\n",
       "      <td>1</td>\n",
       "      <td>0</td>\n",
       "      <td>1</td>\n",
       "      <td>0</td>\n",
       "      <td>1</td>\n",
       "      <td>1750000</td>\n",
       "    </tr>\n",
       "    <tr>\n",
       "      <th>138</th>\n",
       "      <td>0</td>\n",
       "      <td>800000</td>\n",
       "      <td>4</td>\n",
       "      <td>1</td>\n",
       "      <td>2</td>\n",
       "      <td>2</td>\n",
       "      <td>41</td>\n",
       "      <td>1</td>\n",
       "      <td>400</td>\n",
       "      <td>12</td>\n",
       "      <td>...</td>\n",
       "      <td>1</td>\n",
       "      <td>2015</td>\n",
       "      <td>3</td>\n",
       "      <td>1</td>\n",
       "      <td>1</td>\n",
       "      <td>0</td>\n",
       "      <td>1</td>\n",
       "      <td>0</td>\n",
       "      <td>0</td>\n",
       "      <td>1700000</td>\n",
       "    </tr>\n",
       "    <tr>\n",
       "      <th>167</th>\n",
       "      <td>0</td>\n",
       "      <td>1500000</td>\n",
       "      <td>4</td>\n",
       "      <td>1</td>\n",
       "      <td>2</td>\n",
       "      <td>2</td>\n",
       "      <td>29</td>\n",
       "      <td>2</td>\n",
       "      <td>960</td>\n",
       "      <td>12</td>\n",
       "      <td>...</td>\n",
       "      <td>2</td>\n",
       "      <td>2018</td>\n",
       "      <td>4</td>\n",
       "      <td>1</td>\n",
       "      <td>1</td>\n",
       "      <td>1</td>\n",
       "      <td>1</td>\n",
       "      <td>0</td>\n",
       "      <td>0</td>\n",
       "      <td>4200000</td>\n",
       "    </tr>\n",
       "    <tr>\n",
       "      <th>181</th>\n",
       "      <td>0</td>\n",
       "      <td>800000</td>\n",
       "      <td>5</td>\n",
       "      <td>3</td>\n",
       "      <td>3</td>\n",
       "      <td>2</td>\n",
       "      <td>20</td>\n",
       "      <td>2</td>\n",
       "      <td>820</td>\n",
       "      <td>4</td>\n",
       "      <td>...</td>\n",
       "      <td>2</td>\n",
       "      <td>2020</td>\n",
       "      <td>4</td>\n",
       "      <td>3</td>\n",
       "      <td>1</td>\n",
       "      <td>1</td>\n",
       "      <td>1</td>\n",
       "      <td>1</td>\n",
       "      <td>1</td>\n",
       "      <td>2200000</td>\n",
       "    </tr>\n",
       "    <tr>\n",
       "      <th>220</th>\n",
       "      <td>0</td>\n",
       "      <td>1000000</td>\n",
       "      <td>4</td>\n",
       "      <td>2</td>\n",
       "      <td>2</td>\n",
       "      <td>5</td>\n",
       "      <td>14</td>\n",
       "      <td>3</td>\n",
       "      <td>2500</td>\n",
       "      <td>13</td>\n",
       "      <td>...</td>\n",
       "      <td>4</td>\n",
       "      <td>2023</td>\n",
       "      <td>4</td>\n",
       "      <td>3</td>\n",
       "      <td>4</td>\n",
       "      <td>0</td>\n",
       "      <td>1</td>\n",
       "      <td>0</td>\n",
       "      <td>1</td>\n",
       "      <td>1500000</td>\n",
       "    </tr>\n",
       "    <tr>\n",
       "      <th>225</th>\n",
       "      <td>0</td>\n",
       "      <td>500000</td>\n",
       "      <td>3</td>\n",
       "      <td>1</td>\n",
       "      <td>3</td>\n",
       "      <td>1</td>\n",
       "      <td>42</td>\n",
       "      <td>1</td>\n",
       "      <td>420</td>\n",
       "      <td>10</td>\n",
       "      <td>...</td>\n",
       "      <td>1</td>\n",
       "      <td>2018</td>\n",
       "      <td>4</td>\n",
       "      <td>2</td>\n",
       "      <td>1</td>\n",
       "      <td>0</td>\n",
       "      <td>1</td>\n",
       "      <td>0</td>\n",
       "      <td>0</td>\n",
       "      <td>2250000</td>\n",
       "    </tr>\n",
       "    <tr>\n",
       "      <th>249</th>\n",
       "      <td>0</td>\n",
       "      <td>1000000</td>\n",
       "      <td>4</td>\n",
       "      <td>1</td>\n",
       "      <td>2</td>\n",
       "      <td>3</td>\n",
       "      <td>6</td>\n",
       "      <td>1</td>\n",
       "      <td>675</td>\n",
       "      <td>14</td>\n",
       "      <td>...</td>\n",
       "      <td>1</td>\n",
       "      <td>2016</td>\n",
       "      <td>3</td>\n",
       "      <td>1</td>\n",
       "      <td>1</td>\n",
       "      <td>1</td>\n",
       "      <td>1</td>\n",
       "      <td>0</td>\n",
       "      <td>0</td>\n",
       "      <td>2600000</td>\n",
       "    </tr>\n",
       "    <tr>\n",
       "      <th>250</th>\n",
       "      <td>0</td>\n",
       "      <td>1500000</td>\n",
       "      <td>3</td>\n",
       "      <td>1</td>\n",
       "      <td>2</td>\n",
       "      <td>3</td>\n",
       "      <td>6</td>\n",
       "      <td>1</td>\n",
       "      <td>675</td>\n",
       "      <td>14</td>\n",
       "      <td>...</td>\n",
       "      <td>1</td>\n",
       "      <td>2017</td>\n",
       "      <td>3</td>\n",
       "      <td>2</td>\n",
       "      <td>1</td>\n",
       "      <td>1</td>\n",
       "      <td>1</td>\n",
       "      <td>0</td>\n",
       "      <td>0</td>\n",
       "      <td>2600000</td>\n",
       "    </tr>\n",
       "    <tr>\n",
       "      <th>269</th>\n",
       "      <td>0</td>\n",
       "      <td>1200000</td>\n",
       "      <td>6</td>\n",
       "      <td>2</td>\n",
       "      <td>3</td>\n",
       "      <td>1</td>\n",
       "      <td>17</td>\n",
       "      <td>2</td>\n",
       "      <td>1000</td>\n",
       "      <td>17</td>\n",
       "      <td>...</td>\n",
       "      <td>2</td>\n",
       "      <td>2016</td>\n",
       "      <td>4</td>\n",
       "      <td>3</td>\n",
       "      <td>2</td>\n",
       "      <td>1</td>\n",
       "      <td>1</td>\n",
       "      <td>0</td>\n",
       "      <td>1</td>\n",
       "      <td>2700000</td>\n",
       "    </tr>\n",
       "    <tr>\n",
       "      <th>274</th>\n",
       "      <td>0</td>\n",
       "      <td>1000000</td>\n",
       "      <td>5</td>\n",
       "      <td>2</td>\n",
       "      <td>3</td>\n",
       "      <td>1</td>\n",
       "      <td>17</td>\n",
       "      <td>2</td>\n",
       "      <td>1100</td>\n",
       "      <td>10</td>\n",
       "      <td>...</td>\n",
       "      <td>2</td>\n",
       "      <td>2020</td>\n",
       "      <td>4</td>\n",
       "      <td>2</td>\n",
       "      <td>2</td>\n",
       "      <td>1</td>\n",
       "      <td>1</td>\n",
       "      <td>0</td>\n",
       "      <td>0</td>\n",
       "      <td>3300000</td>\n",
       "    </tr>\n",
       "    <tr>\n",
       "      <th>289</th>\n",
       "      <td>0</td>\n",
       "      <td>500000</td>\n",
       "      <td>4</td>\n",
       "      <td>1</td>\n",
       "      <td>0</td>\n",
       "      <td>1</td>\n",
       "      <td>17</td>\n",
       "      <td>2</td>\n",
       "      <td>920</td>\n",
       "      <td>10</td>\n",
       "      <td>...</td>\n",
       "      <td>2</td>\n",
       "      <td>2020</td>\n",
       "      <td>4</td>\n",
       "      <td>1</td>\n",
       "      <td>2</td>\n",
       "      <td>1</td>\n",
       "      <td>1</td>\n",
       "      <td>0</td>\n",
       "      <td>0</td>\n",
       "      <td>3000000</td>\n",
       "    </tr>\n",
       "    <tr>\n",
       "      <th>296</th>\n",
       "      <td>0</td>\n",
       "      <td>550000</td>\n",
       "      <td>4</td>\n",
       "      <td>2</td>\n",
       "      <td>3</td>\n",
       "      <td>1</td>\n",
       "      <td>17</td>\n",
       "      <td>1</td>\n",
       "      <td>640</td>\n",
       "      <td>10</td>\n",
       "      <td>...</td>\n",
       "      <td>1</td>\n",
       "      <td>2021</td>\n",
       "      <td>4</td>\n",
       "      <td>4</td>\n",
       "      <td>1</td>\n",
       "      <td>1</td>\n",
       "      <td>1</td>\n",
       "      <td>0</td>\n",
       "      <td>0</td>\n",
       "      <td>2150000</td>\n",
       "    </tr>\n",
       "    <tr>\n",
       "      <th>297</th>\n",
       "      <td>0</td>\n",
       "      <td>900000</td>\n",
       "      <td>5</td>\n",
       "      <td>2</td>\n",
       "      <td>2</td>\n",
       "      <td>1</td>\n",
       "      <td>17</td>\n",
       "      <td>2</td>\n",
       "      <td>1200</td>\n",
       "      <td>2</td>\n",
       "      <td>...</td>\n",
       "      <td>2</td>\n",
       "      <td>2021</td>\n",
       "      <td>4</td>\n",
       "      <td>3</td>\n",
       "      <td>2</td>\n",
       "      <td>0</td>\n",
       "      <td>1</td>\n",
       "      <td>0</td>\n",
       "      <td>1</td>\n",
       "      <td>3900000</td>\n",
       "    </tr>\n",
       "    <tr>\n",
       "      <th>299</th>\n",
       "      <td>0</td>\n",
       "      <td>1200000</td>\n",
       "      <td>4</td>\n",
       "      <td>1</td>\n",
       "      <td>2</td>\n",
       "      <td>3</td>\n",
       "      <td>30</td>\n",
       "      <td>2</td>\n",
       "      <td>1000</td>\n",
       "      <td>10</td>\n",
       "      <td>...</td>\n",
       "      <td>2</td>\n",
       "      <td>2020</td>\n",
       "      <td>4</td>\n",
       "      <td>2</td>\n",
       "      <td>2</td>\n",
       "      <td>1</td>\n",
       "      <td>1</td>\n",
       "      <td>0</td>\n",
       "      <td>0</td>\n",
       "      <td>3800000</td>\n",
       "    </tr>\n",
       "    <tr>\n",
       "      <th>303</th>\n",
       "      <td>0</td>\n",
       "      <td>1500000</td>\n",
       "      <td>6</td>\n",
       "      <td>2</td>\n",
       "      <td>3</td>\n",
       "      <td>3</td>\n",
       "      <td>31</td>\n",
       "      <td>3</td>\n",
       "      <td>1500</td>\n",
       "      <td>10</td>\n",
       "      <td>...</td>\n",
       "      <td>3</td>\n",
       "      <td>2020</td>\n",
       "      <td>5</td>\n",
       "      <td>3</td>\n",
       "      <td>3</td>\n",
       "      <td>1</td>\n",
       "      <td>1</td>\n",
       "      <td>0</td>\n",
       "      <td>1</td>\n",
       "      <td>5500000</td>\n",
       "    </tr>\n",
       "    <tr>\n",
       "      <th>306</th>\n",
       "      <td>0</td>\n",
       "      <td>1400000</td>\n",
       "      <td>4</td>\n",
       "      <td>1</td>\n",
       "      <td>2</td>\n",
       "      <td>3</td>\n",
       "      <td>30</td>\n",
       "      <td>3</td>\n",
       "      <td>1300</td>\n",
       "      <td>1</td>\n",
       "      <td>...</td>\n",
       "      <td>3</td>\n",
       "      <td>2020</td>\n",
       "      <td>5</td>\n",
       "      <td>4</td>\n",
       "      <td>2</td>\n",
       "      <td>1</td>\n",
       "      <td>1</td>\n",
       "      <td>0</td>\n",
       "      <td>0</td>\n",
       "      <td>5000000</td>\n",
       "    </tr>\n",
       "    <tr>\n",
       "      <th>307</th>\n",
       "      <td>0</td>\n",
       "      <td>1600000</td>\n",
       "      <td>6</td>\n",
       "      <td>2</td>\n",
       "      <td>2</td>\n",
       "      <td>3</td>\n",
       "      <td>30</td>\n",
       "      <td>2</td>\n",
       "      <td>950</td>\n",
       "      <td>1</td>\n",
       "      <td>...</td>\n",
       "      <td>2</td>\n",
       "      <td>2022</td>\n",
       "      <td>4</td>\n",
       "      <td>4</td>\n",
       "      <td>2</td>\n",
       "      <td>1</td>\n",
       "      <td>1</td>\n",
       "      <td>0</td>\n",
       "      <td>0</td>\n",
       "      <td>4000000</td>\n",
       "    </tr>\n",
       "  </tbody>\n",
       "</table>\n",
       "<p>21 rows × 21 columns</p>\n",
       "</div>"
      ],
      "text/plain": [
       "     Profession  Annual_Income   Family_member  Family_earners  \\\n",
       "5             0          300000              4               2   \n",
       "44            0          350000              9               1   \n",
       "78            0          800000              4               1   \n",
       "86            0         1900000              3               1   \n",
       "131           0          800000              4               1   \n",
       "138           0          800000              4               1   \n",
       "167           0         1500000              4               1   \n",
       "181           0          800000              5               3   \n",
       "220           0         1000000              4               2   \n",
       "225           0          500000              3               1   \n",
       "249           0         1000000              4               1   \n",
       "250           0         1500000              3               1   \n",
       "269           0         1200000              6               2   \n",
       "274           0         1000000              5               2   \n",
       "289           0          500000              4               1   \n",
       "296           0          550000              4               2   \n",
       "297           0          900000              5               2   \n",
       "299           0         1200000              4               1   \n",
       "303           0         1500000              6               2   \n",
       "306           0         1400000              4               1   \n",
       "307           0         1600000              6               2   \n",
       "\n",
       "     source_of_flat  Area  Location  Type_of_flat   Area_in_sqft  Amenities  \\\n",
       "5                 3     2        19              2           750          7   \n",
       "44                3     2        36              1           600         12   \n",
       "78                1     2         1              0           400         12   \n",
       "86                1     2         3              3          1600         12   \n",
       "131               1     2        13              1           400         12   \n",
       "138               2     2        41              1           400         12   \n",
       "167               2     2        29              2           960         12   \n",
       "181               3     2        20              2           820          4   \n",
       "220               2     5        14              3          2500         13   \n",
       "225               3     1        42              1           420         10   \n",
       "249               2     3         6              1           675         14   \n",
       "250               2     3         6              1           675         14   \n",
       "269               3     1        17              2          1000         17   \n",
       "274               3     1        17              2          1100         10   \n",
       "289               0     1        17              2           920         10   \n",
       "296               3     1        17              1           640         10   \n",
       "297               2     1        17              2          1200          2   \n",
       "299               2     3        30              2          1000         10   \n",
       "303               3     3        31              3          1500         10   \n",
       "306               2     3        30              3          1300          1   \n",
       "307               2     3        30              2           950          1   \n",
       "\n",
       "     ...  Bathrooms   Availability_of_flat  No_floors_in_building   Floor_no  \\\n",
       "5    ...           2                  2017                       4         2   \n",
       "44   ...           1                  2013                       3         1   \n",
       "78   ...           1                  2020                       3         3   \n",
       "86   ...           2                  2022                       4         4   \n",
       "131  ...           1                  2018                       4         2   \n",
       "138  ...           1                  2015                       3         1   \n",
       "167  ...           2                  2018                       4         1   \n",
       "181  ...           2                  2020                       4         3   \n",
       "220  ...           4                  2023                       4         3   \n",
       "225  ...           1                  2018                       4         2   \n",
       "249  ...           1                  2016                       3         1   \n",
       "250  ...           1                  2017                       3         2   \n",
       "269  ...           2                  2016                       4         3   \n",
       "274  ...           2                  2020                       4         2   \n",
       "289  ...           2                  2020                       4         1   \n",
       "296  ...           1                  2021                       4         4   \n",
       "297  ...           2                  2021                       4         3   \n",
       "299  ...           2                  2020                       4         2   \n",
       "303  ...           3                  2020                       5         3   \n",
       "306  ...           3                  2020                       5         4   \n",
       "307  ...           2                  2022                       4         4   \n",
       "\n",
       "     Balcony  Lift  Parking  Water_supply  Buying_of_Flat    Price  \n",
       "5          1     1        1             0               0  2500000  \n",
       "44         1     0        1             0               1  1700000  \n",
       "78         0     0        1             0               1  1500000  \n",
       "86         1     1        1             0               0  5500000  \n",
       "131        1     0        1             0               1  1750000  \n",
       "138        1     0        1             0               0  1700000  \n",
       "167        1     1        1             0               0  4200000  \n",
       "181        1     1        1             1               1  2200000  \n",
       "220        4     0        1             0               1  1500000  \n",
       "225        1     0        1             0               0  2250000  \n",
       "249        1     1        1             0               0  2600000  \n",
       "250        1     1        1             0               0  2600000  \n",
       "269        2     1        1             0               1  2700000  \n",
       "274        2     1        1             0               0  3300000  \n",
       "289        2     1        1             0               0  3000000  \n",
       "296        1     1        1             0               0  2150000  \n",
       "297        2     0        1             0               1  3900000  \n",
       "299        2     1        1             0               0  3800000  \n",
       "303        3     1        1             0               1  5500000  \n",
       "306        2     1        1             0               0  5000000  \n",
       "307        2     1        1             0               0  4000000  \n",
       "\n",
       "[21 rows x 21 columns]"
      ]
     },
     "execution_count": 20,
     "metadata": {},
     "output_type": "execute_result"
    }
   ],
   "source": [
    "data.loc[data[\"Profession\"]==0]"
   ]
  },
  {
   "cell_type": "code",
   "execution_count": 21,
   "id": "32932fe1",
   "metadata": {},
   "outputs": [],
   "source": [
    "#data.Profession.skew()"
   ]
  },
  {
   "cell_type": "code",
   "execution_count": 22,
   "id": "f7f7b392",
   "metadata": {},
   "outputs": [],
   "source": [
    "#v2=np.sqrt(data.Profession)"
   ]
  },
  {
   "cell_type": "code",
   "execution_count": 23,
   "id": "f968e3fe",
   "metadata": {},
   "outputs": [],
   "source": [
    "#v2.skew()"
   ]
  },
  {
   "cell_type": "code",
   "execution_count": 24,
   "id": "dad3216a",
   "metadata": {},
   "outputs": [
    {
     "data": {
      "text/html": [
       "<div>\n",
       "<style scoped>\n",
       "    .dataframe tbody tr th:only-of-type {\n",
       "        vertical-align: middle;\n",
       "    }\n",
       "\n",
       "    .dataframe tbody tr th {\n",
       "        vertical-align: top;\n",
       "    }\n",
       "\n",
       "    .dataframe thead th {\n",
       "        text-align: right;\n",
       "    }\n",
       "</style>\n",
       "<table border=\"1\" class=\"dataframe\">\n",
       "  <thead>\n",
       "    <tr style=\"text-align: right;\">\n",
       "      <th></th>\n",
       "      <th>Profession</th>\n",
       "      <th>Annual_Income</th>\n",
       "      <th>Family_member</th>\n",
       "      <th>Family_earners</th>\n",
       "      <th>source_of_flat</th>\n",
       "      <th>Area</th>\n",
       "      <th>Location</th>\n",
       "      <th>Type_of_flat</th>\n",
       "      <th>Area_in_sqft</th>\n",
       "      <th>Amenities</th>\n",
       "      <th>...</th>\n",
       "      <th>Bathrooms</th>\n",
       "      <th>Availability_of_flat</th>\n",
       "      <th>No_floors_in_building</th>\n",
       "      <th>Floor_no</th>\n",
       "      <th>Balcony</th>\n",
       "      <th>Lift</th>\n",
       "      <th>Parking</th>\n",
       "      <th>Water_supply</th>\n",
       "      <th>Buying_of_Flat</th>\n",
       "      <th>Price</th>\n",
       "    </tr>\n",
       "  </thead>\n",
       "  <tbody>\n",
       "  </tbody>\n",
       "</table>\n",
       "<p>0 rows × 21 columns</p>\n",
       "</div>"
      ],
      "text/plain": [
       "Empty DataFrame\n",
       "Columns: [Profession, Annual_Income , Family_member, Family_earners, source_of_flat, Area, Location, Type_of_flat , Area_in_sqft, Amenities, Availability_of_resources, Bathrooms , Availability_of_flat, No_floors_in_building , Floor_no, Balcony, Lift, Parking, Water_supply, Buying_of_Flat, Price]\n",
       "Index: []\n",
       "\n",
       "[0 rows x 21 columns]"
      ]
     },
     "execution_count": 24,
     "metadata": {},
     "output_type": "execute_result"
    }
   ],
   "source": [
    "data.loc[data[\"Family_member\"]==0]"
   ]
  },
  {
   "cell_type": "code",
   "execution_count": 25,
   "id": "fa7939e7",
   "metadata": {},
   "outputs": [
    {
     "data": {
      "text/plain": [
       "2.630147423033079"
      ]
     },
     "execution_count": 25,
     "metadata": {},
     "output_type": "execute_result"
    }
   ],
   "source": [
    "data.Family_member.skew()"
   ]
  },
  {
   "cell_type": "code",
   "execution_count": 26,
   "id": "ae0717f4",
   "metadata": {},
   "outputs": [],
   "source": [
    "v1=np.log(data.Family_member)"
   ]
  },
  {
   "cell_type": "code",
   "execution_count": 27,
   "id": "b68bf30e",
   "metadata": {},
   "outputs": [
    {
     "data": {
      "text/plain": [
       "0.290584978650301"
      ]
     },
     "execution_count": 27,
     "metadata": {},
     "output_type": "execute_result"
    }
   ],
   "source": [
    "v1.skew()"
   ]
  },
  {
   "cell_type": "code",
   "execution_count": 28,
   "id": "30581919",
   "metadata": {},
   "outputs": [
    {
     "data": {
      "text/html": [
       "<div>\n",
       "<style scoped>\n",
       "    .dataframe tbody tr th:only-of-type {\n",
       "        vertical-align: middle;\n",
       "    }\n",
       "\n",
       "    .dataframe tbody tr th {\n",
       "        vertical-align: top;\n",
       "    }\n",
       "\n",
       "    .dataframe thead th {\n",
       "        text-align: right;\n",
       "    }\n",
       "</style>\n",
       "<table border=\"1\" class=\"dataframe\">\n",
       "  <thead>\n",
       "    <tr style=\"text-align: right;\">\n",
       "      <th></th>\n",
       "      <th>Profession</th>\n",
       "      <th>Annual_Income</th>\n",
       "      <th>Family_member</th>\n",
       "      <th>Family_earners</th>\n",
       "      <th>source_of_flat</th>\n",
       "      <th>Area</th>\n",
       "      <th>Location</th>\n",
       "      <th>Type_of_flat</th>\n",
       "      <th>Area_in_sqft</th>\n",
       "      <th>Amenities</th>\n",
       "      <th>...</th>\n",
       "      <th>Bathrooms</th>\n",
       "      <th>Availability_of_flat</th>\n",
       "      <th>No_floors_in_building</th>\n",
       "      <th>Floor_no</th>\n",
       "      <th>Balcony</th>\n",
       "      <th>Lift</th>\n",
       "      <th>Parking</th>\n",
       "      <th>Water_supply</th>\n",
       "      <th>Buying_of_Flat</th>\n",
       "      <th>Price</th>\n",
       "    </tr>\n",
       "  </thead>\n",
       "  <tbody>\n",
       "    <tr>\n",
       "      <th>0</th>\n",
       "      <td>9</td>\n",
       "      <td>450000</td>\n",
       "      <td>4</td>\n",
       "      <td>1</td>\n",
       "      <td>3</td>\n",
       "      <td>2</td>\n",
       "      <td>19</td>\n",
       "      <td>1</td>\n",
       "      <td>722</td>\n",
       "      <td>4</td>\n",
       "      <td>...</td>\n",
       "      <td>1</td>\n",
       "      <td>2023</td>\n",
       "      <td>3</td>\n",
       "      <td>1</td>\n",
       "      <td>2</td>\n",
       "      <td>0</td>\n",
       "      <td>1</td>\n",
       "      <td>1</td>\n",
       "      <td>0</td>\n",
       "      <td>2000000</td>\n",
       "    </tr>\n",
       "    <tr>\n",
       "      <th>1</th>\n",
       "      <td>17</td>\n",
       "      <td>1000000</td>\n",
       "      <td>4</td>\n",
       "      <td>3</td>\n",
       "      <td>3</td>\n",
       "      <td>5</td>\n",
       "      <td>19</td>\n",
       "      <td>2</td>\n",
       "      <td>1800</td>\n",
       "      <td>9</td>\n",
       "      <td>...</td>\n",
       "      <td>2</td>\n",
       "      <td>2010</td>\n",
       "      <td>4</td>\n",
       "      <td>2</td>\n",
       "      <td>1</td>\n",
       "      <td>0</td>\n",
       "      <td>1</td>\n",
       "      <td>0</td>\n",
       "      <td>0</td>\n",
       "      <td>2500000</td>\n",
       "    </tr>\n",
       "    <tr>\n",
       "      <th>2</th>\n",
       "      <td>9</td>\n",
       "      <td>200000</td>\n",
       "      <td>4</td>\n",
       "      <td>2</td>\n",
       "      <td>1</td>\n",
       "      <td>2</td>\n",
       "      <td>19</td>\n",
       "      <td>2</td>\n",
       "      <td>650</td>\n",
       "      <td>4</td>\n",
       "      <td>...</td>\n",
       "      <td>1</td>\n",
       "      <td>2005</td>\n",
       "      <td>3</td>\n",
       "      <td>2</td>\n",
       "      <td>3</td>\n",
       "      <td>0</td>\n",
       "      <td>1</td>\n",
       "      <td>0</td>\n",
       "      <td>0</td>\n",
       "      <td>500000</td>\n",
       "    </tr>\n",
       "    <tr>\n",
       "      <th>3</th>\n",
       "      <td>9</td>\n",
       "      <td>350000</td>\n",
       "      <td>4</td>\n",
       "      <td>1</td>\n",
       "      <td>0</td>\n",
       "      <td>2</td>\n",
       "      <td>19</td>\n",
       "      <td>1</td>\n",
       "      <td>400</td>\n",
       "      <td>12</td>\n",
       "      <td>...</td>\n",
       "      <td>1</td>\n",
       "      <td>2021</td>\n",
       "      <td>3</td>\n",
       "      <td>3</td>\n",
       "      <td>1</td>\n",
       "      <td>0</td>\n",
       "      <td>1</td>\n",
       "      <td>0</td>\n",
       "      <td>0</td>\n",
       "      <td>2000000</td>\n",
       "    </tr>\n",
       "    <tr>\n",
       "      <th>4</th>\n",
       "      <td>9</td>\n",
       "      <td>100000</td>\n",
       "      <td>5</td>\n",
       "      <td>1</td>\n",
       "      <td>1</td>\n",
       "      <td>2</td>\n",
       "      <td>19</td>\n",
       "      <td>3</td>\n",
       "      <td>1200</td>\n",
       "      <td>7</td>\n",
       "      <td>...</td>\n",
       "      <td>2</td>\n",
       "      <td>2023</td>\n",
       "      <td>4</td>\n",
       "      <td>3</td>\n",
       "      <td>1</td>\n",
       "      <td>0</td>\n",
       "      <td>1</td>\n",
       "      <td>0</td>\n",
       "      <td>0</td>\n",
       "      <td>2400000</td>\n",
       "    </tr>\n",
       "    <tr>\n",
       "      <th>...</th>\n",
       "      <td>...</td>\n",
       "      <td>...</td>\n",
       "      <td>...</td>\n",
       "      <td>...</td>\n",
       "      <td>...</td>\n",
       "      <td>...</td>\n",
       "      <td>...</td>\n",
       "      <td>...</td>\n",
       "      <td>...</td>\n",
       "      <td>...</td>\n",
       "      <td>...</td>\n",
       "      <td>...</td>\n",
       "      <td>...</td>\n",
       "      <td>...</td>\n",
       "      <td>...</td>\n",
       "      <td>...</td>\n",
       "      <td>...</td>\n",
       "      <td>...</td>\n",
       "      <td>...</td>\n",
       "      <td>...</td>\n",
       "      <td>...</td>\n",
       "    </tr>\n",
       "    <tr>\n",
       "      <th>304</th>\n",
       "      <td>9</td>\n",
       "      <td>1200000</td>\n",
       "      <td>4</td>\n",
       "      <td>2</td>\n",
       "      <td>3</td>\n",
       "      <td>3</td>\n",
       "      <td>30</td>\n",
       "      <td>2</td>\n",
       "      <td>900</td>\n",
       "      <td>2</td>\n",
       "      <td>...</td>\n",
       "      <td>2</td>\n",
       "      <td>2021</td>\n",
       "      <td>5</td>\n",
       "      <td>4</td>\n",
       "      <td>2</td>\n",
       "      <td>1</td>\n",
       "      <td>1</td>\n",
       "      <td>0</td>\n",
       "      <td>0</td>\n",
       "      <td>3500000</td>\n",
       "    </tr>\n",
       "    <tr>\n",
       "      <th>305</th>\n",
       "      <td>15</td>\n",
       "      <td>1000000</td>\n",
       "      <td>5</td>\n",
       "      <td>1</td>\n",
       "      <td>3</td>\n",
       "      <td>3</td>\n",
       "      <td>30</td>\n",
       "      <td>2</td>\n",
       "      <td>1000</td>\n",
       "      <td>10</td>\n",
       "      <td>...</td>\n",
       "      <td>2</td>\n",
       "      <td>2018</td>\n",
       "      <td>4</td>\n",
       "      <td>2</td>\n",
       "      <td>2</td>\n",
       "      <td>0</td>\n",
       "      <td>1</td>\n",
       "      <td>0</td>\n",
       "      <td>0</td>\n",
       "      <td>3200000</td>\n",
       "    </tr>\n",
       "    <tr>\n",
       "      <th>306</th>\n",
       "      <td>0</td>\n",
       "      <td>1400000</td>\n",
       "      <td>4</td>\n",
       "      <td>1</td>\n",
       "      <td>2</td>\n",
       "      <td>3</td>\n",
       "      <td>30</td>\n",
       "      <td>3</td>\n",
       "      <td>1300</td>\n",
       "      <td>1</td>\n",
       "      <td>...</td>\n",
       "      <td>3</td>\n",
       "      <td>2020</td>\n",
       "      <td>5</td>\n",
       "      <td>4</td>\n",
       "      <td>2</td>\n",
       "      <td>1</td>\n",
       "      <td>1</td>\n",
       "      <td>0</td>\n",
       "      <td>0</td>\n",
       "      <td>5000000</td>\n",
       "    </tr>\n",
       "    <tr>\n",
       "      <th>307</th>\n",
       "      <td>0</td>\n",
       "      <td>1600000</td>\n",
       "      <td>6</td>\n",
       "      <td>2</td>\n",
       "      <td>2</td>\n",
       "      <td>3</td>\n",
       "      <td>30</td>\n",
       "      <td>2</td>\n",
       "      <td>950</td>\n",
       "      <td>1</td>\n",
       "      <td>...</td>\n",
       "      <td>2</td>\n",
       "      <td>2022</td>\n",
       "      <td>4</td>\n",
       "      <td>4</td>\n",
       "      <td>2</td>\n",
       "      <td>1</td>\n",
       "      <td>1</td>\n",
       "      <td>0</td>\n",
       "      <td>0</td>\n",
       "      <td>4000000</td>\n",
       "    </tr>\n",
       "    <tr>\n",
       "      <th>308</th>\n",
       "      <td>9</td>\n",
       "      <td>1000000</td>\n",
       "      <td>4</td>\n",
       "      <td>2</td>\n",
       "      <td>3</td>\n",
       "      <td>3</td>\n",
       "      <td>30</td>\n",
       "      <td>2</td>\n",
       "      <td>850</td>\n",
       "      <td>1</td>\n",
       "      <td>...</td>\n",
       "      <td>2</td>\n",
       "      <td>2021</td>\n",
       "      <td>5</td>\n",
       "      <td>4</td>\n",
       "      <td>2</td>\n",
       "      <td>0</td>\n",
       "      <td>1</td>\n",
       "      <td>0</td>\n",
       "      <td>0</td>\n",
       "      <td>3500000</td>\n",
       "    </tr>\n",
       "  </tbody>\n",
       "</table>\n",
       "<p>309 rows × 21 columns</p>\n",
       "</div>"
      ],
      "text/plain": [
       "     Profession  Annual_Income   Family_member  Family_earners  \\\n",
       "0             9          450000              4               1   \n",
       "1            17         1000000              4               3   \n",
       "2             9          200000              4               2   \n",
       "3             9          350000              4               1   \n",
       "4             9          100000              5               1   \n",
       "..          ...             ...            ...             ...   \n",
       "304           9         1200000              4               2   \n",
       "305          15         1000000              5               1   \n",
       "306           0         1400000              4               1   \n",
       "307           0         1600000              6               2   \n",
       "308           9         1000000              4               2   \n",
       "\n",
       "     source_of_flat  Area  Location  Type_of_flat   Area_in_sqft  Amenities  \\\n",
       "0                 3     2        19              1           722          4   \n",
       "1                 3     5        19              2          1800          9   \n",
       "2                 1     2        19              2           650          4   \n",
       "3                 0     2        19              1           400         12   \n",
       "4                 1     2        19              3          1200          7   \n",
       "..              ...   ...       ...            ...           ...        ...   \n",
       "304               3     3        30              2           900          2   \n",
       "305               3     3        30              2          1000         10   \n",
       "306               2     3        30              3          1300          1   \n",
       "307               2     3        30              2           950          1   \n",
       "308               3     3        30              2           850          1   \n",
       "\n",
       "     ...  Bathrooms   Availability_of_flat  No_floors_in_building   Floor_no  \\\n",
       "0    ...           1                  2023                       3         1   \n",
       "1    ...           2                  2010                       4         2   \n",
       "2    ...           1                  2005                       3         2   \n",
       "3    ...           1                  2021                       3         3   \n",
       "4    ...           2                  2023                       4         3   \n",
       "..   ...         ...                   ...                     ...       ...   \n",
       "304  ...           2                  2021                       5         4   \n",
       "305  ...           2                  2018                       4         2   \n",
       "306  ...           3                  2020                       5         4   \n",
       "307  ...           2                  2022                       4         4   \n",
       "308  ...           2                  2021                       5         4   \n",
       "\n",
       "     Balcony  Lift  Parking  Water_supply  Buying_of_Flat    Price  \n",
       "0          2     0        1             1               0  2000000  \n",
       "1          1     0        1             0               0  2500000  \n",
       "2          3     0        1             0               0   500000  \n",
       "3          1     0        1             0               0  2000000  \n",
       "4          1     0        1             0               0  2400000  \n",
       "..       ...   ...      ...           ...             ...      ...  \n",
       "304        2     1        1             0               0  3500000  \n",
       "305        2     0        1             0               0  3200000  \n",
       "306        2     1        1             0               0  5000000  \n",
       "307        2     1        1             0               0  4000000  \n",
       "308        2     0        1             0               0  3500000  \n",
       "\n",
       "[309 rows x 21 columns]"
      ]
     },
     "execution_count": 28,
     "metadata": {},
     "output_type": "execute_result"
    }
   ],
   "source": [
    "\n",
    "data"
   ]
  },
  {
   "cell_type": "markdown",
   "id": "06f0af88",
   "metadata": {},
   "source": [
    "# Outlier Treatment "
   ]
  },
  {
   "cell_type": "code",
   "execution_count": 29,
   "id": "b3e3c6e6",
   "metadata": {},
   "outputs": [
    {
     "data": {
      "text/plain": [
       "<AxesSubplot: ylabel='Availability_of_resources'>"
      ]
     },
     "execution_count": 29,
     "metadata": {},
     "output_type": "execute_result"
    },
    {
     "data": {
      "image/png": "[encoded data removed]",
      "text/plain": [
       "<Figure size 432x288 with 1 Axes>"
      ]
     },
     "metadata": {
      "needs_background": "light"
     },
     "output_type": "display_data"
    }
   ],
   "source": [
    "sns.boxplot(data=data,y=\"Availability_of_resources\")"
   ]
  },
  {
   "cell_type": "code",
   "execution_count": 30,
   "id": "dce24d5a",
   "metadata": {},
   "outputs": [
    {
     "data": {
      "text/plain": [
       "3.0"
      ]
     },
     "execution_count": 30,
     "metadata": {},
     "output_type": "execute_result"
    }
   ],
   "source": [
    "iqr=data.Availability_of_resources.quantile(0.75)-data.Availability_of_resources.quantile(0.25)\n",
    "iqr"
   ]
  },
  {
   "cell_type": "code",
   "execution_count": 31,
   "id": "d5db96aa",
   "metadata": {
    "scrolled": true
   },
   "outputs": [
    {
     "name": "stdout",
     "output_type": "stream",
     "text": [
      "-2.0 19.0\n"
     ]
    }
   ],
   "source": [
    "lb=data[\"Availability_of_resources\"].quantile(0.25)-(iqr*3)\n",
    "ub=data[\"Availability_of_resources\"].quantile(0.75)+(iqr*3)\n",
    "print(lb,ub)"
   ]
  },
  {
   "cell_type": "code",
   "execution_count": 32,
   "id": "aba5933b",
   "metadata": {},
   "outputs": [],
   "source": [
    "data.loc[data[\"Availability_of_resources\"]>19.0,\"Availability_of_resources\"]=19.0\n",
    "data.loc[data[\"Availability_of_resources\"]<-2.0,\"Availability_of_resources\"]=-2.0"
   ]
  },
  {
   "cell_type": "code",
   "execution_count": 33,
   "id": "e1d655cf",
   "metadata": {},
   "outputs": [
    {
     "data": {
      "text/plain": [
       "<AxesSubplot: ylabel='Profession'>"
      ]
     },
     "execution_count": 33,
     "metadata": {},
     "output_type": "execute_result"
    },
    {
     "data": {
      "image/png": "[encoded data removed]",
      "text/plain": [
       "<Figure size 432x288 with 1 Axes>"
      ]
     },
     "metadata": {
      "needs_background": "light"
     },
     "output_type": "display_data"
    }
   ],
   "source": [
    "sns.boxplot(data=data,y=\"Profession\")"
   ]
  },
  {
   "cell_type": "code",
   "execution_count": 34,
   "id": "dc1b26da",
   "metadata": {},
   "outputs": [
    {
     "data": {
      "text/plain": [
       "3.0"
      ]
     },
     "execution_count": 34,
     "metadata": {},
     "output_type": "execute_result"
    }
   ],
   "source": [
    "iqr=data.Profession.quantile(0.75)-data.Profession.quantile(0.25)\n",
    "iqr"
   ]
  },
  {
   "cell_type": "code",
   "execution_count": 35,
   "id": "f3fd6390",
   "metadata": {},
   "outputs": [
    {
     "data": {
      "text/plain": [
       "count    309.000000\n",
       "mean       8.058252\n",
       "std        4.899957\n",
       "min        0.000000\n",
       "25%        6.000000\n",
       "50%        9.000000\n",
       "75%        9.000000\n",
       "max       17.000000\n",
       "Name: Profession, dtype: float64"
      ]
     },
     "execution_count": 35,
     "metadata": {},
     "output_type": "execute_result"
    }
   ],
   "source": [
    "data[\"Profession\"].describe()"
   ]
  },
  {
   "cell_type": "code",
   "execution_count": 36,
   "id": "ead657b4",
   "metadata": {},
   "outputs": [
    {
     "name": "stdout",
     "output_type": "stream",
     "text": [
      "-3.0 18.0\n"
     ]
    }
   ],
   "source": [
    "lb=data[\"Profession\"].quantile(0.25)-(iqr*3)\n",
    "ub=data[\"Profession\"].quantile(0.75)+(iqr*3)\n",
    "print(lb,ub)"
   ]
  },
  {
   "cell_type": "code",
   "execution_count": 37,
   "id": "bade322c",
   "metadata": {},
   "outputs": [],
   "source": [
    "data.loc[data[\"Profession\"]>18.0,\"Profession\"]=18.0\n",
    "data.loc[data[\"Profession\"]<-3.0,\"Profession\"]=-3.0"
   ]
  },
  {
   "cell_type": "code",
   "execution_count": 38,
   "id": "51dfa85e",
   "metadata": {},
   "outputs": [
    {
     "data": {
      "text/plain": [
       "4     148\n",
       "5      69\n",
       "3      50\n",
       "6      19\n",
       "2      12\n",
       "7       3\n",
       "9       3\n",
       "10      2\n",
       "12      1\n",
       "14      1\n",
       "8       1\n",
       "Name: Family_member, dtype: int64"
      ]
     },
     "execution_count": 38,
     "metadata": {},
     "output_type": "execute_result"
    }
   ],
   "source": [
    "data.Family_member.value_counts()"
   ]
  },
  {
   "cell_type": "code",
   "execution_count": 39,
   "id": "441f0b2a",
   "metadata": {},
   "outputs": [
    {
     "data": {
      "text/html": [
       "<div>\n",
       "<style scoped>\n",
       "    .dataframe tbody tr th:only-of-type {\n",
       "        vertical-align: middle;\n",
       "    }\n",
       "\n",
       "    .dataframe tbody tr th {\n",
       "        vertical-align: top;\n",
       "    }\n",
       "\n",
       "    .dataframe thead th {\n",
       "        text-align: right;\n",
       "    }\n",
       "</style>\n",
       "<table border=\"1\" class=\"dataframe\">\n",
       "  <thead>\n",
       "    <tr style=\"text-align: right;\">\n",
       "      <th></th>\n",
       "      <th>Profession</th>\n",
       "      <th>Annual_Income</th>\n",
       "      <th>Family_member</th>\n",
       "      <th>Family_earners</th>\n",
       "      <th>source_of_flat</th>\n",
       "      <th>Area</th>\n",
       "      <th>Location</th>\n",
       "      <th>Type_of_flat</th>\n",
       "      <th>Area_in_sqft</th>\n",
       "      <th>Amenities</th>\n",
       "      <th>...</th>\n",
       "      <th>Bathrooms</th>\n",
       "      <th>Availability_of_flat</th>\n",
       "      <th>No_floors_in_building</th>\n",
       "      <th>Floor_no</th>\n",
       "      <th>Balcony</th>\n",
       "      <th>Lift</th>\n",
       "      <th>Parking</th>\n",
       "      <th>Water_supply</th>\n",
       "      <th>Buying_of_Flat</th>\n",
       "      <th>Price</th>\n",
       "    </tr>\n",
       "  </thead>\n",
       "  <tbody>\n",
       "    <tr>\n",
       "      <th>0</th>\n",
       "      <td>9</td>\n",
       "      <td>450000</td>\n",
       "      <td>4</td>\n",
       "      <td>1</td>\n",
       "      <td>3</td>\n",
       "      <td>2</td>\n",
       "      <td>19</td>\n",
       "      <td>1</td>\n",
       "      <td>722</td>\n",
       "      <td>4</td>\n",
       "      <td>...</td>\n",
       "      <td>1</td>\n",
       "      <td>2023</td>\n",
       "      <td>3</td>\n",
       "      <td>1</td>\n",
       "      <td>2</td>\n",
       "      <td>0</td>\n",
       "      <td>1</td>\n",
       "      <td>1</td>\n",
       "      <td>0</td>\n",
       "      <td>2000000</td>\n",
       "    </tr>\n",
       "    <tr>\n",
       "      <th>1</th>\n",
       "      <td>17</td>\n",
       "      <td>1000000</td>\n",
       "      <td>4</td>\n",
       "      <td>3</td>\n",
       "      <td>3</td>\n",
       "      <td>5</td>\n",
       "      <td>19</td>\n",
       "      <td>2</td>\n",
       "      <td>1800</td>\n",
       "      <td>9</td>\n",
       "      <td>...</td>\n",
       "      <td>2</td>\n",
       "      <td>2010</td>\n",
       "      <td>4</td>\n",
       "      <td>2</td>\n",
       "      <td>1</td>\n",
       "      <td>0</td>\n",
       "      <td>1</td>\n",
       "      <td>0</td>\n",
       "      <td>0</td>\n",
       "      <td>2500000</td>\n",
       "    </tr>\n",
       "    <tr>\n",
       "      <th>2</th>\n",
       "      <td>9</td>\n",
       "      <td>200000</td>\n",
       "      <td>4</td>\n",
       "      <td>2</td>\n",
       "      <td>1</td>\n",
       "      <td>2</td>\n",
       "      <td>19</td>\n",
       "      <td>2</td>\n",
       "      <td>650</td>\n",
       "      <td>4</td>\n",
       "      <td>...</td>\n",
       "      <td>1</td>\n",
       "      <td>2005</td>\n",
       "      <td>3</td>\n",
       "      <td>2</td>\n",
       "      <td>3</td>\n",
       "      <td>0</td>\n",
       "      <td>1</td>\n",
       "      <td>0</td>\n",
       "      <td>0</td>\n",
       "      <td>500000</td>\n",
       "    </tr>\n",
       "    <tr>\n",
       "      <th>3</th>\n",
       "      <td>9</td>\n",
       "      <td>350000</td>\n",
       "      <td>4</td>\n",
       "      <td>1</td>\n",
       "      <td>0</td>\n",
       "      <td>2</td>\n",
       "      <td>19</td>\n",
       "      <td>1</td>\n",
       "      <td>400</td>\n",
       "      <td>12</td>\n",
       "      <td>...</td>\n",
       "      <td>1</td>\n",
       "      <td>2021</td>\n",
       "      <td>3</td>\n",
       "      <td>3</td>\n",
       "      <td>1</td>\n",
       "      <td>0</td>\n",
       "      <td>1</td>\n",
       "      <td>0</td>\n",
       "      <td>0</td>\n",
       "      <td>2000000</td>\n",
       "    </tr>\n",
       "    <tr>\n",
       "      <th>4</th>\n",
       "      <td>9</td>\n",
       "      <td>100000</td>\n",
       "      <td>5</td>\n",
       "      <td>1</td>\n",
       "      <td>1</td>\n",
       "      <td>2</td>\n",
       "      <td>19</td>\n",
       "      <td>3</td>\n",
       "      <td>1200</td>\n",
       "      <td>7</td>\n",
       "      <td>...</td>\n",
       "      <td>2</td>\n",
       "      <td>2023</td>\n",
       "      <td>4</td>\n",
       "      <td>3</td>\n",
       "      <td>1</td>\n",
       "      <td>0</td>\n",
       "      <td>1</td>\n",
       "      <td>0</td>\n",
       "      <td>0</td>\n",
       "      <td>2400000</td>\n",
       "    </tr>\n",
       "    <tr>\n",
       "      <th>...</th>\n",
       "      <td>...</td>\n",
       "      <td>...</td>\n",
       "      <td>...</td>\n",
       "      <td>...</td>\n",
       "      <td>...</td>\n",
       "      <td>...</td>\n",
       "      <td>...</td>\n",
       "      <td>...</td>\n",
       "      <td>...</td>\n",
       "      <td>...</td>\n",
       "      <td>...</td>\n",
       "      <td>...</td>\n",
       "      <td>...</td>\n",
       "      <td>...</td>\n",
       "      <td>...</td>\n",
       "      <td>...</td>\n",
       "      <td>...</td>\n",
       "      <td>...</td>\n",
       "      <td>...</td>\n",
       "      <td>...</td>\n",
       "      <td>...</td>\n",
       "    </tr>\n",
       "    <tr>\n",
       "      <th>304</th>\n",
       "      <td>9</td>\n",
       "      <td>1200000</td>\n",
       "      <td>4</td>\n",
       "      <td>2</td>\n",
       "      <td>3</td>\n",
       "      <td>3</td>\n",
       "      <td>30</td>\n",
       "      <td>2</td>\n",
       "      <td>900</td>\n",
       "      <td>2</td>\n",
       "      <td>...</td>\n",
       "      <td>2</td>\n",
       "      <td>2021</td>\n",
       "      <td>5</td>\n",
       "      <td>4</td>\n",
       "      <td>2</td>\n",
       "      <td>1</td>\n",
       "      <td>1</td>\n",
       "      <td>0</td>\n",
       "      <td>0</td>\n",
       "      <td>3500000</td>\n",
       "    </tr>\n",
       "    <tr>\n",
       "      <th>305</th>\n",
       "      <td>15</td>\n",
       "      <td>1000000</td>\n",
       "      <td>5</td>\n",
       "      <td>1</td>\n",
       "      <td>3</td>\n",
       "      <td>3</td>\n",
       "      <td>30</td>\n",
       "      <td>2</td>\n",
       "      <td>1000</td>\n",
       "      <td>10</td>\n",
       "      <td>...</td>\n",
       "      <td>2</td>\n",
       "      <td>2018</td>\n",
       "      <td>4</td>\n",
       "      <td>2</td>\n",
       "      <td>2</td>\n",
       "      <td>0</td>\n",
       "      <td>1</td>\n",
       "      <td>0</td>\n",
       "      <td>0</td>\n",
       "      <td>3200000</td>\n",
       "    </tr>\n",
       "    <tr>\n",
       "      <th>306</th>\n",
       "      <td>0</td>\n",
       "      <td>1400000</td>\n",
       "      <td>4</td>\n",
       "      <td>1</td>\n",
       "      <td>2</td>\n",
       "      <td>3</td>\n",
       "      <td>30</td>\n",
       "      <td>3</td>\n",
       "      <td>1300</td>\n",
       "      <td>1</td>\n",
       "      <td>...</td>\n",
       "      <td>3</td>\n",
       "      <td>2020</td>\n",
       "      <td>5</td>\n",
       "      <td>4</td>\n",
       "      <td>2</td>\n",
       "      <td>1</td>\n",
       "      <td>1</td>\n",
       "      <td>0</td>\n",
       "      <td>0</td>\n",
       "      <td>5000000</td>\n",
       "    </tr>\n",
       "    <tr>\n",
       "      <th>307</th>\n",
       "      <td>0</td>\n",
       "      <td>1600000</td>\n",
       "      <td>6</td>\n",
       "      <td>2</td>\n",
       "      <td>2</td>\n",
       "      <td>3</td>\n",
       "      <td>30</td>\n",
       "      <td>2</td>\n",
       "      <td>950</td>\n",
       "      <td>1</td>\n",
       "      <td>...</td>\n",
       "      <td>2</td>\n",
       "      <td>2022</td>\n",
       "      <td>4</td>\n",
       "      <td>4</td>\n",
       "      <td>2</td>\n",
       "      <td>1</td>\n",
       "      <td>1</td>\n",
       "      <td>0</td>\n",
       "      <td>0</td>\n",
       "      <td>4000000</td>\n",
       "    </tr>\n",
       "    <tr>\n",
       "      <th>308</th>\n",
       "      <td>9</td>\n",
       "      <td>1000000</td>\n",
       "      <td>4</td>\n",
       "      <td>2</td>\n",
       "      <td>3</td>\n",
       "      <td>3</td>\n",
       "      <td>30</td>\n",
       "      <td>2</td>\n",
       "      <td>850</td>\n",
       "      <td>1</td>\n",
       "      <td>...</td>\n",
       "      <td>2</td>\n",
       "      <td>2021</td>\n",
       "      <td>5</td>\n",
       "      <td>4</td>\n",
       "      <td>2</td>\n",
       "      <td>0</td>\n",
       "      <td>1</td>\n",
       "      <td>0</td>\n",
       "      <td>0</td>\n",
       "      <td>3500000</td>\n",
       "    </tr>\n",
       "  </tbody>\n",
       "</table>\n",
       "<p>309 rows × 21 columns</p>\n",
       "</div>"
      ],
      "text/plain": [
       "     Profession  Annual_Income   Family_member  Family_earners  \\\n",
       "0             9          450000              4               1   \n",
       "1            17         1000000              4               3   \n",
       "2             9          200000              4               2   \n",
       "3             9          350000              4               1   \n",
       "4             9          100000              5               1   \n",
       "..          ...             ...            ...             ...   \n",
       "304           9         1200000              4               2   \n",
       "305          15         1000000              5               1   \n",
       "306           0         1400000              4               1   \n",
       "307           0         1600000              6               2   \n",
       "308           9         1000000              4               2   \n",
       "\n",
       "     source_of_flat  Area  Location  Type_of_flat   Area_in_sqft  Amenities  \\\n",
       "0                 3     2        19              1           722          4   \n",
       "1                 3     5        19              2          1800          9   \n",
       "2                 1     2        19              2           650          4   \n",
       "3                 0     2        19              1           400         12   \n",
       "4                 1     2        19              3          1200          7   \n",
       "..              ...   ...       ...            ...           ...        ...   \n",
       "304               3     3        30              2           900          2   \n",
       "305               3     3        30              2          1000         10   \n",
       "306               2     3        30              3          1300          1   \n",
       "307               2     3        30              2           950          1   \n",
       "308               3     3        30              2           850          1   \n",
       "\n",
       "     ...  Bathrooms   Availability_of_flat  No_floors_in_building   Floor_no  \\\n",
       "0    ...           1                  2023                       3         1   \n",
       "1    ...           2                  2010                       4         2   \n",
       "2    ...           1                  2005                       3         2   \n",
       "3    ...           1                  2021                       3         3   \n",
       "4    ...           2                  2023                       4         3   \n",
       "..   ...         ...                   ...                     ...       ...   \n",
       "304  ...           2                  2021                       5         4   \n",
       "305  ...           2                  2018                       4         2   \n",
       "306  ...           3                  2020                       5         4   \n",
       "307  ...           2                  2022                       4         4   \n",
       "308  ...           2                  2021                       5         4   \n",
       "\n",
       "     Balcony  Lift  Parking  Water_supply  Buying_of_Flat    Price  \n",
       "0          2     0        1             1               0  2000000  \n",
       "1          1     0        1             0               0  2500000  \n",
       "2          3     0        1             0               0   500000  \n",
       "3          1     0        1             0               0  2000000  \n",
       "4          1     0        1             0               0  2400000  \n",
       "..       ...   ...      ...           ...             ...      ...  \n",
       "304        2     1        1             0               0  3500000  \n",
       "305        2     0        1             0               0  3200000  \n",
       "306        2     1        1             0               0  5000000  \n",
       "307        2     1        1             0               0  4000000  \n",
       "308        2     0        1             0               0  3500000  \n",
       "\n",
       "[309 rows x 21 columns]"
      ]
     },
     "execution_count": 39,
     "metadata": {},
     "output_type": "execute_result"
    }
   ],
   "source": [
    "data"
   ]
  },
  {
   "cell_type": "markdown",
   "id": "d76841f5",
   "metadata": {},
   "source": [
    "# EDA"
   ]
  },
  {
   "cell_type": "code",
   "execution_count": 40,
   "id": "30d11aba",
   "metadata": {},
   "outputs": [
    {
     "data": {
      "text/plain": [
       "0      2023\n",
       "1      2010\n",
       "2      2005\n",
       "3      2021\n",
       "4      2023\n",
       "       ... \n",
       "304    2021\n",
       "305    2018\n",
       "306    2020\n",
       "307    2022\n",
       "308    2021\n",
       "Name: Availability_of_flat, Length: 309, dtype: int64"
      ]
     },
     "execution_count": 40,
     "metadata": {},
     "output_type": "execute_result"
    }
   ],
   "source": [
    "x1=data[\"Availability_of_flat\"]\n",
    "x1"
   ]
  },
  {
   "cell_type": "code",
   "execution_count": 41,
   "id": "0c02cd0c",
   "metadata": {},
   "outputs": [],
   "source": [
    "x2=data[\"Price\"]"
   ]
  },
  {
   "cell_type": "code",
   "execution_count": 42,
   "id": "c6c1cf47",
   "metadata": {},
   "outputs": [
    {
     "data": {
      "image/png": "[encoded data removed]",
      "text/plain": [
       "<Figure size 432x288 with 1 Axes>"
      ]
     },
     "metadata": {
      "needs_background": "light"
     },
     "output_type": "display_data"
    }
   ],
   "source": [
    "plt.plot(x1,x2)\n",
    "plt.xlabel(\"Year\")\n",
    "plt.ylabel(\"Price\")\n",
    "plt.title(\"Price versus Year\")\n",
    "plt.show()"
   ]
  },
  {
   "cell_type": "code",
   "execution_count": 43,
   "id": "9d265b94",
   "metadata": {},
   "outputs": [
    {
     "data": {
      "image/png": "[encoded data removed]",
      "text/plain": [
       "<Figure size 432x288 with 1 Axes>"
      ]
     },
     "metadata": {
      "needs_background": "light"
     },
     "output_type": "display_data"
    }
   ],
   "source": [
    "sns.scatterplot(x=\"Area_in_sqft\", y=\"Price\", data=data)\n",
    "plt.show()"
   ]
  },
  {
   "cell_type": "code",
   "execution_count": 44,
   "id": "404d23c0",
   "metadata": {},
   "outputs": [
    {
     "data": {
      "image/png": "[encoded data removed]",
      "text/plain": [
       "<Figure size 432x288 with 1 Axes>"
      ]
     },
     "metadata": {
      "needs_background": "light"
     },
     "output_type": "display_data"
    }
   ],
   "source": [
    "sns.countplot(data[\"Area\"])\n",
    "plt.show()"
   ]
  },
  {
   "cell_type": "code",
   "execution_count": 45,
   "id": "305e928b",
   "metadata": {},
   "outputs": [
    {
     "data": {
      "image/png": "[encoded data removed]",
      "text/plain": [
       "<Figure size 432x288 with 1 Axes>"
      ]
     },
     "metadata": {
      "needs_background": "light"
     },
     "output_type": "display_data"
    }
   ],
   "source": [
    "plt.hist(data[\"Area_in_sqft\"],bins=50)\n",
    "plt.show()"
   ]
  },
  {
   "cell_type": "code",
   "execution_count": 46,
   "id": "01a4be0d",
   "metadata": {},
   "outputs": [
    {
     "data": {
      "image/png": "[encoded data removed]",
      "text/plain": [
       "<Figure size 1296x504 with 1 Axes>"
      ]
     },
     "metadata": {
      "needs_background": "light"
     },
     "output_type": "display_data"
    }
   ],
   "source": [
    "plt.figure(figsize=(18,7))\n",
    "sns.countplot(data[\"No_floors_in_building \"])\n",
    "plt.show()\n"
   ]
  },
  {
   "cell_type": "code",
   "execution_count": 47,
   "id": "57724c0e",
   "metadata": {},
   "outputs": [
    {
     "data": {
      "image/png": "[encoded data removed]",
      "text/plain": [
       "<Figure size 432x288 with 1 Axes>"
      ]
     },
     "metadata": {
      "needs_background": "light"
     },
     "output_type": "display_data"
    }
   ],
   "source": [
    "sns.scatterplot(x=\"Balcony\",y=\"Price\",data=data)\n",
    "plt.show()"
   ]
  },
  {
   "cell_type": "code",
   "execution_count": 48,
   "id": "0fd446a7",
   "metadata": {},
   "outputs": [
    {
     "data": {
      "image/png": "[encoded data removed]",
      "text/plain": [
       "<Figure size 432x288 with 1 Axes>"
      ]
     },
     "metadata": {
      "needs_background": "light"
     },
     "output_type": "display_data"
    }
   ],
   "source": [
    "temp = data.groupby(\"Balcony\")[\"Price\"].median()\n",
    "sns.barplot(x=temp.index, y=temp.values)\n",
    "plt.show()"
   ]
  },
  {
   "cell_type": "code",
   "execution_count": 49,
   "id": "aa660c95",
   "metadata": {},
   "outputs": [],
   "source": [
    "# According to this price of flat is higher if there is 2 balcony and lower for 4"
   ]
  },
  {
   "cell_type": "code",
   "execution_count": 50,
   "id": "02807682",
   "metadata": {},
   "outputs": [
    {
     "data": {
      "image/png": "[encoded data removed]",
      "text/plain": [
       "<Figure size 432x288 with 1 Axes>"
      ]
     },
     "metadata": {
      "needs_background": "light"
     },
     "output_type": "display_data"
    }
   ],
   "source": [
    "temp=data.groupby(\"Family_member\")[\"Price\"].median()\n",
    "sns.barplot(x=temp.index, y=temp.values)\n",
    "plt.show()"
   ]
  },
  {
   "cell_type": "code",
   "execution_count": 51,
   "id": "1e6045b6",
   "metadata": {},
   "outputs": [
    {
     "data": {
      "image/png": "[encoded data removed]",
      "text/plain": [
       "<Figure size 432x288 with 1 Axes>"
      ]
     },
     "metadata": {
      "needs_background": "light"
     },
     "output_type": "display_data"
    }
   ],
   "source": [
    "temp=data.groupby(\"Area_in_sqft\")[\"Price\"].median()\n",
    "sns.barplot(x=temp.index, y=temp.values)\n",
    "plt.show()"
   ]
  },
  {
   "cell_type": "code",
   "execution_count": 52,
   "id": "4fb91c7c",
   "metadata": {},
   "outputs": [
    {
     "data": {
      "image/png": "[encoded data removed]",
      "text/plain": [
       "<Figure size 432x288 with 1 Axes>"
      ]
     },
     "metadata": {
      "needs_background": "light"
     },
     "output_type": "display_data"
    }
   ],
   "source": [
    "temp=data.groupby(\"Floor_no\")[\"Price\"].median()\n",
    "sns.barplot(x=temp.index, y=temp.values)\n",
    "plt.show()"
   ]
  },
  {
   "cell_type": "code",
   "execution_count": 53,
   "id": "99b651ba",
   "metadata": {},
   "outputs": [
    {
     "data": {
      "image/png": "[encoded data removed]",
      "text/plain": [
       "<Figure size 432x288 with 1 Axes>"
      ]
     },
     "metadata": {
      "needs_background": "light"
     },
     "output_type": "display_data"
    }
   ],
   "source": [
    "sns.distplot(data['Price'], color = 'r')\n",
    "plt.title('Price Distribution', fontsize = 16)\n",
    "plt.xlabel('Price', fontsize = 14)\n",
    "plt.ylabel('Frequency', fontsize = 14)\n",
    "plt.xticks(fontsize = 12)\n",
    "plt.yticks(fontsize = 12)\n",
    "\n",
    "plt.savefig('distplot.png')\n",
    "plt.show()"
   ]
  },
  {
   "cell_type": "markdown",
   "id": "7b5c862c",
   "metadata": {},
   "source": [
    "# Linear Model"
   ]
  },
  {
   "cell_type": "code",
   "execution_count": 54,
   "id": "501a7359",
   "metadata": {},
   "outputs": [
    {
     "data": {
      "text/html": [
       "<div>\n",
       "<style scoped>\n",
       "    .dataframe tbody tr th:only-of-type {\n",
       "        vertical-align: middle;\n",
       "    }\n",
       "\n",
       "    .dataframe tbody tr th {\n",
       "        vertical-align: top;\n",
       "    }\n",
       "\n",
       "    .dataframe thead th {\n",
       "        text-align: right;\n",
       "    }\n",
       "</style>\n",
       "<table border=\"1\" class=\"dataframe\">\n",
       "  <thead>\n",
       "    <tr style=\"text-align: right;\">\n",
       "      <th></th>\n",
       "      <th>Profession</th>\n",
       "      <th>Annual_Income</th>\n",
       "      <th>Family_member</th>\n",
       "      <th>Family_earners</th>\n",
       "      <th>source_of_flat</th>\n",
       "      <th>Area</th>\n",
       "      <th>Location</th>\n",
       "      <th>Type_of_flat</th>\n",
       "      <th>Area_in_sqft</th>\n",
       "      <th>Amenities</th>\n",
       "      <th>...</th>\n",
       "      <th>Bathrooms</th>\n",
       "      <th>Availability_of_flat</th>\n",
       "      <th>No_floors_in_building</th>\n",
       "      <th>Floor_no</th>\n",
       "      <th>Balcony</th>\n",
       "      <th>Lift</th>\n",
       "      <th>Parking</th>\n",
       "      <th>Water_supply</th>\n",
       "      <th>Buying_of_Flat</th>\n",
       "      <th>Price</th>\n",
       "    </tr>\n",
       "  </thead>\n",
       "  <tbody>\n",
       "    <tr>\n",
       "      <th>0</th>\n",
       "      <td>9</td>\n",
       "      <td>450000</td>\n",
       "      <td>4</td>\n",
       "      <td>1</td>\n",
       "      <td>3</td>\n",
       "      <td>2</td>\n",
       "      <td>19</td>\n",
       "      <td>1</td>\n",
       "      <td>722</td>\n",
       "      <td>4</td>\n",
       "      <td>...</td>\n",
       "      <td>1</td>\n",
       "      <td>2023</td>\n",
       "      <td>3</td>\n",
       "      <td>1</td>\n",
       "      <td>2</td>\n",
       "      <td>0</td>\n",
       "      <td>1</td>\n",
       "      <td>1</td>\n",
       "      <td>0</td>\n",
       "      <td>2000000</td>\n",
       "    </tr>\n",
       "    <tr>\n",
       "      <th>1</th>\n",
       "      <td>17</td>\n",
       "      <td>1000000</td>\n",
       "      <td>4</td>\n",
       "      <td>3</td>\n",
       "      <td>3</td>\n",
       "      <td>5</td>\n",
       "      <td>19</td>\n",
       "      <td>2</td>\n",
       "      <td>1800</td>\n",
       "      <td>9</td>\n",
       "      <td>...</td>\n",
       "      <td>2</td>\n",
       "      <td>2010</td>\n",
       "      <td>4</td>\n",
       "      <td>2</td>\n",
       "      <td>1</td>\n",
       "      <td>0</td>\n",
       "      <td>1</td>\n",
       "      <td>0</td>\n",
       "      <td>0</td>\n",
       "      <td>2500000</td>\n",
       "    </tr>\n",
       "    <tr>\n",
       "      <th>2</th>\n",
       "      <td>9</td>\n",
       "      <td>200000</td>\n",
       "      <td>4</td>\n",
       "      <td>2</td>\n",
       "      <td>1</td>\n",
       "      <td>2</td>\n",
       "      <td>19</td>\n",
       "      <td>2</td>\n",
       "      <td>650</td>\n",
       "      <td>4</td>\n",
       "      <td>...</td>\n",
       "      <td>1</td>\n",
       "      <td>2005</td>\n",
       "      <td>3</td>\n",
       "      <td>2</td>\n",
       "      <td>3</td>\n",
       "      <td>0</td>\n",
       "      <td>1</td>\n",
       "      <td>0</td>\n",
       "      <td>0</td>\n",
       "      <td>500000</td>\n",
       "    </tr>\n",
       "    <tr>\n",
       "      <th>3</th>\n",
       "      <td>9</td>\n",
       "      <td>350000</td>\n",
       "      <td>4</td>\n",
       "      <td>1</td>\n",
       "      <td>0</td>\n",
       "      <td>2</td>\n",
       "      <td>19</td>\n",
       "      <td>1</td>\n",
       "      <td>400</td>\n",
       "      <td>12</td>\n",
       "      <td>...</td>\n",
       "      <td>1</td>\n",
       "      <td>2021</td>\n",
       "      <td>3</td>\n",
       "      <td>3</td>\n",
       "      <td>1</td>\n",
       "      <td>0</td>\n",
       "      <td>1</td>\n",
       "      <td>0</td>\n",
       "      <td>0</td>\n",
       "      <td>2000000</td>\n",
       "    </tr>\n",
       "    <tr>\n",
       "      <th>4</th>\n",
       "      <td>9</td>\n",
       "      <td>100000</td>\n",
       "      <td>5</td>\n",
       "      <td>1</td>\n",
       "      <td>1</td>\n",
       "      <td>2</td>\n",
       "      <td>19</td>\n",
       "      <td>3</td>\n",
       "      <td>1200</td>\n",
       "      <td>7</td>\n",
       "      <td>...</td>\n",
       "      <td>2</td>\n",
       "      <td>2023</td>\n",
       "      <td>4</td>\n",
       "      <td>3</td>\n",
       "      <td>1</td>\n",
       "      <td>0</td>\n",
       "      <td>1</td>\n",
       "      <td>0</td>\n",
       "      <td>0</td>\n",
       "      <td>2400000</td>\n",
       "    </tr>\n",
       "    <tr>\n",
       "      <th>...</th>\n",
       "      <td>...</td>\n",
       "      <td>...</td>\n",
       "      <td>...</td>\n",
       "      <td>...</td>\n",
       "      <td>...</td>\n",
       "      <td>...</td>\n",
       "      <td>...</td>\n",
       "      <td>...</td>\n",
       "      <td>...</td>\n",
       "      <td>...</td>\n",
       "      <td>...</td>\n",
       "      <td>...</td>\n",
       "      <td>...</td>\n",
       "      <td>...</td>\n",
       "      <td>...</td>\n",
       "      <td>...</td>\n",
       "      <td>...</td>\n",
       "      <td>...</td>\n",
       "      <td>...</td>\n",
       "      <td>...</td>\n",
       "      <td>...</td>\n",
       "    </tr>\n",
       "    <tr>\n",
       "      <th>304</th>\n",
       "      <td>9</td>\n",
       "      <td>1200000</td>\n",
       "      <td>4</td>\n",
       "      <td>2</td>\n",
       "      <td>3</td>\n",
       "      <td>3</td>\n",
       "      <td>30</td>\n",
       "      <td>2</td>\n",
       "      <td>900</td>\n",
       "      <td>2</td>\n",
       "      <td>...</td>\n",
       "      <td>2</td>\n",
       "      <td>2021</td>\n",
       "      <td>5</td>\n",
       "      <td>4</td>\n",
       "      <td>2</td>\n",
       "      <td>1</td>\n",
       "      <td>1</td>\n",
       "      <td>0</td>\n",
       "      <td>0</td>\n",
       "      <td>3500000</td>\n",
       "    </tr>\n",
       "    <tr>\n",
       "      <th>305</th>\n",
       "      <td>15</td>\n",
       "      <td>1000000</td>\n",
       "      <td>5</td>\n",
       "      <td>1</td>\n",
       "      <td>3</td>\n",
       "      <td>3</td>\n",
       "      <td>30</td>\n",
       "      <td>2</td>\n",
       "      <td>1000</td>\n",
       "      <td>10</td>\n",
       "      <td>...</td>\n",
       "      <td>2</td>\n",
       "      <td>2018</td>\n",
       "      <td>4</td>\n",
       "      <td>2</td>\n",
       "      <td>2</td>\n",
       "      <td>0</td>\n",
       "      <td>1</td>\n",
       "      <td>0</td>\n",
       "      <td>0</td>\n",
       "      <td>3200000</td>\n",
       "    </tr>\n",
       "    <tr>\n",
       "      <th>306</th>\n",
       "      <td>0</td>\n",
       "      <td>1400000</td>\n",
       "      <td>4</td>\n",
       "      <td>1</td>\n",
       "      <td>2</td>\n",
       "      <td>3</td>\n",
       "      <td>30</td>\n",
       "      <td>3</td>\n",
       "      <td>1300</td>\n",
       "      <td>1</td>\n",
       "      <td>...</td>\n",
       "      <td>3</td>\n",
       "      <td>2020</td>\n",
       "      <td>5</td>\n",
       "      <td>4</td>\n",
       "      <td>2</td>\n",
       "      <td>1</td>\n",
       "      <td>1</td>\n",
       "      <td>0</td>\n",
       "      <td>0</td>\n",
       "      <td>5000000</td>\n",
       "    </tr>\n",
       "    <tr>\n",
       "      <th>307</th>\n",
       "      <td>0</td>\n",
       "      <td>1600000</td>\n",
       "      <td>6</td>\n",
       "      <td>2</td>\n",
       "      <td>2</td>\n",
       "      <td>3</td>\n",
       "      <td>30</td>\n",
       "      <td>2</td>\n",
       "      <td>950</td>\n",
       "      <td>1</td>\n",
       "      <td>...</td>\n",
       "      <td>2</td>\n",
       "      <td>2022</td>\n",
       "      <td>4</td>\n",
       "      <td>4</td>\n",
       "      <td>2</td>\n",
       "      <td>1</td>\n",
       "      <td>1</td>\n",
       "      <td>0</td>\n",
       "      <td>0</td>\n",
       "      <td>4000000</td>\n",
       "    </tr>\n",
       "    <tr>\n",
       "      <th>308</th>\n",
       "      <td>9</td>\n",
       "      <td>1000000</td>\n",
       "      <td>4</td>\n",
       "      <td>2</td>\n",
       "      <td>3</td>\n",
       "      <td>3</td>\n",
       "      <td>30</td>\n",
       "      <td>2</td>\n",
       "      <td>850</td>\n",
       "      <td>1</td>\n",
       "      <td>...</td>\n",
       "      <td>2</td>\n",
       "      <td>2021</td>\n",
       "      <td>5</td>\n",
       "      <td>4</td>\n",
       "      <td>2</td>\n",
       "      <td>0</td>\n",
       "      <td>1</td>\n",
       "      <td>0</td>\n",
       "      <td>0</td>\n",
       "      <td>3500000</td>\n",
       "    </tr>\n",
       "  </tbody>\n",
       "</table>\n",
       "<p>309 rows × 21 columns</p>\n",
       "</div>"
      ],
      "text/plain": [
       "     Profession  Annual_Income   Family_member  Family_earners  \\\n",
       "0             9          450000              4               1   \n",
       "1            17         1000000              4               3   \n",
       "2             9          200000              4               2   \n",
       "3             9          350000              4               1   \n",
       "4             9          100000              5               1   \n",
       "..          ...             ...            ...             ...   \n",
       "304           9         1200000              4               2   \n",
       "305          15         1000000              5               1   \n",
       "306           0         1400000              4               1   \n",
       "307           0         1600000              6               2   \n",
       "308           9         1000000              4               2   \n",
       "\n",
       "     source_of_flat  Area  Location  Type_of_flat   Area_in_sqft  Amenities  \\\n",
       "0                 3     2        19              1           722          4   \n",
       "1                 3     5        19              2          1800          9   \n",
       "2                 1     2        19              2           650          4   \n",
       "3                 0     2        19              1           400         12   \n",
       "4                 1     2        19              3          1200          7   \n",
       "..              ...   ...       ...            ...           ...        ...   \n",
       "304               3     3        30              2           900          2   \n",
       "305               3     3        30              2          1000         10   \n",
       "306               2     3        30              3          1300          1   \n",
       "307               2     3        30              2           950          1   \n",
       "308               3     3        30              2           850          1   \n",
       "\n",
       "     ...  Bathrooms   Availability_of_flat  No_floors_in_building   Floor_no  \\\n",
       "0    ...           1                  2023                       3         1   \n",
       "1    ...           2                  2010                       4         2   \n",
       "2    ...           1                  2005                       3         2   \n",
       "3    ...           1                  2021                       3         3   \n",
       "4    ...           2                  2023                       4         3   \n",
       "..   ...         ...                   ...                     ...       ...   \n",
       "304  ...           2                  2021                       5         4   \n",
       "305  ...           2                  2018                       4         2   \n",
       "306  ...           3                  2020                       5         4   \n",
       "307  ...           2                  2022                       4         4   \n",
       "308  ...           2                  2021                       5         4   \n",
       "\n",
       "     Balcony  Lift  Parking  Water_supply  Buying_of_Flat    Price  \n",
       "0          2     0        1             1               0  2000000  \n",
       "1          1     0        1             0               0  2500000  \n",
       "2          3     0        1             0               0   500000  \n",
       "3          1     0        1             0               0  2000000  \n",
       "4          1     0        1             0               0  2400000  \n",
       "..       ...   ...      ...           ...             ...      ...  \n",
       "304        2     1        1             0               0  3500000  \n",
       "305        2     0        1             0               0  3200000  \n",
       "306        2     1        1             0               0  5000000  \n",
       "307        2     1        1             0               0  4000000  \n",
       "308        2     0        1             0               0  3500000  \n",
       "\n",
       "[309 rows x 21 columns]"
      ]
     },
     "execution_count": 54,
     "metadata": {},
     "output_type": "execute_result"
    }
   ],
   "source": [
    "data"
   ]
  },
  {
   "cell_type": "code",
   "execution_count": 55,
   "id": "75d6b461",
   "metadata": {},
   "outputs": [],
   "source": [
    "data_x=data.iloc[:,0:20]\n",
    "data_y=data.iloc[:,-1]"
   ]
  },
  {
   "cell_type": "code",
   "execution_count": 56,
   "id": "0066cc92",
   "metadata": {},
   "outputs": [
    {
     "data": {
      "text/html": [
       "<div>\n",
       "<style scoped>\n",
       "    .dataframe tbody tr th:only-of-type {\n",
       "        vertical-align: middle;\n",
       "    }\n",
       "\n",
       "    .dataframe tbody tr th {\n",
       "        vertical-align: top;\n",
       "    }\n",
       "\n",
       "    .dataframe thead th {\n",
       "        text-align: right;\n",
       "    }\n",
       "</style>\n",
       "<table border=\"1\" class=\"dataframe\">\n",
       "  <thead>\n",
       "    <tr style=\"text-align: right;\">\n",
       "      <th></th>\n",
       "      <th>Profession</th>\n",
       "      <th>Annual_Income</th>\n",
       "      <th>Family_member</th>\n",
       "      <th>Family_earners</th>\n",
       "      <th>source_of_flat</th>\n",
       "      <th>Area</th>\n",
       "      <th>Location</th>\n",
       "      <th>Type_of_flat</th>\n",
       "      <th>Area_in_sqft</th>\n",
       "      <th>Amenities</th>\n",
       "      <th>Availability_of_resources</th>\n",
       "      <th>Bathrooms</th>\n",
       "      <th>Availability_of_flat</th>\n",
       "      <th>No_floors_in_building</th>\n",
       "      <th>Floor_no</th>\n",
       "      <th>Balcony</th>\n",
       "      <th>Lift</th>\n",
       "      <th>Parking</th>\n",
       "      <th>Water_supply</th>\n",
       "      <th>Buying_of_Flat</th>\n",
       "    </tr>\n",
       "  </thead>\n",
       "  <tbody>\n",
       "    <tr>\n",
       "      <th>0</th>\n",
       "      <td>9</td>\n",
       "      <td>450000</td>\n",
       "      <td>4</td>\n",
       "      <td>1</td>\n",
       "      <td>3</td>\n",
       "      <td>2</td>\n",
       "      <td>19</td>\n",
       "      <td>1</td>\n",
       "      <td>722</td>\n",
       "      <td>4</td>\n",
       "      <td>9</td>\n",
       "      <td>1</td>\n",
       "      <td>2023</td>\n",
       "      <td>3</td>\n",
       "      <td>1</td>\n",
       "      <td>2</td>\n",
       "      <td>0</td>\n",
       "      <td>1</td>\n",
       "      <td>1</td>\n",
       "      <td>0</td>\n",
       "    </tr>\n",
       "    <tr>\n",
       "      <th>1</th>\n",
       "      <td>17</td>\n",
       "      <td>1000000</td>\n",
       "      <td>4</td>\n",
       "      <td>3</td>\n",
       "      <td>3</td>\n",
       "      <td>5</td>\n",
       "      <td>19</td>\n",
       "      <td>2</td>\n",
       "      <td>1800</td>\n",
       "      <td>9</td>\n",
       "      <td>7</td>\n",
       "      <td>2</td>\n",
       "      <td>2010</td>\n",
       "      <td>4</td>\n",
       "      <td>2</td>\n",
       "      <td>1</td>\n",
       "      <td>0</td>\n",
       "      <td>1</td>\n",
       "      <td>0</td>\n",
       "      <td>0</td>\n",
       "    </tr>\n",
       "    <tr>\n",
       "      <th>2</th>\n",
       "      <td>9</td>\n",
       "      <td>200000</td>\n",
       "      <td>4</td>\n",
       "      <td>2</td>\n",
       "      <td>1</td>\n",
       "      <td>2</td>\n",
       "      <td>19</td>\n",
       "      <td>2</td>\n",
       "      <td>650</td>\n",
       "      <td>4</td>\n",
       "      <td>11</td>\n",
       "      <td>1</td>\n",
       "      <td>2005</td>\n",
       "      <td>3</td>\n",
       "      <td>2</td>\n",
       "      <td>3</td>\n",
       "      <td>0</td>\n",
       "      <td>1</td>\n",
       "      <td>0</td>\n",
       "      <td>0</td>\n",
       "    </tr>\n",
       "    <tr>\n",
       "      <th>3</th>\n",
       "      <td>9</td>\n",
       "      <td>350000</td>\n",
       "      <td>4</td>\n",
       "      <td>1</td>\n",
       "      <td>0</td>\n",
       "      <td>2</td>\n",
       "      <td>19</td>\n",
       "      <td>1</td>\n",
       "      <td>400</td>\n",
       "      <td>12</td>\n",
       "      <td>8</td>\n",
       "      <td>1</td>\n",
       "      <td>2021</td>\n",
       "      <td>3</td>\n",
       "      <td>3</td>\n",
       "      <td>1</td>\n",
       "      <td>0</td>\n",
       "      <td>1</td>\n",
       "      <td>0</td>\n",
       "      <td>0</td>\n",
       "    </tr>\n",
       "    <tr>\n",
       "      <th>4</th>\n",
       "      <td>9</td>\n",
       "      <td>100000</td>\n",
       "      <td>5</td>\n",
       "      <td>1</td>\n",
       "      <td>1</td>\n",
       "      <td>2</td>\n",
       "      <td>19</td>\n",
       "      <td>3</td>\n",
       "      <td>1200</td>\n",
       "      <td>7</td>\n",
       "      <td>2</td>\n",
       "      <td>2</td>\n",
       "      <td>2023</td>\n",
       "      <td>4</td>\n",
       "      <td>3</td>\n",
       "      <td>1</td>\n",
       "      <td>0</td>\n",
       "      <td>1</td>\n",
       "      <td>0</td>\n",
       "      <td>0</td>\n",
       "    </tr>\n",
       "    <tr>\n",
       "      <th>...</th>\n",
       "      <td>...</td>\n",
       "      <td>...</td>\n",
       "      <td>...</td>\n",
       "      <td>...</td>\n",
       "      <td>...</td>\n",
       "      <td>...</td>\n",
       "      <td>...</td>\n",
       "      <td>...</td>\n",
       "      <td>...</td>\n",
       "      <td>...</td>\n",
       "      <td>...</td>\n",
       "      <td>...</td>\n",
       "      <td>...</td>\n",
       "      <td>...</td>\n",
       "      <td>...</td>\n",
       "      <td>...</td>\n",
       "      <td>...</td>\n",
       "      <td>...</td>\n",
       "      <td>...</td>\n",
       "      <td>...</td>\n",
       "    </tr>\n",
       "    <tr>\n",
       "      <th>304</th>\n",
       "      <td>9</td>\n",
       "      <td>1200000</td>\n",
       "      <td>4</td>\n",
       "      <td>2</td>\n",
       "      <td>3</td>\n",
       "      <td>3</td>\n",
       "      <td>30</td>\n",
       "      <td>2</td>\n",
       "      <td>900</td>\n",
       "      <td>2</td>\n",
       "      <td>10</td>\n",
       "      <td>2</td>\n",
       "      <td>2021</td>\n",
       "      <td>5</td>\n",
       "      <td>4</td>\n",
       "      <td>2</td>\n",
       "      <td>1</td>\n",
       "      <td>1</td>\n",
       "      <td>0</td>\n",
       "      <td>0</td>\n",
       "    </tr>\n",
       "    <tr>\n",
       "      <th>305</th>\n",
       "      <td>15</td>\n",
       "      <td>1000000</td>\n",
       "      <td>5</td>\n",
       "      <td>1</td>\n",
       "      <td>3</td>\n",
       "      <td>3</td>\n",
       "      <td>30</td>\n",
       "      <td>2</td>\n",
       "      <td>1000</td>\n",
       "      <td>10</td>\n",
       "      <td>10</td>\n",
       "      <td>2</td>\n",
       "      <td>2018</td>\n",
       "      <td>4</td>\n",
       "      <td>2</td>\n",
       "      <td>2</td>\n",
       "      <td>0</td>\n",
       "      <td>1</td>\n",
       "      <td>0</td>\n",
       "      <td>0</td>\n",
       "    </tr>\n",
       "    <tr>\n",
       "      <th>306</th>\n",
       "      <td>0</td>\n",
       "      <td>1400000</td>\n",
       "      <td>4</td>\n",
       "      <td>1</td>\n",
       "      <td>2</td>\n",
       "      <td>3</td>\n",
       "      <td>30</td>\n",
       "      <td>3</td>\n",
       "      <td>1300</td>\n",
       "      <td>1</td>\n",
       "      <td>10</td>\n",
       "      <td>3</td>\n",
       "      <td>2020</td>\n",
       "      <td>5</td>\n",
       "      <td>4</td>\n",
       "      <td>2</td>\n",
       "      <td>1</td>\n",
       "      <td>1</td>\n",
       "      <td>0</td>\n",
       "      <td>0</td>\n",
       "    </tr>\n",
       "    <tr>\n",
       "      <th>307</th>\n",
       "      <td>0</td>\n",
       "      <td>1600000</td>\n",
       "      <td>6</td>\n",
       "      <td>2</td>\n",
       "      <td>2</td>\n",
       "      <td>3</td>\n",
       "      <td>30</td>\n",
       "      <td>2</td>\n",
       "      <td>950</td>\n",
       "      <td>1</td>\n",
       "      <td>10</td>\n",
       "      <td>2</td>\n",
       "      <td>2022</td>\n",
       "      <td>4</td>\n",
       "      <td>4</td>\n",
       "      <td>2</td>\n",
       "      <td>1</td>\n",
       "      <td>1</td>\n",
       "      <td>0</td>\n",
       "      <td>0</td>\n",
       "    </tr>\n",
       "    <tr>\n",
       "      <th>308</th>\n",
       "      <td>9</td>\n",
       "      <td>1000000</td>\n",
       "      <td>4</td>\n",
       "      <td>2</td>\n",
       "      <td>3</td>\n",
       "      <td>3</td>\n",
       "      <td>30</td>\n",
       "      <td>2</td>\n",
       "      <td>850</td>\n",
       "      <td>1</td>\n",
       "      <td>10</td>\n",
       "      <td>2</td>\n",
       "      <td>2021</td>\n",
       "      <td>5</td>\n",
       "      <td>4</td>\n",
       "      <td>2</td>\n",
       "      <td>0</td>\n",
       "      <td>1</td>\n",
       "      <td>0</td>\n",
       "      <td>0</td>\n",
       "    </tr>\n",
       "  </tbody>\n",
       "</table>\n",
       "<p>309 rows × 20 columns</p>\n",
       "</div>"
      ],
      "text/plain": [
       "     Profession  Annual_Income   Family_member  Family_earners  \\\n",
       "0             9          450000              4               1   \n",
       "1            17         1000000              4               3   \n",
       "2             9          200000              4               2   \n",
       "3             9          350000              4               1   \n",
       "4             9          100000              5               1   \n",
       "..          ...             ...            ...             ...   \n",
       "304           9         1200000              4               2   \n",
       "305          15         1000000              5               1   \n",
       "306           0         1400000              4               1   \n",
       "307           0         1600000              6               2   \n",
       "308           9         1000000              4               2   \n",
       "\n",
       "     source_of_flat  Area  Location  Type_of_flat   Area_in_sqft  Amenities  \\\n",
       "0                 3     2        19              1           722          4   \n",
       "1                 3     5        19              2          1800          9   \n",
       "2                 1     2        19              2           650          4   \n",
       "3                 0     2        19              1           400         12   \n",
       "4                 1     2        19              3          1200          7   \n",
       "..              ...   ...       ...            ...           ...        ...   \n",
       "304               3     3        30              2           900          2   \n",
       "305               3     3        30              2          1000         10   \n",
       "306               2     3        30              3          1300          1   \n",
       "307               2     3        30              2           950          1   \n",
       "308               3     3        30              2           850          1   \n",
       "\n",
       "     Availability_of_resources  Bathrooms   Availability_of_flat  \\\n",
       "0                            9           1                  2023   \n",
       "1                            7           2                  2010   \n",
       "2                           11           1                  2005   \n",
       "3                            8           1                  2021   \n",
       "4                            2           2                  2023   \n",
       "..                         ...         ...                   ...   \n",
       "304                         10           2                  2021   \n",
       "305                         10           2                  2018   \n",
       "306                         10           3                  2020   \n",
       "307                         10           2                  2022   \n",
       "308                         10           2                  2021   \n",
       "\n",
       "     No_floors_in_building   Floor_no  Balcony  Lift  Parking  Water_supply  \\\n",
       "0                         3         1        2     0        1             1   \n",
       "1                         4         2        1     0        1             0   \n",
       "2                         3         2        3     0        1             0   \n",
       "3                         3         3        1     0        1             0   \n",
       "4                         4         3        1     0        1             0   \n",
       "..                      ...       ...      ...   ...      ...           ...   \n",
       "304                       5         4        2     1        1             0   \n",
       "305                       4         2        2     0        1             0   \n",
       "306                       5         4        2     1        1             0   \n",
       "307                       4         4        2     1        1             0   \n",
       "308                       5         4        2     0        1             0   \n",
       "\n",
       "     Buying_of_Flat  \n",
       "0                 0  \n",
       "1                 0  \n",
       "2                 0  \n",
       "3                 0  \n",
       "4                 0  \n",
       "..              ...  \n",
       "304               0  \n",
       "305               0  \n",
       "306               0  \n",
       "307               0  \n",
       "308               0  \n",
       "\n",
       "[309 rows x 20 columns]"
      ]
     },
     "execution_count": 56,
     "metadata": {},
     "output_type": "execute_result"
    }
   ],
   "source": [
    "data_x"
   ]
  },
  {
   "cell_type": "code",
   "execution_count": 57,
   "id": "c49bf853",
   "metadata": {},
   "outputs": [
    {
     "data": {
      "text/plain": [
       "0      2000000\n",
       "1      2500000\n",
       "2       500000\n",
       "3      2000000\n",
       "4      2400000\n",
       "        ...   \n",
       "304    3500000\n",
       "305    3200000\n",
       "306    5000000\n",
       "307    4000000\n",
       "308    3500000\n",
       "Name: Price, Length: 309, dtype: int64"
      ]
     },
     "execution_count": 57,
     "metadata": {},
     "output_type": "execute_result"
    }
   ],
   "source": [
    "data_y"
   ]
  },
  {
   "cell_type": "code",
   "execution_count": 58,
   "id": "b85dad9d",
   "metadata": {},
   "outputs": [],
   "source": [
    "import sklearn\n",
    "from sklearn.model_selection import train_test_split"
   ]
  },
  {
   "cell_type": "code",
   "execution_count": 59,
   "id": "00da1f0d",
   "metadata": {},
   "outputs": [],
   "source": [
    "b_x_train,b_x_test,b_y_train,b_y_test=train_test_split(data_x,data_y,test_size=0.2,random_state=101)"
   ]
  },
  {
   "cell_type": "code",
   "execution_count": 60,
   "id": "12883825",
   "metadata": {},
   "outputs": [
    {
     "data": {
      "text/plain": [
       "((247, 20), (62, 20), (247,), (62,))"
      ]
     },
     "execution_count": 60,
     "metadata": {},
     "output_type": "execute_result"
    }
   ],
   "source": [
    "b_x_train.shape,b_x_test.shape,b_y_train.shape,b_y_test.shape"
   ]
  },
  {
   "cell_type": "code",
   "execution_count": 61,
   "id": "c14eedf1",
   "metadata": {},
   "outputs": [],
   "source": [
    "from sklearn import linear_model\n",
    "lin=linear_model.LinearRegression()"
   ]
  },
  {
   "cell_type": "code",
   "execution_count": 62,
   "id": "aea25cf3",
   "metadata": {},
   "outputs": [
    {
     "data": {
      "text/plain": [
       "LinearRegression()"
      ]
     },
     "execution_count": 62,
     "metadata": {},
     "output_type": "execute_result"
    }
   ],
   "source": [
    "lin.fit(b_x_train,b_y_train)"
   ]
  },
  {
   "cell_type": "code",
   "execution_count": 63,
   "id": "c35f78d6",
   "metadata": {},
   "outputs": [
    {
     "data": {
      "text/plain": [
       "array([2940991.31388283, 1864356.52716477, 2359643.52582604,\n",
       "       2047922.99584637, 1441990.8320601 , 3061221.35990017,\n",
       "       3450542.86212682, 1534712.46326853, 4124953.86296242,\n",
       "       1134821.71197152, 1427273.0553149 , 2128550.81830724,\n",
       "       3288099.56149521, 1513579.78534446, 3759984.89874337,\n",
       "       2462143.5157284 , 4408812.49243766, 2925540.12478151,\n",
       "       1900606.21939073, 2264061.55798398, 1140371.05006114,\n",
       "       3110444.56570387, 2285972.7713747 , 1743502.22335372,\n",
       "       4064075.72306988, 2188138.52916925, 3140119.46378037,\n",
       "        584276.11241029, 2404514.03582391, 2449028.13220188,\n",
       "       3542633.04472117, 2320549.22778442, 2272950.38860288,\n",
       "       3390516.39463439, 3447360.7134414 , 1663127.06703368,\n",
       "       4073706.13218095, 3369404.76191875, 3155373.83921214,\n",
       "       2477942.63702651, 1739154.32568868, 1548376.88571169,\n",
       "       2138750.14648728, 1997243.14877249, 2014174.2652917 ,\n",
       "       1598611.84730628, 4714486.0872298 , 1989933.17250338,\n",
       "       6165221.47531909, 2852046.77564078, 4633025.19732082,\n",
       "       1725790.57387625, 2827638.02169312, 3299467.98054455,\n",
       "       2646728.02761437, 2275332.8227394 , 4592967.08187407,\n",
       "       1940371.49881133, 2314299.27461853, 3441518.47545533,\n",
       "       3061523.9577152 , 2277539.01755769])"
      ]
     },
     "execution_count": 63,
     "metadata": {},
     "output_type": "execute_result"
    }
   ],
   "source": [
    "lin_p=lin.predict(b_x_test)\n",
    "lin_p"
   ]
  },
  {
   "cell_type": "code",
   "execution_count": 64,
   "id": "efe8f6d2",
   "metadata": {},
   "outputs": [
    {
     "data": {
      "text/plain": [
       "array([ 4.35341042e+04,  6.39293413e-01,  1.48277957e+05, -2.36222915e+05,\n",
       "       -4.80219135e+04, -3.91301333e+04,  9.31823077e+03,  3.09735983e+04,\n",
       "        4.88804565e+02,  4.16910739e+04, -3.91483099e+04,  7.92655104e+05,\n",
       "        7.49943657e+02,  3.36833582e+05, -1.54694306e+05,  8.83610915e+04,\n",
       "        7.72470602e+05, -7.99979695e+05,  9.06879391e+04, -3.89606118e+05])"
      ]
     },
     "execution_count": 64,
     "metadata": {},
     "output_type": "execute_result"
    }
   ],
   "source": [
    "lin.coef_"
   ]
  },
  {
   "cell_type": "code",
   "execution_count": 65,
   "id": "2b9db1f2",
   "metadata": {},
   "outputs": [
    {
     "data": {
      "text/plain": [
       "-2253233.432302307"
      ]
     },
     "execution_count": 65,
     "metadata": {},
     "output_type": "execute_result"
    }
   ],
   "source": [
    "lin.intercept_"
   ]
  },
  {
   "cell_type": "code",
   "execution_count": 66,
   "id": "ce36740a",
   "metadata": {},
   "outputs": [
    {
     "data": {
      "text/plain": [
       "0.18369740875044538"
      ]
     },
     "execution_count": 66,
     "metadata": {},
     "output_type": "execute_result"
    }
   ],
   "source": [
    "R2=lin.score(b_x_train,b_y_train)\n",
    "R2"
   ]
  },
  {
   "cell_type": "code",
   "execution_count": 67,
   "id": "18631a01",
   "metadata": {},
   "outputs": [
    {
     "data": {
      "text/plain": [
       "0.12700972880255967"
      ]
     },
     "execution_count": 67,
     "metadata": {},
     "output_type": "execute_result"
    }
   ],
   "source": [
    "Adj_R2=1-(((1-R2)*(309-1))/(309-20-1))\n",
    "Adj_R2"
   ]
  },
  {
   "cell_type": "code",
   "execution_count": 68,
   "id": "919059f9",
   "metadata": {},
   "outputs": [],
   "source": [
    "from sklearn import metrics"
   ]
  },
  {
   "cell_type": "code",
   "execution_count": 69,
   "id": "919d126b",
   "metadata": {},
   "outputs": [
    {
     "data": {
      "text/plain": [
       "486061685090.4024"
      ]
     },
     "execution_count": 69,
     "metadata": {},
     "output_type": "execute_result"
    }
   ],
   "source": [
    "mse=metrics.mean_squared_error(b_y_test,lin_p)\n",
    "mse"
   ]
  },
  {
   "cell_type": "code",
   "execution_count": 70,
   "id": "4dee7ee7",
   "metadata": {},
   "outputs": [
    {
     "data": {
      "text/plain": [
       "697181.2426409667"
      ]
     },
     "execution_count": 70,
     "metadata": {},
     "output_type": "execute_result"
    }
   ],
   "source": [
    "#RMSE,MAPE\n",
    "\n",
    "rmse=pow(mse,0.5)\n",
    "rmse"
   ]
  },
  {
   "cell_type": "code",
   "execution_count": 71,
   "id": "204d9516",
   "metadata": {},
   "outputs": [
    {
     "data": {
      "text/html": [
       "<div>\n",
       "<style scoped>\n",
       "    .dataframe tbody tr th:only-of-type {\n",
       "        vertical-align: middle;\n",
       "    }\n",
       "\n",
       "    .dataframe tbody tr th {\n",
       "        vertical-align: top;\n",
       "    }\n",
       "\n",
       "    .dataframe thead th {\n",
       "        text-align: right;\n",
       "    }\n",
       "</style>\n",
       "<table border=\"1\" class=\"dataframe\">\n",
       "  <thead>\n",
       "    <tr style=\"text-align: right;\">\n",
       "      <th></th>\n",
       "      <th>Actual</th>\n",
       "      <th>Predicted</th>\n",
       "    </tr>\n",
       "  </thead>\n",
       "  <tbody>\n",
       "    <tr>\n",
       "      <th>273</th>\n",
       "      <td>2500000</td>\n",
       "      <td>2.940991e+06</td>\n",
       "    </tr>\n",
       "    <tr>\n",
       "      <th>8</th>\n",
       "      <td>1800000</td>\n",
       "      <td>1.864357e+06</td>\n",
       "    </tr>\n",
       "    <tr>\n",
       "      <th>293</th>\n",
       "      <td>2100000</td>\n",
       "      <td>2.359644e+06</td>\n",
       "    </tr>\n",
       "    <tr>\n",
       "      <th>130</th>\n",
       "      <td>1750000</td>\n",
       "      <td>2.047923e+06</td>\n",
       "    </tr>\n",
       "    <tr>\n",
       "      <th>204</th>\n",
       "      <td>1900000</td>\n",
       "      <td>1.441991e+06</td>\n",
       "    </tr>\n",
       "    <tr>\n",
       "      <th>...</th>\n",
       "      <td>...</td>\n",
       "      <td>...</td>\n",
       "    </tr>\n",
       "    <tr>\n",
       "      <th>201</th>\n",
       "      <td>2000000</td>\n",
       "      <td>1.940371e+06</td>\n",
       "    </tr>\n",
       "    <tr>\n",
       "      <th>206</th>\n",
       "      <td>1400000</td>\n",
       "      <td>2.314299e+06</td>\n",
       "    </tr>\n",
       "    <tr>\n",
       "      <th>48</th>\n",
       "      <td>2600000</td>\n",
       "      <td>3.441518e+06</td>\n",
       "    </tr>\n",
       "    <tr>\n",
       "      <th>183</th>\n",
       "      <td>2200000</td>\n",
       "      <td>3.061524e+06</td>\n",
       "    </tr>\n",
       "    <tr>\n",
       "      <th>181</th>\n",
       "      <td>2200000</td>\n",
       "      <td>2.277539e+06</td>\n",
       "    </tr>\n",
       "  </tbody>\n",
       "</table>\n",
       "<p>62 rows × 2 columns</p>\n",
       "</div>"
      ],
      "text/plain": [
       "      Actual     Predicted\n",
       "273  2500000  2.940991e+06\n",
       "8    1800000  1.864357e+06\n",
       "293  2100000  2.359644e+06\n",
       "130  1750000  2.047923e+06\n",
       "204  1900000  1.441991e+06\n",
       "..       ...           ...\n",
       "201  2000000  1.940371e+06\n",
       "206  1400000  2.314299e+06\n",
       "48   2600000  3.441518e+06\n",
       "183  2200000  3.061524e+06\n",
       "181  2200000  2.277539e+06\n",
       "\n",
       "[62 rows x 2 columns]"
      ]
     },
     "execution_count": 71,
     "metadata": {},
     "output_type": "execute_result"
    }
   ],
   "source": [
    "df1=pd.DataFrame({\"Actual\":b_y_test,\"Predicted\":lin_p})\n",
    "df1"
   ]
  },
  {
   "cell_type": "code",
   "execution_count": 72,
   "id": "236e6a46",
   "metadata": {},
   "outputs": [
    {
     "data": {
      "image/png": "[encoded data removed]",
      "text/plain": [
       "<Figure size 360x360 with 1 Axes>"
      ]
     },
     "metadata": {
      "needs_background": "light"
     },
     "output_type": "display_data"
    }
   ],
   "source": [
    "sns.lmplot(x=\"Actual\",y=\"Predicted\",data=df1,fit_reg=False)\n",
    "d_line=np.arange(df1.min().min(),df1.max().max())\n",
    "plt.plot(d_line,d_line,color=\"green\",linestyle=\"-\")\n",
    "plt.show()"
   ]
  },
  {
   "cell_type": "markdown",
   "id": "19075bdd",
   "metadata": {},
   "source": [
    "# Random forest Regressor"
   ]
  },
  {
   "cell_type": "code",
   "execution_count": 73,
   "id": "9d5c685e",
   "metadata": {},
   "outputs": [],
   "source": [
    "x=data.iloc[:,0:20]\n",
    "y=data.iloc[:,-1]"
   ]
  },
  {
   "cell_type": "code",
   "execution_count": 74,
   "id": "7d69040f",
   "metadata": {},
   "outputs": [],
   "source": [
    "import sklearn\n",
    "from sklearn.model_selection import train_test_split"
   ]
  },
  {
   "cell_type": "code",
   "execution_count": 75,
   "id": "42affcf3",
   "metadata": {},
   "outputs": [],
   "source": [
    "x_train,x_test,y_train,y_test=train_test_split(x,y,test_size=0.2,random_state=100)"
   ]
  },
  {
   "cell_type": "code",
   "execution_count": 76,
   "id": "42b896cf",
   "metadata": {},
   "outputs": [
    {
     "data": {
      "text/plain": [
       "((247, 20), (62, 20), (247,), (62,))"
      ]
     },
     "execution_count": 76,
     "metadata": {},
     "output_type": "execute_result"
    }
   ],
   "source": [
    "x_train.shape,x_test.shape,y_train.shape,y_test.shape"
   ]
  },
  {
   "cell_type": "code",
   "execution_count": 77,
   "id": "b08c5967",
   "metadata": {},
   "outputs": [],
   "source": [
    "from sklearn.ensemble import RandomForestRegressor\n",
    "rfr=RandomForestRegressor()"
   ]
  },
  {
   "cell_type": "code",
   "execution_count": 78,
   "id": "d840b4c8",
   "metadata": {},
   "outputs": [
    {
     "data": {
      "text/plain": [
       "RandomForestRegressor()"
      ]
     },
     "execution_count": 78,
     "metadata": {},
     "output_type": "execute_result"
    }
   ],
   "source": [
    "rfr.fit(x_train,y_train)      "
   ]
  },
  {
   "cell_type": "code",
   "execution_count": 79,
   "id": "94084d72",
   "metadata": {},
   "outputs": [],
   "source": [
    "rfr_p=rfr.predict(x_test)"
   ]
  },
  {
   "cell_type": "code",
   "execution_count": 80,
   "id": "1e3a3707",
   "metadata": {},
   "outputs": [
    {
     "data": {
      "text/plain": [
       "0.8470538724218306"
      ]
     },
     "execution_count": 80,
     "metadata": {},
     "output_type": "execute_result"
    }
   ],
   "source": [
    "rf_rsq=rfr.score(x_train,y_train)\n",
    "rf_rsq"
   ]
  },
  {
   "cell_type": "code",
   "execution_count": 81,
   "id": "20e64a7d",
   "metadata": {},
   "outputs": [
    {
     "data": {
      "text/plain": [
       "0.8364326135622355"
      ]
     },
     "execution_count": 81,
     "metadata": {},
     "output_type": "execute_result"
    }
   ],
   "source": [
    "rf_adr=1-(((1-rf_rsq)*(309-1))/(309-20-1))\n",
    "rf_adr"
   ]
  },
  {
   "cell_type": "code",
   "execution_count": 82,
   "id": "b7b8ed9a",
   "metadata": {},
   "outputs": [
    {
     "data": {
      "text/plain": [
       "802149685440.3226"
      ]
     },
     "execution_count": 82,
     "metadata": {},
     "output_type": "execute_result"
    }
   ],
   "source": [
    "rfr_MSE=metrics.mean_squared_error(y_test,rfr_p)\n",
    "rfr_MSE"
   ]
  },
  {
   "cell_type": "code",
   "execution_count": 83,
   "id": "b0fb87b7",
   "metadata": {},
   "outputs": [
    {
     "data": {
      "text/plain": [
       "895628.0954951796"
      ]
     },
     "execution_count": 83,
     "metadata": {},
     "output_type": "execute_result"
    }
   ],
   "source": [
    "rmse=pow(rfr_MSE,0.5)\n",
    "rmse"
   ]
  },
  {
   "cell_type": "code",
   "execution_count": 84,
   "id": "0cf03fdd",
   "metadata": {},
   "outputs": [],
   "source": [
    "#Prediction "
   ]
  },
  {
   "cell_type": "code",
   "execution_count": 85,
   "id": "c0ed469d",
   "metadata": {},
   "outputs": [
    {
     "data": {
      "text/plain": [
       "0.8470538724218306"
      ]
     },
     "execution_count": 85,
     "metadata": {},
     "output_type": "execute_result"
    }
   ],
   "source": [
    "rf_rsq=rfr.score(x_train,y_train)\n",
    "rf_rsq"
   ]
  },
  {
   "cell_type": "code",
   "execution_count": 86,
   "id": "51ba03c2",
   "metadata": {},
   "outputs": [
    {
     "data": {
      "text/plain": [
       "0.8369985906779371"
      ]
     },
     "execution_count": 86,
     "metadata": {},
     "output_type": "execute_result"
    }
   ],
   "source": [
    "rf_adr=1-(((1-rf_rsq)*(309-1))/(309-19-1))\n",
    "rf_adr"
   ]
  },
  {
   "cell_type": "code",
   "execution_count": 87,
   "id": "4845e874",
   "metadata": {},
   "outputs": [
    {
     "data": {
      "text/plain": [
       "802149685440.3226"
      ]
     },
     "execution_count": 87,
     "metadata": {},
     "output_type": "execute_result"
    }
   ],
   "source": [
    "rfr_MSE=metrics.mean_squared_error(y_test,rfr_p)\n",
    "rfr_MSE"
   ]
  },
  {
   "cell_type": "markdown",
   "id": "59ce9700",
   "metadata": {},
   "source": [
    "# Ada- Boost Regressor"
   ]
  },
  {
   "cell_type": "code",
   "execution_count": 88,
   "id": "2bc91007",
   "metadata": {},
   "outputs": [],
   "source": [
    "from sklearn.ensemble import AdaBoostRegressor\n",
    "ad=AdaBoostRegressor()"
   ]
  },
  {
   "cell_type": "code",
   "execution_count": 89,
   "id": "c30cbda1",
   "metadata": {},
   "outputs": [
    {
     "data": {
      "text/plain": [
       "AdaBoostRegressor()"
      ]
     },
     "execution_count": 89,
     "metadata": {},
     "output_type": "execute_result"
    }
   ],
   "source": [
    "ad.fit(x_train,y_train)"
   ]
  },
  {
   "cell_type": "code",
   "execution_count": 90,
   "id": "1e526eae",
   "metadata": {},
   "outputs": [],
   "source": [
    "ad_p=ad.predict(x_test)\n"
   ]
  },
  {
   "cell_type": "code",
   "execution_count": 91,
   "id": "c44b8d0e",
   "metadata": {},
   "outputs": [
    {
     "data": {
      "text/plain": [
       "0.9596091842641449"
      ]
     },
     "execution_count": 91,
     "metadata": {},
     "output_type": "execute_result"
    }
   ],
   "source": [
    "ad_rsq=ad.score(x_train,y_train)\n",
    "ad_rsq"
   ]
  },
  {
   "cell_type": "code",
   "execution_count": 92,
   "id": "da74a51e",
   "metadata": {},
   "outputs": [
    {
     "data": {
      "text/plain": [
       "0.9569537327105766"
      ]
     },
     "execution_count": 92,
     "metadata": {},
     "output_type": "execute_result"
    }
   ],
   "source": [
    "ad_adr=1-(((1-ad_rsq)*(309-1))/(309-19-1))\n",
    "ad_adr"
   ]
  },
  {
   "cell_type": "code",
   "execution_count": 93,
   "id": "ee9f27df",
   "metadata": {},
   "outputs": [
    {
     "data": {
      "text/plain": [
       "489454127558.949"
      ]
     },
     "execution_count": 93,
     "metadata": {},
     "output_type": "execute_result"
    }
   ],
   "source": [
    "ad_MSE=metrics.mean_squared_error(y_test,ad_p)\n",
    "ad_MSE"
   ]
  },
  {
   "cell_type": "code",
   "execution_count": 94,
   "id": "8b33b097",
   "metadata": {},
   "outputs": [
    {
     "data": {
      "text/plain": [
       "699609.9824609058"
      ]
     },
     "execution_count": 94,
     "metadata": {},
     "output_type": "execute_result"
    }
   ],
   "source": [
    "rmse=pow(ad_MSE,0.5)\n",
    "rmse"
   ]
  },
  {
   "cell_type": "markdown",
   "id": "adb3ad1a",
   "metadata": {},
   "source": [
    "# XG Boost Regressor"
   ]
  },
  {
   "cell_type": "code",
   "execution_count": 95,
   "id": "f1d9617b",
   "metadata": {},
   "outputs": [],
   "source": [
    "import xgboost"
   ]
  },
  {
   "cell_type": "code",
   "execution_count": 96,
   "id": "f80e0667",
   "metadata": {},
   "outputs": [],
   "source": [
    "from xgboost import  XGBRFRegressor\n",
    "xgb=XGBRFRegressor()"
   ]
  },
  {
   "cell_type": "code",
   "execution_count": 97,
   "id": "17499c16",
   "metadata": {},
   "outputs": [
    {
     "data": {
      "text/plain": [
       "XGBRFRegressor(base_score=None, booster=None, callbacks=None,\n",
       "               colsample_bylevel=None, colsample_bytree=None,\n",
       "               early_stopping_rounds=None, enable_categorical=False,\n",
       "               eval_metric=None, feature_types=None, gamma=None, gpu_id=None,\n",
       "               grow_policy=None, importance_type=None,\n",
       "               interaction_constraints=None, max_bin=None,\n",
       "               max_cat_threshold=None, max_cat_to_onehot=None,\n",
       "               max_delta_step=None, max_depth=None, max_leaves=None,\n",
       "               min_child_weight=None, missing=nan, monotone_constraints=None,\n",
       "               n_estimators=100, n_jobs=None, num_parallel_tree=None,\n",
       "               objective='reg:squarederror', predictor=None, random_state=None,\n",
       "               reg_alpha=None, ...)"
      ]
     },
     "execution_count": 97,
     "metadata": {},
     "output_type": "execute_result"
    }
   ],
   "source": [
    "xgb.fit(x_train,y_train)"
   ]
  },
  {
   "cell_type": "code",
   "execution_count": 98,
   "id": "a37ffb6b",
   "metadata": {},
   "outputs": [],
   "source": [
    "xgb_p=xgb.predict(x_test)"
   ]
  },
  {
   "cell_type": "code",
   "execution_count": 99,
   "id": "4ee32dc1",
   "metadata": {},
   "outputs": [
    {
     "data": {
      "text/plain": [
       "0.9384994683643112"
      ]
     },
     "execution_count": 99,
     "metadata": {},
     "output_type": "execute_result"
    }
   ],
   "source": [
    "xgb_rsq=xgb.score(x_train,y_train)\n",
    "xgb_rsq\n"
   ]
  },
  {
   "cell_type": "code",
   "execution_count": 100,
   "id": "da57afa2",
   "metadata": {},
   "outputs": [
    {
     "data": {
      "text/plain": [
       "0.9344561808173282"
      ]
     },
     "execution_count": 100,
     "metadata": {},
     "output_type": "execute_result"
    }
   ],
   "source": [
    "xgb_adr=1-(((1-xgb_rsq)*(309-1))/(309-19-1))\n",
    "xgb_adr"
   ]
  },
  {
   "cell_type": "code",
   "execution_count": 101,
   "id": "23ea6caa",
   "metadata": {},
   "outputs": [
    {
     "data": {
      "text/plain": [
       "648895879254.6537"
      ]
     },
     "execution_count": 101,
     "metadata": {},
     "output_type": "execute_result"
    }
   ],
   "source": [
    "xgb_mse=metrics.mean_squared_error(y_test,xgb_p)\n",
    "xgb_mse"
   ]
  },
  {
   "cell_type": "code",
   "execution_count": 102,
   "id": "3a236be1",
   "metadata": {},
   "outputs": [
    {
     "data": {
      "text/plain": [
       "805540.7371788553"
      ]
     },
     "execution_count": 102,
     "metadata": {},
     "output_type": "execute_result"
    }
   ],
   "source": [
    "rmse=pow(xgb_mse,0.5)\n",
    "rmse"
   ]
  },
  {
   "cell_type": "code",
   "execution_count": 103,
   "id": "01ad8808",
   "metadata": {},
   "outputs": [],
   "source": [
    "list1=[\"LinearRegression\",\"Random forest Regressor\",\"Ada- Boost Regressor\",\"XG Boost Regressor\",]\n",
    "list2=[R2,rf_rsq,ad_rsq,xgb_rsq]\n",
    "list3=[Adj_R2,rf_adr,ad_adr,xgb_adr]\n",
    "list4=[mse,rfr_MSE,ad_MSE,xgb_mse]"
   ]
  },
  {
   "cell_type": "code",
   "execution_count": 104,
   "id": "c2fb6505",
   "metadata": {},
   "outputs": [
    {
     "data": {
      "text/html": [
       "<div>\n",
       "<style scoped>\n",
       "    .dataframe tbody tr th:only-of-type {\n",
       "        vertical-align: middle;\n",
       "    }\n",
       "\n",
       "    .dataframe tbody tr th {\n",
       "        vertical-align: top;\n",
       "    }\n",
       "\n",
       "    .dataframe thead th {\n",
       "        text-align: right;\n",
       "    }\n",
       "</style>\n",
       "<table border=\"1\" class=\"dataframe\">\n",
       "  <thead>\n",
       "    <tr style=\"text-align: right;\">\n",
       "      <th></th>\n",
       "      <th>Model_Name</th>\n",
       "      <th>R-square</th>\n",
       "      <th>Adj_R2</th>\n",
       "      <th>MSE</th>\n",
       "    </tr>\n",
       "  </thead>\n",
       "  <tbody>\n",
       "    <tr>\n",
       "      <th>0</th>\n",
       "      <td>LinearRegression</td>\n",
       "      <td>0.183697</td>\n",
       "      <td>0.127010</td>\n",
       "      <td>4.860617e+11</td>\n",
       "    </tr>\n",
       "    <tr>\n",
       "      <th>1</th>\n",
       "      <td>Random forest Regressor</td>\n",
       "      <td>0.847054</td>\n",
       "      <td>0.836999</td>\n",
       "      <td>8.021497e+11</td>\n",
       "    </tr>\n",
       "    <tr>\n",
       "      <th>2</th>\n",
       "      <td>Ada- Boost Regressor</td>\n",
       "      <td>0.959609</td>\n",
       "      <td>0.956954</td>\n",
       "      <td>4.894541e+11</td>\n",
       "    </tr>\n",
       "    <tr>\n",
       "      <th>3</th>\n",
       "      <td>XG Boost Regressor</td>\n",
       "      <td>0.938499</td>\n",
       "      <td>0.934456</td>\n",
       "      <td>6.488959e+11</td>\n",
       "    </tr>\n",
       "  </tbody>\n",
       "</table>\n",
       "</div>"
      ],
      "text/plain": [
       "                Model_Name  R-square    Adj_R2           MSE\n",
       "0         LinearRegression  0.183697  0.127010  4.860617e+11\n",
       "1  Random forest Regressor  0.847054  0.836999  8.021497e+11\n",
       "2     Ada- Boost Regressor  0.959609  0.956954  4.894541e+11\n",
       "3       XG Boost Regressor  0.938499  0.934456  6.488959e+11"
      ]
     },
     "execution_count": 104,
     "metadata": {},
     "output_type": "execute_result"
    }
   ],
   "source": [
    "final_result=pd.DataFrame({\"Model_Name\":list1,\"R-square\":list2,\"Adj_R2\":list3,\"MSE\":list4})\n",
    "final_result"
   ]
  },
  {
   "cell_type": "markdown",
   "id": "5e421064",
   "metadata": {},
   "source": [
    "# NLP"
   ]
  },
  {
   "cell_type": "code",
   "execution_count": 105,
   "id": "47a784e4",
   "metadata": {},
   "outputs": [
    {
     "data": {
      "text/html": [
       "<div>\n",
       "<style scoped>\n",
       "    .dataframe tbody tr th:only-of-type {\n",
       "        vertical-align: middle;\n",
       "    }\n",
       "\n",
       "    .dataframe tbody tr th {\n",
       "        vertical-align: top;\n",
       "    }\n",
       "\n",
       "    .dataframe thead th {\n",
       "        text-align: right;\n",
       "    }\n",
       "</style>\n",
       "<table border=\"1\" class=\"dataframe\">\n",
       "  <thead>\n",
       "    <tr style=\"text-align: right;\">\n",
       "      <th></th>\n",
       "      <th>Profession</th>\n",
       "      <th>Annual_Income</th>\n",
       "      <th>Family_member</th>\n",
       "      <th>Family_earners</th>\n",
       "      <th>source_of_flat</th>\n",
       "      <th>Area</th>\n",
       "      <th>Location</th>\n",
       "      <th>Type_of_flat</th>\n",
       "      <th>Area_in_sqft</th>\n",
       "      <th>Amenities</th>\n",
       "      <th>...</th>\n",
       "      <th>Bathrooms</th>\n",
       "      <th>Availability_of_flat</th>\n",
       "      <th>No_floors_in_building</th>\n",
       "      <th>Floor_no</th>\n",
       "      <th>Balcony</th>\n",
       "      <th>Lift</th>\n",
       "      <th>Parking</th>\n",
       "      <th>Water_supply</th>\n",
       "      <th>Buying_of_Flat</th>\n",
       "      <th>Price</th>\n",
       "    </tr>\n",
       "  </thead>\n",
       "  <tbody>\n",
       "    <tr>\n",
       "      <th>0</th>\n",
       "      <td>Job</td>\n",
       "      <td>450000</td>\n",
       "      <td>4</td>\n",
       "      <td>1</td>\n",
       "      <td>Friend</td>\n",
       "      <td>Built-up</td>\n",
       "      <td>Near TC College</td>\n",
       "      <td>1</td>\n",
       "      <td>722</td>\n",
       "      <td>Children Play ground</td>\n",
       "      <td>...</td>\n",
       "      <td>1</td>\n",
       "      <td>2023</td>\n",
       "      <td>3</td>\n",
       "      <td>1</td>\n",
       "      <td>2</td>\n",
       "      <td>No</td>\n",
       "      <td>Yes</td>\n",
       "      <td>One day later</td>\n",
       "      <td>By EMI</td>\n",
       "      <td>2000000</td>\n",
       "    </tr>\n",
       "    <tr>\n",
       "      <th>1</th>\n",
       "      <td>Treding</td>\n",
       "      <td>1000000</td>\n",
       "      <td>4</td>\n",
       "      <td>3</td>\n",
       "      <td>Friend</td>\n",
       "      <td>Super built-up</td>\n",
       "      <td>Near TC College</td>\n",
       "      <td>2</td>\n",
       "      <td>1800</td>\n",
       "      <td>Garden, Children Play ground</td>\n",
       "      <td>...</td>\n",
       "      <td>2</td>\n",
       "      <td>2010</td>\n",
       "      <td>4</td>\n",
       "      <td>2</td>\n",
       "      <td>1</td>\n",
       "      <td>No</td>\n",
       "      <td>Yes</td>\n",
       "      <td>Everyday</td>\n",
       "      <td>By EMI</td>\n",
       "      <td>2500000</td>\n",
       "    </tr>\n",
       "    <tr>\n",
       "      <th>2</th>\n",
       "      <td>Job</td>\n",
       "      <td>200000</td>\n",
       "      <td>4</td>\n",
       "      <td>2</td>\n",
       "      <td>Dealer</td>\n",
       "      <td>Built-up</td>\n",
       "      <td>Near TC College</td>\n",
       "      <td>2</td>\n",
       "      <td>650</td>\n",
       "      <td>Children Play ground</td>\n",
       "      <td>...</td>\n",
       "      <td>1</td>\n",
       "      <td>2005</td>\n",
       "      <td>3</td>\n",
       "      <td>2</td>\n",
       "      <td>3</td>\n",
       "      <td>No</td>\n",
       "      <td>Yes</td>\n",
       "      <td>Everyday</td>\n",
       "      <td>By EMI</td>\n",
       "      <td>500000</td>\n",
       "    </tr>\n",
       "    <tr>\n",
       "      <th>3</th>\n",
       "      <td>Job</td>\n",
       "      <td>350000</td>\n",
       "      <td>4</td>\n",
       "      <td>1</td>\n",
       "      <td>Advertisement</td>\n",
       "      <td>Built-up</td>\n",
       "      <td>Near TC College</td>\n",
       "      <td>1</td>\n",
       "      <td>400</td>\n",
       "      <td>No</td>\n",
       "      <td>...</td>\n",
       "      <td>1</td>\n",
       "      <td>2021</td>\n",
       "      <td>3</td>\n",
       "      <td>3</td>\n",
       "      <td>1</td>\n",
       "      <td>No</td>\n",
       "      <td>Yes</td>\n",
       "      <td>Everyday</td>\n",
       "      <td>By EMI</td>\n",
       "      <td>2000000</td>\n",
       "    </tr>\n",
       "    <tr>\n",
       "      <th>4</th>\n",
       "      <td>Job</td>\n",
       "      <td>100000</td>\n",
       "      <td>5</td>\n",
       "      <td>1</td>\n",
       "      <td>Dealer</td>\n",
       "      <td>Built-up</td>\n",
       "      <td>Near TC College</td>\n",
       "      <td>3</td>\n",
       "      <td>1200</td>\n",
       "      <td>Garden</td>\n",
       "      <td>...</td>\n",
       "      <td>2</td>\n",
       "      <td>2023</td>\n",
       "      <td>4</td>\n",
       "      <td>3</td>\n",
       "      <td>1</td>\n",
       "      <td>No</td>\n",
       "      <td>Yes</td>\n",
       "      <td>Everyday</td>\n",
       "      <td>By EMI</td>\n",
       "      <td>2400000</td>\n",
       "    </tr>\n",
       "    <tr>\n",
       "      <th>...</th>\n",
       "      <td>...</td>\n",
       "      <td>...</td>\n",
       "      <td>...</td>\n",
       "      <td>...</td>\n",
       "      <td>...</td>\n",
       "      <td>...</td>\n",
       "      <td>...</td>\n",
       "      <td>...</td>\n",
       "      <td>...</td>\n",
       "      <td>...</td>\n",
       "      <td>...</td>\n",
       "      <td>...</td>\n",
       "      <td>...</td>\n",
       "      <td>...</td>\n",
       "      <td>...</td>\n",
       "      <td>...</td>\n",
       "      <td>...</td>\n",
       "      <td>...</td>\n",
       "      <td>...</td>\n",
       "      <td>...</td>\n",
       "      <td>...</td>\n",
       "    </tr>\n",
       "    <tr>\n",
       "      <th>304</th>\n",
       "      <td>Job</td>\n",
       "      <td>1200000</td>\n",
       "      <td>4</td>\n",
       "      <td>2</td>\n",
       "      <td>Friend</td>\n",
       "      <td>Super built-up</td>\n",
       "      <td>Sahyog Society</td>\n",
       "      <td>2</td>\n",
       "      <td>900</td>\n",
       "      <td>Auditoriam Garden, Children Play ground</td>\n",
       "      <td>...</td>\n",
       "      <td>2</td>\n",
       "      <td>2021</td>\n",
       "      <td>5</td>\n",
       "      <td>4</td>\n",
       "      <td>2</td>\n",
       "      <td>Yes</td>\n",
       "      <td>Yes</td>\n",
       "      <td>Everyday</td>\n",
       "      <td>By EMI</td>\n",
       "      <td>3500000</td>\n",
       "    </tr>\n",
       "    <tr>\n",
       "      <th>305</th>\n",
       "      <td>Teacher</td>\n",
       "      <td>1000000</td>\n",
       "      <td>5</td>\n",
       "      <td>1</td>\n",
       "      <td>Friend</td>\n",
       "      <td>Super built-up</td>\n",
       "      <td>Sahyog Society</td>\n",
       "      <td>2</td>\n",
       "      <td>1000</td>\n",
       "      <td>Garden, Children Play ground</td>\n",
       "      <td>...</td>\n",
       "      <td>2</td>\n",
       "      <td>2018</td>\n",
       "      <td>4</td>\n",
       "      <td>2</td>\n",
       "      <td>2</td>\n",
       "      <td>No</td>\n",
       "      <td>Yes</td>\n",
       "      <td>Everyday</td>\n",
       "      <td>By EMI</td>\n",
       "      <td>3200000</td>\n",
       "    </tr>\n",
       "    <tr>\n",
       "      <th>306</th>\n",
       "      <td>Business</td>\n",
       "      <td>1400000</td>\n",
       "      <td>4</td>\n",
       "      <td>1</td>\n",
       "      <td>Dealers</td>\n",
       "      <td>Super built-up</td>\n",
       "      <td>Sahyog Society</td>\n",
       "      <td>3</td>\n",
       "      <td>1300</td>\n",
       "      <td>Auditoriam Children Play ground</td>\n",
       "      <td>...</td>\n",
       "      <td>3</td>\n",
       "      <td>2020</td>\n",
       "      <td>5</td>\n",
       "      <td>4</td>\n",
       "      <td>2</td>\n",
       "      <td>Yes</td>\n",
       "      <td>Yes</td>\n",
       "      <td>Everyday</td>\n",
       "      <td>By EMI</td>\n",
       "      <td>5000000</td>\n",
       "    </tr>\n",
       "    <tr>\n",
       "      <th>307</th>\n",
       "      <td>Business</td>\n",
       "      <td>1600000</td>\n",
       "      <td>6</td>\n",
       "      <td>2</td>\n",
       "      <td>Dealers</td>\n",
       "      <td>Super built-up</td>\n",
       "      <td>Sahyog Society</td>\n",
       "      <td>2</td>\n",
       "      <td>950</td>\n",
       "      <td>Auditoriam Children Play ground</td>\n",
       "      <td>...</td>\n",
       "      <td>2</td>\n",
       "      <td>2022</td>\n",
       "      <td>4</td>\n",
       "      <td>4</td>\n",
       "      <td>2</td>\n",
       "      <td>Yes</td>\n",
       "      <td>Yes</td>\n",
       "      <td>Everyday</td>\n",
       "      <td>By EMI</td>\n",
       "      <td>4000000</td>\n",
       "    </tr>\n",
       "    <tr>\n",
       "      <th>308</th>\n",
       "      <td>Job</td>\n",
       "      <td>1000000</td>\n",
       "      <td>4</td>\n",
       "      <td>2</td>\n",
       "      <td>Friend</td>\n",
       "      <td>Super built-up</td>\n",
       "      <td>Sahyog Society</td>\n",
       "      <td>2</td>\n",
       "      <td>850</td>\n",
       "      <td>Auditoriam Children Play ground</td>\n",
       "      <td>...</td>\n",
       "      <td>2</td>\n",
       "      <td>2021</td>\n",
       "      <td>5</td>\n",
       "      <td>4</td>\n",
       "      <td>2</td>\n",
       "      <td>No</td>\n",
       "      <td>Yes</td>\n",
       "      <td>Everyday</td>\n",
       "      <td>By EMI</td>\n",
       "      <td>3500000</td>\n",
       "    </tr>\n",
       "  </tbody>\n",
       "</table>\n",
       "<p>309 rows × 21 columns</p>\n",
       "</div>"
      ],
      "text/plain": [
       "    Profession  Annual_Income   Family_member  Family_earners source_of_flat  \\\n",
       "0          Job          450000              4               1         Friend   \n",
       "1     Treding          1000000              4               3         Friend   \n",
       "2          Job          200000              4               2         Dealer   \n",
       "3          Job          350000              4               1  Advertisement   \n",
       "4          Job          100000              5               1         Dealer   \n",
       "..         ...             ...            ...             ...            ...   \n",
       "304        Job         1200000              4               2         Friend   \n",
       "305    Teacher         1000000              5               1         Friend   \n",
       "306   Business         1400000              4               1        Dealers   \n",
       "307   Business         1600000              6               2        Dealers   \n",
       "308        Job         1000000              4               2         Friend   \n",
       "\n",
       "                 Area         Location  Type_of_flat   Area_in_sqft  \\\n",
       "0           Built-up   Near TC College              1           722   \n",
       "1    Super built-up    Near TC College              2          1800   \n",
       "2           Built-up   Near TC College              2           650   \n",
       "3           Built-up   Near TC College              1           400   \n",
       "4           Built-up   Near TC College              3          1200   \n",
       "..                ...              ...            ...           ...   \n",
       "304    Super built-up   Sahyog Society              2           900   \n",
       "305    Super built-up   Sahyog Society              2          1000   \n",
       "306    Super built-up   Sahyog Society              3          1300   \n",
       "307    Super built-up   Sahyog Society              2           950   \n",
       "308    Super built-up   Sahyog Society              2           850   \n",
       "\n",
       "                                    Amenities  ... Bathrooms   \\\n",
       "0                        Children Play ground  ...          1   \n",
       "1                Garden, Children Play ground  ...          2   \n",
       "2                        Children Play ground  ...          1   \n",
       "3                                          No  ...          1   \n",
       "4                                      Garden  ...          2   \n",
       "..                                        ...  ...        ...   \n",
       "304  Auditoriam Garden, Children Play ground   ...          2   \n",
       "305             Garden, Children Play ground   ...          2   \n",
       "306          Auditoriam Children Play ground   ...          3   \n",
       "307          Auditoriam Children Play ground   ...          2   \n",
       "308          Auditoriam Children Play ground   ...          2   \n",
       "\n",
       "     Availability_of_flat  No_floors_in_building   Floor_no  Balcony  Lift  \\\n",
       "0                    2023                       3         1        2    No   \n",
       "1                    2010                       4         2        1    No   \n",
       "2                    2005                       3         2        3    No   \n",
       "3                    2021                       3         3        1    No   \n",
       "4                    2023                       4         3        1    No   \n",
       "..                    ...                     ...       ...      ...   ...   \n",
       "304                  2021                       5         4        2   Yes   \n",
       "305                  2018                       4         2        2    No   \n",
       "306                  2020                       5         4        2   Yes   \n",
       "307                  2022                       4         4        2   Yes   \n",
       "308                  2021                       5         4        2    No   \n",
       "\n",
       "    Parking   Water_supply Buying_of_Flat    Price  \n",
       "0       Yes  One day later         By EMI  2000000  \n",
       "1       Yes       Everyday         By EMI  2500000  \n",
       "2       Yes       Everyday         By EMI   500000  \n",
       "3       Yes       Everyday         By EMI  2000000  \n",
       "4       Yes       Everyday         By EMI  2400000  \n",
       "..      ...            ...            ...      ...  \n",
       "304     Yes       Everyday         By EMI  3500000  \n",
       "305     Yes       Everyday         By EMI  3200000  \n",
       "306     Yes       Everyday         By EMI  5000000  \n",
       "307     Yes       Everyday         By EMI  4000000  \n",
       "308     Yes       Everyday         By EMI  3500000  \n",
       "\n",
       "[309 rows x 21 columns]"
      ]
     },
     "execution_count": 105,
     "metadata": {},
     "output_type": "execute_result"
    }
   ],
   "source": [
    "nlp=pd.read_excel(r\"C:\\Users\\Lenovo\\Documents\\MSC Project\\Data (1).xlsx\")\n",
    "nlp"
   ]
  },
  {
   "cell_type": "code",
   "execution_count": 106,
   "id": "e09e55e7",
   "metadata": {},
   "outputs": [
    {
     "data": {
      "text/plain": [
       "<matplotlib.image.AxesImage at 0x1be2522dd00>"
      ]
     },
     "execution_count": 106,
     "metadata": {},
     "output_type": "execute_result"
    },
    {
     "data": {
      "image/png": "[encoded data removed]",
      "text/plain": [
       "<Figure size 1080x1080 with 1 Axes>"
      ]
     },
     "metadata": {
      "needs_background": "light"
     },
     "output_type": "display_data"
    }
   ],
   "source": [
    "wc=WordCloud(max_words=50)\n",
    "Cloud=wc.generate(str(nlp.Amenities))\n",
    "fig=plt.figure(figsize=(15,15)) \n",
    "plt.imshow(Cloud)"
   ]
  },
  {
   "cell_type": "code",
   "execution_count": 107,
   "id": "d06ea866",
   "metadata": {},
   "outputs": [
    {
     "data": {
      "text/plain": [
       "<matplotlib.image.AxesImage at 0x1be2588fee0>"
      ]
     },
     "execution_count": 107,
     "metadata": {},
     "output_type": "execute_result"
    },
    {
     "data": {
      "image/png": "[encoded data removed]",
      "text/plain": [
       "<Figure size 1080x1080 with 1 Axes>"
      ]
     },
     "metadata": {
      "needs_background": "light"
     },
     "output_type": "display_data"
    }
   ],
   "source": [
    "wc=WordCloud(max_words=50)\n",
    "Cloud=wc.generate(str(nlp.Availability_of_resources))\n",
    "fig=plt.figure(figsize=(15,15)) \n",
    "plt.imshow(Cloud)"
   ]
  },
  {
   "cell_type": "markdown",
   "id": "c51503c6",
   "metadata": {},
   "source": [
    "# RFE=Recursive FS"
   ]
  },
  {
   "cell_type": "code",
   "execution_count": 108,
   "id": "b7753944",
   "metadata": {},
   "outputs": [],
   "source": [
    "from sklearn.feature_selection import RFE\n",
    "from sklearn.tree import DecisionTreeClassifier\n",
    "dTree = DecisionTreeClassifier()"
   ]
  },
  {
   "cell_type": "code",
   "execution_count": 109,
   "id": "c2a1e403",
   "metadata": {},
   "outputs": [],
   "source": [
    "rfe=RFE(dTree)"
   ]
  },
  {
   "cell_type": "code",
   "execution_count": 110,
   "id": "e7e4102b",
   "metadata": {},
   "outputs": [
    {
     "data": {
      "text/plain": [
       "RFE(estimator=DecisionTreeClassifier())"
      ]
     },
     "execution_count": 110,
     "metadata": {},
     "output_type": "execute_result"
    }
   ],
   "source": [
    "rfe.fit(data.iloc[:,0:20],data.iloc[:,-1])"
   ]
  },
  {
   "cell_type": "code",
   "execution_count": 111,
   "id": "ef87c749",
   "metadata": {},
   "outputs": [
    {
     "data": {
      "text/plain": [
       "array([ True,  True, False,  True,  True, False,  True, False,  True,\n",
       "        True,  True, False,  True, False,  True, False, False, False,\n",
       "       False, False])"
      ]
     },
     "execution_count": 111,
     "metadata": {},
     "output_type": "execute_result"
    }
   ],
   "source": [
    "rfe.support_"
   ]
  },
  {
   "cell_type": "code",
   "execution_count": 112,
   "id": "6838f8d5",
   "metadata": {},
   "outputs": [
    {
     "data": {
      "text/html": [
       "<div>\n",
       "<style scoped>\n",
       "    .dataframe tbody tr th:only-of-type {\n",
       "        vertical-align: middle;\n",
       "    }\n",
       "\n",
       "    .dataframe tbody tr th {\n",
       "        vertical-align: top;\n",
       "    }\n",
       "\n",
       "    .dataframe thead th {\n",
       "        text-align: right;\n",
       "    }\n",
       "</style>\n",
       "<table border=\"1\" class=\"dataframe\">\n",
       "  <thead>\n",
       "    <tr style=\"text-align: right;\">\n",
       "      <th></th>\n",
       "      <th>Score</th>\n",
       "      <th>columns</th>\n",
       "    </tr>\n",
       "  </thead>\n",
       "  <tbody>\n",
       "    <tr>\n",
       "      <th>0</th>\n",
       "      <td>True</td>\n",
       "      <td>Profession</td>\n",
       "    </tr>\n",
       "    <tr>\n",
       "      <th>1</th>\n",
       "      <td>True</td>\n",
       "      <td>Annual_Income</td>\n",
       "    </tr>\n",
       "    <tr>\n",
       "      <th>2</th>\n",
       "      <td>False</td>\n",
       "      <td>Family_member</td>\n",
       "    </tr>\n",
       "    <tr>\n",
       "      <th>3</th>\n",
       "      <td>True</td>\n",
       "      <td>Family_earners</td>\n",
       "    </tr>\n",
       "    <tr>\n",
       "      <th>4</th>\n",
       "      <td>True</td>\n",
       "      <td>source_of_flat</td>\n",
       "    </tr>\n",
       "    <tr>\n",
       "      <th>5</th>\n",
       "      <td>False</td>\n",
       "      <td>Area</td>\n",
       "    </tr>\n",
       "    <tr>\n",
       "      <th>6</th>\n",
       "      <td>True</td>\n",
       "      <td>Location</td>\n",
       "    </tr>\n",
       "    <tr>\n",
       "      <th>7</th>\n",
       "      <td>False</td>\n",
       "      <td>Type_of_flat</td>\n",
       "    </tr>\n",
       "    <tr>\n",
       "      <th>8</th>\n",
       "      <td>True</td>\n",
       "      <td>Area_in_sqft</td>\n",
       "    </tr>\n",
       "    <tr>\n",
       "      <th>9</th>\n",
       "      <td>True</td>\n",
       "      <td>Amenities</td>\n",
       "    </tr>\n",
       "    <tr>\n",
       "      <th>10</th>\n",
       "      <td>True</td>\n",
       "      <td>Availability_of_resources</td>\n",
       "    </tr>\n",
       "    <tr>\n",
       "      <th>11</th>\n",
       "      <td>False</td>\n",
       "      <td>Bathrooms</td>\n",
       "    </tr>\n",
       "    <tr>\n",
       "      <th>12</th>\n",
       "      <td>True</td>\n",
       "      <td>Availability_of_flat</td>\n",
       "    </tr>\n",
       "    <tr>\n",
       "      <th>13</th>\n",
       "      <td>False</td>\n",
       "      <td>No_floors_in_building</td>\n",
       "    </tr>\n",
       "    <tr>\n",
       "      <th>14</th>\n",
       "      <td>True</td>\n",
       "      <td>Floor_no</td>\n",
       "    </tr>\n",
       "    <tr>\n",
       "      <th>15</th>\n",
       "      <td>False</td>\n",
       "      <td>Balcony</td>\n",
       "    </tr>\n",
       "    <tr>\n",
       "      <th>16</th>\n",
       "      <td>False</td>\n",
       "      <td>Lift</td>\n",
       "    </tr>\n",
       "    <tr>\n",
       "      <th>17</th>\n",
       "      <td>False</td>\n",
       "      <td>Parking</td>\n",
       "    </tr>\n",
       "    <tr>\n",
       "      <th>18</th>\n",
       "      <td>False</td>\n",
       "      <td>Water_supply</td>\n",
       "    </tr>\n",
       "    <tr>\n",
       "      <th>19</th>\n",
       "      <td>False</td>\n",
       "      <td>Buying_of_Flat</td>\n",
       "    </tr>\n",
       "  </tbody>\n",
       "</table>\n",
       "</div>"
      ],
      "text/plain": [
       "    Score                    columns\n",
       "0    True                 Profession\n",
       "1    True             Annual_Income \n",
       "2   False              Family_member\n",
       "3    True             Family_earners\n",
       "4    True             source_of_flat\n",
       "5   False                       Area\n",
       "6    True                   Location\n",
       "7   False              Type_of_flat \n",
       "8    True               Area_in_sqft\n",
       "9    True                  Amenities\n",
       "10   True  Availability_of_resources\n",
       "11  False                 Bathrooms \n",
       "12   True       Availability_of_flat\n",
       "13  False     No_floors_in_building \n",
       "14   True                   Floor_no\n",
       "15  False                    Balcony\n",
       "16  False                       Lift\n",
       "17  False                    Parking\n",
       "18  False               Water_supply\n",
       "19  False             Buying_of_Flat"
      ]
     },
     "execution_count": 112,
     "metadata": {},
     "output_type": "execute_result"
    }
   ],
   "source": [
    "df3=pd.DataFrame({\"Score\":list(rfe.support_),\"columns\":list(data.iloc[:,0:20])})\n",
    "df3"
   ]
  },
  {
   "cell_type": "code",
   "execution_count": 113,
   "id": "e152bd05",
   "metadata": {},
   "outputs": [],
   "source": [
    "df=data.drop([\"source_of_flat\",\"Area\",\"Type_of_flat \",\"Bathrooms \",\"No_floors_in_building \",\"Balcony\",\"Lift\",\"Parking\",\"Water_supply\",\"Buying_of_Flat\"],axis=1)"
   ]
  },
  {
   "cell_type": "code",
   "execution_count": 114,
   "id": "e19f4227",
   "metadata": {},
   "outputs": [
    {
     "data": {
      "text/html": [
       "<div>\n",
       "<style scoped>\n",
       "    .dataframe tbody tr th:only-of-type {\n",
       "        vertical-align: middle;\n",
       "    }\n",
       "\n",
       "    .dataframe tbody tr th {\n",
       "        vertical-align: top;\n",
       "    }\n",
       "\n",
       "    .dataframe thead th {\n",
       "        text-align: right;\n",
       "    }\n",
       "</style>\n",
       "<table border=\"1\" class=\"dataframe\">\n",
       "  <thead>\n",
       "    <tr style=\"text-align: right;\">\n",
       "      <th></th>\n",
       "      <th>Profession</th>\n",
       "      <th>Annual_Income</th>\n",
       "      <th>Family_member</th>\n",
       "      <th>Family_earners</th>\n",
       "      <th>Location</th>\n",
       "      <th>Area_in_sqft</th>\n",
       "      <th>Amenities</th>\n",
       "      <th>Availability_of_resources</th>\n",
       "      <th>Availability_of_flat</th>\n",
       "      <th>Floor_no</th>\n",
       "      <th>Price</th>\n",
       "    </tr>\n",
       "  </thead>\n",
       "  <tbody>\n",
       "    <tr>\n",
       "      <th>0</th>\n",
       "      <td>9</td>\n",
       "      <td>450000</td>\n",
       "      <td>4</td>\n",
       "      <td>1</td>\n",
       "      <td>19</td>\n",
       "      <td>722</td>\n",
       "      <td>4</td>\n",
       "      <td>9</td>\n",
       "      <td>2023</td>\n",
       "      <td>1</td>\n",
       "      <td>2000000</td>\n",
       "    </tr>\n",
       "    <tr>\n",
       "      <th>1</th>\n",
       "      <td>17</td>\n",
       "      <td>1000000</td>\n",
       "      <td>4</td>\n",
       "      <td>3</td>\n",
       "      <td>19</td>\n",
       "      <td>1800</td>\n",
       "      <td>9</td>\n",
       "      <td>7</td>\n",
       "      <td>2010</td>\n",
       "      <td>2</td>\n",
       "      <td>2500000</td>\n",
       "    </tr>\n",
       "    <tr>\n",
       "      <th>2</th>\n",
       "      <td>9</td>\n",
       "      <td>200000</td>\n",
       "      <td>4</td>\n",
       "      <td>2</td>\n",
       "      <td>19</td>\n",
       "      <td>650</td>\n",
       "      <td>4</td>\n",
       "      <td>11</td>\n",
       "      <td>2005</td>\n",
       "      <td>2</td>\n",
       "      <td>500000</td>\n",
       "    </tr>\n",
       "    <tr>\n",
       "      <th>3</th>\n",
       "      <td>9</td>\n",
       "      <td>350000</td>\n",
       "      <td>4</td>\n",
       "      <td>1</td>\n",
       "      <td>19</td>\n",
       "      <td>400</td>\n",
       "      <td>12</td>\n",
       "      <td>8</td>\n",
       "      <td>2021</td>\n",
       "      <td>3</td>\n",
       "      <td>2000000</td>\n",
       "    </tr>\n",
       "    <tr>\n",
       "      <th>4</th>\n",
       "      <td>9</td>\n",
       "      <td>100000</td>\n",
       "      <td>5</td>\n",
       "      <td>1</td>\n",
       "      <td>19</td>\n",
       "      <td>1200</td>\n",
       "      <td>7</td>\n",
       "      <td>2</td>\n",
       "      <td>2023</td>\n",
       "      <td>3</td>\n",
       "      <td>2400000</td>\n",
       "    </tr>\n",
       "    <tr>\n",
       "      <th>...</th>\n",
       "      <td>...</td>\n",
       "      <td>...</td>\n",
       "      <td>...</td>\n",
       "      <td>...</td>\n",
       "      <td>...</td>\n",
       "      <td>...</td>\n",
       "      <td>...</td>\n",
       "      <td>...</td>\n",
       "      <td>...</td>\n",
       "      <td>...</td>\n",
       "      <td>...</td>\n",
       "    </tr>\n",
       "    <tr>\n",
       "      <th>304</th>\n",
       "      <td>9</td>\n",
       "      <td>1200000</td>\n",
       "      <td>4</td>\n",
       "      <td>2</td>\n",
       "      <td>30</td>\n",
       "      <td>900</td>\n",
       "      <td>2</td>\n",
       "      <td>10</td>\n",
       "      <td>2021</td>\n",
       "      <td>4</td>\n",
       "      <td>3500000</td>\n",
       "    </tr>\n",
       "    <tr>\n",
       "      <th>305</th>\n",
       "      <td>15</td>\n",
       "      <td>1000000</td>\n",
       "      <td>5</td>\n",
       "      <td>1</td>\n",
       "      <td>30</td>\n",
       "      <td>1000</td>\n",
       "      <td>10</td>\n",
       "      <td>10</td>\n",
       "      <td>2018</td>\n",
       "      <td>2</td>\n",
       "      <td>3200000</td>\n",
       "    </tr>\n",
       "    <tr>\n",
       "      <th>306</th>\n",
       "      <td>0</td>\n",
       "      <td>1400000</td>\n",
       "      <td>4</td>\n",
       "      <td>1</td>\n",
       "      <td>30</td>\n",
       "      <td>1300</td>\n",
       "      <td>1</td>\n",
       "      <td>10</td>\n",
       "      <td>2020</td>\n",
       "      <td>4</td>\n",
       "      <td>5000000</td>\n",
       "    </tr>\n",
       "    <tr>\n",
       "      <th>307</th>\n",
       "      <td>0</td>\n",
       "      <td>1600000</td>\n",
       "      <td>6</td>\n",
       "      <td>2</td>\n",
       "      <td>30</td>\n",
       "      <td>950</td>\n",
       "      <td>1</td>\n",
       "      <td>10</td>\n",
       "      <td>2022</td>\n",
       "      <td>4</td>\n",
       "      <td>4000000</td>\n",
       "    </tr>\n",
       "    <tr>\n",
       "      <th>308</th>\n",
       "      <td>9</td>\n",
       "      <td>1000000</td>\n",
       "      <td>4</td>\n",
       "      <td>2</td>\n",
       "      <td>30</td>\n",
       "      <td>850</td>\n",
       "      <td>1</td>\n",
       "      <td>10</td>\n",
       "      <td>2021</td>\n",
       "      <td>4</td>\n",
       "      <td>3500000</td>\n",
       "    </tr>\n",
       "  </tbody>\n",
       "</table>\n",
       "<p>309 rows × 11 columns</p>\n",
       "</div>"
      ],
      "text/plain": [
       "     Profession  Annual_Income   Family_member  Family_earners  Location  \\\n",
       "0             9          450000              4               1        19   \n",
       "1            17         1000000              4               3        19   \n",
       "2             9          200000              4               2        19   \n",
       "3             9          350000              4               1        19   \n",
       "4             9          100000              5               1        19   \n",
       "..          ...             ...            ...             ...       ...   \n",
       "304           9         1200000              4               2        30   \n",
       "305          15         1000000              5               1        30   \n",
       "306           0         1400000              4               1        30   \n",
       "307           0         1600000              6               2        30   \n",
       "308           9         1000000              4               2        30   \n",
       "\n",
       "     Area_in_sqft  Amenities  Availability_of_resources  Availability_of_flat  \\\n",
       "0             722          4                          9                  2023   \n",
       "1            1800          9                          7                  2010   \n",
       "2             650          4                         11                  2005   \n",
       "3             400         12                          8                  2021   \n",
       "4            1200          7                          2                  2023   \n",
       "..            ...        ...                        ...                   ...   \n",
       "304           900          2                         10                  2021   \n",
       "305          1000         10                         10                  2018   \n",
       "306          1300          1                         10                  2020   \n",
       "307           950          1                         10                  2022   \n",
       "308           850          1                         10                  2021   \n",
       "\n",
       "     Floor_no    Price  \n",
       "0           1  2000000  \n",
       "1           2  2500000  \n",
       "2           2   500000  \n",
       "3           3  2000000  \n",
       "4           3  2400000  \n",
       "..        ...      ...  \n",
       "304         4  3500000  \n",
       "305         2  3200000  \n",
       "306         4  5000000  \n",
       "307         4  4000000  \n",
       "308         4  3500000  \n",
       "\n",
       "[309 rows x 11 columns]"
      ]
     },
     "execution_count": 114,
     "metadata": {},
     "output_type": "execute_result"
    }
   ],
   "source": [
    "df"
   ]
  },
  {
   "cell_type": "code",
   "execution_count": 115,
   "id": "4693fb9d",
   "metadata": {},
   "outputs": [],
   "source": [
    "df_x=df.iloc[:,0:10]\n",
    "df_y=df.iloc[:,-1]"
   ]
  },
  {
   "cell_type": "code",
   "execution_count": 116,
   "id": "d4582c7c",
   "metadata": {
    "scrolled": true
   },
   "outputs": [
    {
     "data": {
      "text/html": [
       "<div>\n",
       "<style scoped>\n",
       "    .dataframe tbody tr th:only-of-type {\n",
       "        vertical-align: middle;\n",
       "    }\n",
       "\n",
       "    .dataframe tbody tr th {\n",
       "        vertical-align: top;\n",
       "    }\n",
       "\n",
       "    .dataframe thead th {\n",
       "        text-align: right;\n",
       "    }\n",
       "</style>\n",
       "<table border=\"1\" class=\"dataframe\">\n",
       "  <thead>\n",
       "    <tr style=\"text-align: right;\">\n",
       "      <th></th>\n",
       "      <th>Profession</th>\n",
       "      <th>Annual_Income</th>\n",
       "      <th>Family_member</th>\n",
       "      <th>Family_earners</th>\n",
       "      <th>Location</th>\n",
       "      <th>Area_in_sqft</th>\n",
       "      <th>Amenities</th>\n",
       "      <th>Availability_of_resources</th>\n",
       "      <th>Availability_of_flat</th>\n",
       "      <th>Floor_no</th>\n",
       "    </tr>\n",
       "  </thead>\n",
       "  <tbody>\n",
       "    <tr>\n",
       "      <th>0</th>\n",
       "      <td>9</td>\n",
       "      <td>450000</td>\n",
       "      <td>4</td>\n",
       "      <td>1</td>\n",
       "      <td>19</td>\n",
       "      <td>722</td>\n",
       "      <td>4</td>\n",
       "      <td>9</td>\n",
       "      <td>2023</td>\n",
       "      <td>1</td>\n",
       "    </tr>\n",
       "    <tr>\n",
       "      <th>1</th>\n",
       "      <td>17</td>\n",
       "      <td>1000000</td>\n",
       "      <td>4</td>\n",
       "      <td>3</td>\n",
       "      <td>19</td>\n",
       "      <td>1800</td>\n",
       "      <td>9</td>\n",
       "      <td>7</td>\n",
       "      <td>2010</td>\n",
       "      <td>2</td>\n",
       "    </tr>\n",
       "    <tr>\n",
       "      <th>2</th>\n",
       "      <td>9</td>\n",
       "      <td>200000</td>\n",
       "      <td>4</td>\n",
       "      <td>2</td>\n",
       "      <td>19</td>\n",
       "      <td>650</td>\n",
       "      <td>4</td>\n",
       "      <td>11</td>\n",
       "      <td>2005</td>\n",
       "      <td>2</td>\n",
       "    </tr>\n",
       "    <tr>\n",
       "      <th>3</th>\n",
       "      <td>9</td>\n",
       "      <td>350000</td>\n",
       "      <td>4</td>\n",
       "      <td>1</td>\n",
       "      <td>19</td>\n",
       "      <td>400</td>\n",
       "      <td>12</td>\n",
       "      <td>8</td>\n",
       "      <td>2021</td>\n",
       "      <td>3</td>\n",
       "    </tr>\n",
       "    <tr>\n",
       "      <th>4</th>\n",
       "      <td>9</td>\n",
       "      <td>100000</td>\n",
       "      <td>5</td>\n",
       "      <td>1</td>\n",
       "      <td>19</td>\n",
       "      <td>1200</td>\n",
       "      <td>7</td>\n",
       "      <td>2</td>\n",
       "      <td>2023</td>\n",
       "      <td>3</td>\n",
       "    </tr>\n",
       "    <tr>\n",
       "      <th>...</th>\n",
       "      <td>...</td>\n",
       "      <td>...</td>\n",
       "      <td>...</td>\n",
       "      <td>...</td>\n",
       "      <td>...</td>\n",
       "      <td>...</td>\n",
       "      <td>...</td>\n",
       "      <td>...</td>\n",
       "      <td>...</td>\n",
       "      <td>...</td>\n",
       "    </tr>\n",
       "    <tr>\n",
       "      <th>304</th>\n",
       "      <td>9</td>\n",
       "      <td>1200000</td>\n",
       "      <td>4</td>\n",
       "      <td>2</td>\n",
       "      <td>30</td>\n",
       "      <td>900</td>\n",
       "      <td>2</td>\n",
       "      <td>10</td>\n",
       "      <td>2021</td>\n",
       "      <td>4</td>\n",
       "    </tr>\n",
       "    <tr>\n",
       "      <th>305</th>\n",
       "      <td>15</td>\n",
       "      <td>1000000</td>\n",
       "      <td>5</td>\n",
       "      <td>1</td>\n",
       "      <td>30</td>\n",
       "      <td>1000</td>\n",
       "      <td>10</td>\n",
       "      <td>10</td>\n",
       "      <td>2018</td>\n",
       "      <td>2</td>\n",
       "    </tr>\n",
       "    <tr>\n",
       "      <th>306</th>\n",
       "      <td>0</td>\n",
       "      <td>1400000</td>\n",
       "      <td>4</td>\n",
       "      <td>1</td>\n",
       "      <td>30</td>\n",
       "      <td>1300</td>\n",
       "      <td>1</td>\n",
       "      <td>10</td>\n",
       "      <td>2020</td>\n",
       "      <td>4</td>\n",
       "    </tr>\n",
       "    <tr>\n",
       "      <th>307</th>\n",
       "      <td>0</td>\n",
       "      <td>1600000</td>\n",
       "      <td>6</td>\n",
       "      <td>2</td>\n",
       "      <td>30</td>\n",
       "      <td>950</td>\n",
       "      <td>1</td>\n",
       "      <td>10</td>\n",
       "      <td>2022</td>\n",
       "      <td>4</td>\n",
       "    </tr>\n",
       "    <tr>\n",
       "      <th>308</th>\n",
       "      <td>9</td>\n",
       "      <td>1000000</td>\n",
       "      <td>4</td>\n",
       "      <td>2</td>\n",
       "      <td>30</td>\n",
       "      <td>850</td>\n",
       "      <td>1</td>\n",
       "      <td>10</td>\n",
       "      <td>2021</td>\n",
       "      <td>4</td>\n",
       "    </tr>\n",
       "  </tbody>\n",
       "</table>\n",
       "<p>309 rows × 10 columns</p>\n",
       "</div>"
      ],
      "text/plain": [
       "     Profession  Annual_Income   Family_member  Family_earners  Location  \\\n",
       "0             9          450000              4               1        19   \n",
       "1            17         1000000              4               3        19   \n",
       "2             9          200000              4               2        19   \n",
       "3             9          350000              4               1        19   \n",
       "4             9          100000              5               1        19   \n",
       "..          ...             ...            ...             ...       ...   \n",
       "304           9         1200000              4               2        30   \n",
       "305          15         1000000              5               1        30   \n",
       "306           0         1400000              4               1        30   \n",
       "307           0         1600000              6               2        30   \n",
       "308           9         1000000              4               2        30   \n",
       "\n",
       "     Area_in_sqft  Amenities  Availability_of_resources  Availability_of_flat  \\\n",
       "0             722          4                          9                  2023   \n",
       "1            1800          9                          7                  2010   \n",
       "2             650          4                         11                  2005   \n",
       "3             400         12                          8                  2021   \n",
       "4            1200          7                          2                  2023   \n",
       "..            ...        ...                        ...                   ...   \n",
       "304           900          2                         10                  2021   \n",
       "305          1000         10                         10                  2018   \n",
       "306          1300          1                         10                  2020   \n",
       "307           950          1                         10                  2022   \n",
       "308           850          1                         10                  2021   \n",
       "\n",
       "     Floor_no  \n",
       "0           1  \n",
       "1           2  \n",
       "2           2  \n",
       "3           3  \n",
       "4           3  \n",
       "..        ...  \n",
       "304         4  \n",
       "305         2  \n",
       "306         4  \n",
       "307         4  \n",
       "308         4  \n",
       "\n",
       "[309 rows x 10 columns]"
      ]
     },
     "execution_count": 116,
     "metadata": {},
     "output_type": "execute_result"
    }
   ],
   "source": [
    "df_x"
   ]
  },
  {
   "cell_type": "code",
   "execution_count": 117,
   "id": "efa26ce1",
   "metadata": {},
   "outputs": [],
   "source": [
    "import sklearn\n",
    "from sklearn.model_selection import train_test_split"
   ]
  },
  {
   "cell_type": "code",
   "execution_count": 118,
   "id": "abf30129",
   "metadata": {},
   "outputs": [],
   "source": [
    "b_x_train,b_x_test,b_y_train,b_y_test=train_test_split(df_x,df_y,test_size=0.2,random_state=101)"
   ]
  },
  {
   "cell_type": "code",
   "execution_count": 119,
   "id": "5adaa70c",
   "metadata": {},
   "outputs": [
    {
     "data": {
      "text/plain": [
       "((247, 10), (62, 10), (247,), (62,))"
      ]
     },
     "execution_count": 119,
     "metadata": {},
     "output_type": "execute_result"
    }
   ],
   "source": [
    "b_x_train.shape,b_x_test.shape,b_y_train.shape,b_y_test.shape"
   ]
  },
  {
   "cell_type": "code",
   "execution_count": 120,
   "id": "da17e337",
   "metadata": {},
   "outputs": [],
   "source": [
    "from sklearn import linear_model\n",
    "lin=linear_model.LinearRegression()"
   ]
  },
  {
   "cell_type": "code",
   "execution_count": 121,
   "id": "80bd724c",
   "metadata": {},
   "outputs": [
    {
     "data": {
      "text/plain": [
       "LinearRegression()"
      ]
     },
     "execution_count": 121,
     "metadata": {},
     "output_type": "execute_result"
    }
   ],
   "source": [
    "lin.fit(b_x_train,b_y_train)"
   ]
  },
  {
   "cell_type": "code",
   "execution_count": 122,
   "id": "f233756f",
   "metadata": {},
   "outputs": [
    {
     "data": {
      "text/plain": [
       "array([2495890.50998193, 2938881.46453857, 2340075.9421027 ,\n",
       "       2003025.61446901, 1589011.71078772, 2936538.70302884,\n",
       "       2949411.28052344, 1600836.29654103, 3181805.40898322,\n",
       "       2903519.33660062, 1473086.22802372, 2286324.52700823,\n",
       "       2923765.5570309 , 2056939.43856282, 3630651.91969035,\n",
       "       2356412.71053719, 4292329.77185263, 3554480.60739751,\n",
       "       1514905.61327893, 2294936.90905362, 2193180.23488115,\n",
       "       2356449.66748166, 2134059.94533342, 2025830.79151351,\n",
       "       4543092.74901148, 2195842.71622365, 2766222.81763158,\n",
       "       1648944.51946332, 3304680.95052447, 2033072.8333091 ,\n",
       "       2876458.09387259, 2240551.69000776, 2280707.49153257,\n",
       "       3327335.35922615, 3502852.53088757, 2118436.5299985 ,\n",
       "       3330233.88340936, 2601371.09849196, 2977680.21042092,\n",
       "       2440450.52088535, 2256227.11577535, 2213075.32730812,\n",
       "       1820525.48791383, 1947296.57884607, 2204933.89540568,\n",
       "       2206723.05750363, 3508663.51067621, 2622073.2322029 ,\n",
       "       6361900.66521517, 2023634.36272317, 4409362.89823269,\n",
       "       1685033.68146277, 2447474.17779171, 2901665.2617246 ,\n",
       "       2264967.79658057, 1736378.43167642, 3861318.84519342,\n",
       "       2061175.14542424, 1971433.47421007, 2710981.22924219,\n",
       "       2458632.06478209, 1965234.93619872])"
      ]
     },
     "execution_count": 122,
     "metadata": {},
     "output_type": "execute_result"
    }
   ],
   "source": [
    "lin_p=lin.predict(b_x_test)\n",
    "lin_p"
   ]
  },
  {
   "cell_type": "code",
   "execution_count": 123,
   "id": "308a10db",
   "metadata": {},
   "outputs": [
    {
     "data": {
      "text/plain": [
       "array([ 4.79793456e+04,  7.99467798e-01,  1.92037051e+05, -3.39716537e+05,\n",
       "        4.29028017e+03,  1.83396751e+03, -6.95001541e+03, -5.18476798e+04,\n",
       "        9.74953895e+02, -4.52077255e+03])"
      ]
     },
     "execution_count": 123,
     "metadata": {},
     "output_type": "execute_result"
    }
   ],
   "source": [
    "lin.coef_"
   ]
  },
  {
   "cell_type": "code",
   "execution_count": 124,
   "id": "801b2e70",
   "metadata": {},
   "outputs": [
    {
     "data": {
      "text/plain": [
       "-1666449.2757762992"
      ]
     },
     "execution_count": 124,
     "metadata": {},
     "output_type": "execute_result"
    }
   ],
   "source": [
    "lin.intercept_"
   ]
  },
  {
   "cell_type": "code",
   "execution_count": 125,
   "id": "68a6fbdc",
   "metadata": {},
   "outputs": [
    {
     "data": {
      "text/plain": [
       "0.10171157623049576"
      ]
     },
     "execution_count": 125,
     "metadata": {},
     "output_type": "execute_result"
    }
   ],
   "source": [
    "R2=lin.score(b_x_train,b_y_train)\n",
    "R2"
   ]
  },
  {
   "cell_type": "code",
   "execution_count": 126,
   "id": "af2027b7",
   "metadata": {},
   "outputs": [
    {
     "data": {
      "text/plain": [
       "0.03933043569094685"
      ]
     },
     "execution_count": 126,
     "metadata": {},
     "output_type": "execute_result"
    }
   ],
   "source": [
    "Adj_R2=1-(((1-R2)*(309-1))/(309-20-1))\n",
    "Adj_R2"
   ]
  },
  {
   "cell_type": "code",
   "execution_count": 127,
   "id": "6fe6d983",
   "metadata": {},
   "outputs": [],
   "source": [
    "from sklearn import metrics"
   ]
  },
  {
   "cell_type": "code",
   "execution_count": 128,
   "id": "e12e181d",
   "metadata": {},
   "outputs": [
    {
     "data": {
      "text/plain": [
       "445744528604.7392"
      ]
     },
     "execution_count": 128,
     "metadata": {},
     "output_type": "execute_result"
    }
   ],
   "source": [
    "mse=metrics.mean_squared_error(b_y_test,lin_p)\n",
    "mse"
   ]
  },
  {
   "cell_type": "code",
   "execution_count": 129,
   "id": "e8d03850",
   "metadata": {},
   "outputs": [
    {
     "data": {
      "text/plain": [
       "667641.017766838"
      ]
     },
     "execution_count": 129,
     "metadata": {},
     "output_type": "execute_result"
    }
   ],
   "source": [
    "rmse=pow(mse,0.5)\n",
    "rmse"
   ]
  },
  {
   "cell_type": "code",
   "execution_count": 130,
   "id": "ce81d2ff",
   "metadata": {},
   "outputs": [
    {
     "data": {
      "text/html": [
       "<div>\n",
       "<style scoped>\n",
       "    .dataframe tbody tr th:only-of-type {\n",
       "        vertical-align: middle;\n",
       "    }\n",
       "\n",
       "    .dataframe tbody tr th {\n",
       "        vertical-align: top;\n",
       "    }\n",
       "\n",
       "    .dataframe thead th {\n",
       "        text-align: right;\n",
       "    }\n",
       "</style>\n",
       "<table border=\"1\" class=\"dataframe\">\n",
       "  <thead>\n",
       "    <tr style=\"text-align: right;\">\n",
       "      <th></th>\n",
       "      <th>Actual</th>\n",
       "      <th>Predicted</th>\n",
       "    </tr>\n",
       "  </thead>\n",
       "  <tbody>\n",
       "    <tr>\n",
       "      <th>273</th>\n",
       "      <td>2500000</td>\n",
       "      <td>2.495891e+06</td>\n",
       "    </tr>\n",
       "    <tr>\n",
       "      <th>8</th>\n",
       "      <td>1800000</td>\n",
       "      <td>2.938881e+06</td>\n",
       "    </tr>\n",
       "    <tr>\n",
       "      <th>293</th>\n",
       "      <td>2100000</td>\n",
       "      <td>2.340076e+06</td>\n",
       "    </tr>\n",
       "    <tr>\n",
       "      <th>130</th>\n",
       "      <td>1750000</td>\n",
       "      <td>2.003026e+06</td>\n",
       "    </tr>\n",
       "    <tr>\n",
       "      <th>204</th>\n",
       "      <td>1900000</td>\n",
       "      <td>1.589012e+06</td>\n",
       "    </tr>\n",
       "    <tr>\n",
       "      <th>...</th>\n",
       "      <td>...</td>\n",
       "      <td>...</td>\n",
       "    </tr>\n",
       "    <tr>\n",
       "      <th>201</th>\n",
       "      <td>2000000</td>\n",
       "      <td>2.061175e+06</td>\n",
       "    </tr>\n",
       "    <tr>\n",
       "      <th>206</th>\n",
       "      <td>1400000</td>\n",
       "      <td>1.971433e+06</td>\n",
       "    </tr>\n",
       "    <tr>\n",
       "      <th>48</th>\n",
       "      <td>2600000</td>\n",
       "      <td>2.710981e+06</td>\n",
       "    </tr>\n",
       "    <tr>\n",
       "      <th>183</th>\n",
       "      <td>2200000</td>\n",
       "      <td>2.458632e+06</td>\n",
       "    </tr>\n",
       "    <tr>\n",
       "      <th>181</th>\n",
       "      <td>2200000</td>\n",
       "      <td>1.965235e+06</td>\n",
       "    </tr>\n",
       "  </tbody>\n",
       "</table>\n",
       "<p>62 rows × 2 columns</p>\n",
       "</div>"
      ],
      "text/plain": [
       "      Actual     Predicted\n",
       "273  2500000  2.495891e+06\n",
       "8    1800000  2.938881e+06\n",
       "293  2100000  2.340076e+06\n",
       "130  1750000  2.003026e+06\n",
       "204  1900000  1.589012e+06\n",
       "..       ...           ...\n",
       "201  2000000  2.061175e+06\n",
       "206  1400000  1.971433e+06\n",
       "48   2600000  2.710981e+06\n",
       "183  2200000  2.458632e+06\n",
       "181  2200000  1.965235e+06\n",
       "\n",
       "[62 rows x 2 columns]"
      ]
     },
     "execution_count": 130,
     "metadata": {},
     "output_type": "execute_result"
    }
   ],
   "source": [
    "df1=pd.DataFrame({\"Actual\":b_y_test,\"Predicted\":lin_p})\n",
    "df1"
   ]
  },
  {
   "cell_type": "code",
   "execution_count": 131,
   "id": "38770a85",
   "metadata": {},
   "outputs": [
    {
     "data": {
      "image/png": "[encoded data removed]",
      "text/plain": [
       "<Figure size 360x360 with 1 Axes>"
      ]
     },
     "metadata": {
      "needs_background": "light"
     },
     "output_type": "display_data"
    }
   ],
   "source": [
    "sns.lmplot(x=\"Actual\",y=\"Predicted\",data=df1,fit_reg=False)\n",
    "d_line=np.arange(df1.min().min(),df1.max().max())\n",
    "plt.plot(d_line,d_line,color=\"green\",linestyle=\"-\")\n",
    "plt.show()"
   ]
  },
  {
   "cell_type": "markdown",
   "id": "7246d78f",
   "metadata": {},
   "source": [
    "# Random forest Regressor"
   ]
  },
  {
   "cell_type": "code",
   "execution_count": 132,
   "id": "acb649fd",
   "metadata": {},
   "outputs": [],
   "source": [
    "import sklearn\n",
    "from sklearn.model_selection import train_test_split"
   ]
  },
  {
   "cell_type": "code",
   "execution_count": 133,
   "id": "5e107f47",
   "metadata": {},
   "outputs": [],
   "source": [
    "x_train,x_test,y_train,y_test=train_test_split(df_x,df_y,test_size=0.2,random_state=100)"
   ]
  },
  {
   "cell_type": "code",
   "execution_count": 134,
   "id": "e1eacd7e",
   "metadata": {},
   "outputs": [
    {
     "data": {
      "text/plain": [
       "((247, 10), (62, 10), (247,), (62,))"
      ]
     },
     "execution_count": 134,
     "metadata": {},
     "output_type": "execute_result"
    }
   ],
   "source": [
    "x_train.shape,x_test.shape,y_train.shape,y_test.shape"
   ]
  },
  {
   "cell_type": "code",
   "execution_count": 135,
   "id": "204ff23e",
   "metadata": {},
   "outputs": [],
   "source": [
    "from sklearn.ensemble import RandomForestRegressor\n",
    "rfr=RandomForestRegressor()"
   ]
  },
  {
   "cell_type": "code",
   "execution_count": 136,
   "id": "d022b868",
   "metadata": {},
   "outputs": [
    {
     "data": {
      "text/plain": [
       "RandomForestRegressor()"
      ]
     },
     "execution_count": 136,
     "metadata": {},
     "output_type": "execute_result"
    }
   ],
   "source": [
    "rfr.fit(x_train,y_train) "
   ]
  },
  {
   "cell_type": "code",
   "execution_count": 137,
   "id": "273f0ce0",
   "metadata": {},
   "outputs": [],
   "source": [
    "rfr_p=rfr.predict(x_test)"
   ]
  },
  {
   "cell_type": "code",
   "execution_count": 138,
   "id": "24e9e768",
   "metadata": {},
   "outputs": [
    {
     "data": {
      "text/plain": [
       "0.8153295185501576"
      ]
     },
     "execution_count": 138,
     "metadata": {},
     "output_type": "execute_result"
    }
   ],
   "source": [
    "rf_rsq=rfr.score(x_train,y_train)\n",
    "rf_rsq"
   ]
  },
  {
   "cell_type": "code",
   "execution_count": 139,
   "id": "4227bdca",
   "metadata": {},
   "outputs": [
    {
     "data": {
      "text/plain": [
       "0.8025051795605852"
      ]
     },
     "execution_count": 139,
     "metadata": {},
     "output_type": "execute_result"
    }
   ],
   "source": [
    "rf_adr=1-(((1-rf_rsq)*(309-1))/(309-20-1))\n",
    "rf_adr"
   ]
  },
  {
   "cell_type": "code",
   "execution_count": 140,
   "id": "9b419ed4",
   "metadata": {},
   "outputs": [
    {
     "data": {
      "text/plain": [
       "706089599203.2258"
      ]
     },
     "execution_count": 140,
     "metadata": {},
     "output_type": "execute_result"
    }
   ],
   "source": [
    "rfr_MSE=metrics.mean_squared_error(y_test,rfr_p)\n",
    "rfr_MSE"
   ]
  },
  {
   "cell_type": "code",
   "execution_count": 141,
   "id": "e50b7926",
   "metadata": {},
   "outputs": [
    {
     "data": {
      "text/plain": [
       "840291.3775609183"
      ]
     },
     "execution_count": 141,
     "metadata": {},
     "output_type": "execute_result"
    }
   ],
   "source": [
    "rmse=pow(rfr_MSE,0.5)\n",
    "rmse"
   ]
  },
  {
   "cell_type": "code",
   "execution_count": 142,
   "id": "e261d733",
   "metadata": {},
   "outputs": [
    {
     "data": {
      "text/plain": [
       "0.8153295185501576"
      ]
     },
     "execution_count": 142,
     "metadata": {},
     "output_type": "execute_result"
    }
   ],
   "source": [
    "rf_rsq=rfr.score(x_train,y_train)\n",
    "rf_rsq"
   ]
  },
  {
   "cell_type": "code",
   "execution_count": 143,
   "id": "da2004b7",
   "metadata": {},
   "outputs": [
    {
     "data": {
      "text/plain": [
       "0.8031885526416904"
      ]
     },
     "execution_count": 143,
     "metadata": {},
     "output_type": "execute_result"
    }
   ],
   "source": [
    "rf_adr=1-(((1-rf_rsq)*(309-1))/(309-19-1))\n",
    "rf_adr"
   ]
  },
  {
   "cell_type": "code",
   "execution_count": 144,
   "id": "493b8c30",
   "metadata": {},
   "outputs": [
    {
     "data": {
      "text/plain": [
       "706089599203.2258"
      ]
     },
     "execution_count": 144,
     "metadata": {},
     "output_type": "execute_result"
    }
   ],
   "source": [
    "rfr_MSE=metrics.mean_squared_error(y_test,rfr_p)\n",
    "rfr_MSE"
   ]
  },
  {
   "cell_type": "markdown",
   "id": "9bd28371",
   "metadata": {},
   "source": [
    "# Ada- Boost Regressor"
   ]
  },
  {
   "cell_type": "code",
   "execution_count": 145,
   "id": "691dedfe",
   "metadata": {},
   "outputs": [],
   "source": [
    "from sklearn.ensemble import AdaBoostRegressor\n",
    "ad=AdaBoostRegressor()"
   ]
  },
  {
   "cell_type": "code",
   "execution_count": 146,
   "id": "545500cc",
   "metadata": {},
   "outputs": [
    {
     "data": {
      "text/plain": [
       "AdaBoostRegressor()"
      ]
     },
     "execution_count": 146,
     "metadata": {},
     "output_type": "execute_result"
    }
   ],
   "source": [
    "ad.fit(x_train,y_train)"
   ]
  },
  {
   "cell_type": "code",
   "execution_count": 147,
   "id": "6cd7c13a",
   "metadata": {},
   "outputs": [],
   "source": [
    "ad_p=ad.predict(x_test)"
   ]
  },
  {
   "cell_type": "code",
   "execution_count": 148,
   "id": "b2b69288",
   "metadata": {},
   "outputs": [
    {
     "data": {
      "text/plain": [
       "0.9433888318911114"
      ]
     },
     "execution_count": 148,
     "metadata": {},
     "output_type": "execute_result"
    }
   ],
   "source": [
    "ad_rsq=ad.score(x_train,y_train)\n",
    "ad_rsq"
   ]
  },
  {
   "cell_type": "code",
   "execution_count": 149,
   "id": "ff244f91",
   "metadata": {},
   "outputs": [
    {
     "data": {
      "text/plain": [
       "0.9412921219611526"
      ]
     },
     "execution_count": 149,
     "metadata": {},
     "output_type": "execute_result"
    }
   ],
   "source": [
    "ad_adr=1-(((1-ad_rsq)*(309-1))/(309-11-1))\n",
    "ad_adr"
   ]
  },
  {
   "cell_type": "code",
   "execution_count": 150,
   "id": "376f7f12",
   "metadata": {},
   "outputs": [
    {
     "data": {
      "text/plain": [
       "557306881285.0527"
      ]
     },
     "execution_count": 150,
     "metadata": {},
     "output_type": "execute_result"
    }
   ],
   "source": [
    "ad_MSE=metrics.mean_squared_error(y_test,ad_p)\n",
    "ad_MSE"
   ]
  },
  {
   "cell_type": "code",
   "execution_count": 151,
   "id": "c16f52dc",
   "metadata": {},
   "outputs": [
    {
     "data": {
      "text/plain": [
       "746529.8930954157"
      ]
     },
     "execution_count": 151,
     "metadata": {},
     "output_type": "execute_result"
    }
   ],
   "source": [
    "rmse=pow(ad_MSE,0.5)\n",
    "rmse"
   ]
  },
  {
   "cell_type": "markdown",
   "id": "5cb9eb09",
   "metadata": {},
   "source": [
    "# XG Boost Regressor"
   ]
  },
  {
   "cell_type": "code",
   "execution_count": 152,
   "id": "41893c60",
   "metadata": {},
   "outputs": [],
   "source": [
    "import xgboost"
   ]
  },
  {
   "cell_type": "code",
   "execution_count": 153,
   "id": "461981d6",
   "metadata": {},
   "outputs": [],
   "source": [
    "from xgboost import  XGBRFRegressor\n",
    "xgb=XGBRFRegressor()"
   ]
  },
  {
   "cell_type": "code",
   "execution_count": 154,
   "id": "d5f6104c",
   "metadata": {},
   "outputs": [
    {
     "data": {
      "text/plain": [
       "XGBRFRegressor(base_score=None, booster=None, callbacks=None,\n",
       "               colsample_bylevel=None, colsample_bytree=None,\n",
       "               early_stopping_rounds=None, enable_categorical=False,\n",
       "               eval_metric=None, feature_types=None, gamma=None, gpu_id=None,\n",
       "               grow_policy=None, importance_type=None,\n",
       "               interaction_constraints=None, max_bin=None,\n",
       "               max_cat_threshold=None, max_cat_to_onehot=None,\n",
       "               max_delta_step=None, max_depth=None, max_leaves=None,\n",
       "               min_child_weight=None, missing=nan, monotone_constraints=None,\n",
       "               n_estimators=100, n_jobs=None, num_parallel_tree=None,\n",
       "               objective='reg:squarederror', predictor=None, random_state=None,\n",
       "               reg_alpha=None, ...)"
      ]
     },
     "execution_count": 154,
     "metadata": {},
     "output_type": "execute_result"
    }
   ],
   "source": [
    "xgb.fit(x_train,y_train)"
   ]
  },
  {
   "cell_type": "code",
   "execution_count": 155,
   "id": "7dcd0f65",
   "metadata": {},
   "outputs": [],
   "source": [
    "xgb_p=xgb.predict(x_test)"
   ]
  },
  {
   "cell_type": "code",
   "execution_count": 156,
   "id": "b1c265c4",
   "metadata": {},
   "outputs": [
    {
     "data": {
      "text/plain": [
       "0.9441657616733337"
      ]
     },
     "execution_count": 156,
     "metadata": {},
     "output_type": "execute_result"
    }
   ],
   "source": [
    "xgb_rsq=xgb.score(x_train,y_train)\n",
    "xgb_rsq"
   ]
  },
  {
   "cell_type": "code",
   "execution_count": 157,
   "id": "75beaaae",
   "metadata": {},
   "outputs": [
    {
     "data": {
      "text/plain": [
       "0.9420978269204942"
      ]
     },
     "execution_count": 157,
     "metadata": {},
     "output_type": "execute_result"
    }
   ],
   "source": [
    "xgb_adr=1-(((1-xgb_rsq)*(309-1))/(309-11-1))\n",
    "xgb_adr"
   ]
  },
  {
   "cell_type": "code",
   "execution_count": 158,
   "id": "5bd01d10",
   "metadata": {},
   "outputs": [
    {
     "data": {
      "text/plain": [
       "597295772094.0867"
      ]
     },
     "execution_count": 158,
     "metadata": {},
     "output_type": "execute_result"
    }
   ],
   "source": [
    "xgb_mse=metrics.mean_squared_error(y_test,xgb_p)\n",
    "xgb_mse"
   ]
  },
  {
   "cell_type": "code",
   "execution_count": 159,
   "id": "8d32b6cc",
   "metadata": {},
   "outputs": [
    {
     "data": {
      "text/plain": [
       "772849.1263462013"
      ]
     },
     "execution_count": 159,
     "metadata": {},
     "output_type": "execute_result"
    }
   ],
   "source": [
    "rmse=pow(xgb_mse,0.5)\n",
    "rmse"
   ]
  },
  {
   "cell_type": "code",
   "execution_count": 160,
   "id": "1600eead",
   "metadata": {},
   "outputs": [],
   "source": [
    "list1=[\"LinearRegression\",\"Random forest Regressor\",\"Ada- Boost Regressor\",\"XG Boost Regressor\",]\n",
    "list2=[R2,rf_rsq,ad_rsq,xgb_rsq]\n",
    "list3=[Adj_R2,rf_adr,ad_adr,xgb_adr]\n",
    "list4=[mse,rfr_MSE,ad_MSE,xgb_mse]"
   ]
  },
  {
   "cell_type": "code",
   "execution_count": 161,
   "id": "31dfe42d",
   "metadata": {},
   "outputs": [
    {
     "data": {
      "text/html": [
       "<div>\n",
       "<style scoped>\n",
       "    .dataframe tbody tr th:only-of-type {\n",
       "        vertical-align: middle;\n",
       "    }\n",
       "\n",
       "    .dataframe tbody tr th {\n",
       "        vertical-align: top;\n",
       "    }\n",
       "\n",
       "    .dataframe thead th {\n",
       "        text-align: right;\n",
       "    }\n",
       "</style>\n",
       "<table border=\"1\" class=\"dataframe\">\n",
       "  <thead>\n",
       "    <tr style=\"text-align: right;\">\n",
       "      <th></th>\n",
       "      <th>Model_Name</th>\n",
       "      <th>R-square</th>\n",
       "      <th>Adj_R2</th>\n",
       "      <th>MSE</th>\n",
       "    </tr>\n",
       "  </thead>\n",
       "  <tbody>\n",
       "    <tr>\n",
       "      <th>0</th>\n",
       "      <td>LinearRegression</td>\n",
       "      <td>0.101712</td>\n",
       "      <td>0.039330</td>\n",
       "      <td>4.457445e+11</td>\n",
       "    </tr>\n",
       "    <tr>\n",
       "      <th>1</th>\n",
       "      <td>Random forest Regressor</td>\n",
       "      <td>0.815330</td>\n",
       "      <td>0.803189</td>\n",
       "      <td>7.060896e+11</td>\n",
       "    </tr>\n",
       "    <tr>\n",
       "      <th>2</th>\n",
       "      <td>Ada- Boost Regressor</td>\n",
       "      <td>0.943389</td>\n",
       "      <td>0.941292</td>\n",
       "      <td>5.573069e+11</td>\n",
       "    </tr>\n",
       "    <tr>\n",
       "      <th>3</th>\n",
       "      <td>XG Boost Regressor</td>\n",
       "      <td>0.944166</td>\n",
       "      <td>0.942098</td>\n",
       "      <td>5.972958e+11</td>\n",
       "    </tr>\n",
       "  </tbody>\n",
       "</table>\n",
       "</div>"
      ],
      "text/plain": [
       "                Model_Name  R-square    Adj_R2           MSE\n",
       "0         LinearRegression  0.101712  0.039330  4.457445e+11\n",
       "1  Random forest Regressor  0.815330  0.803189  7.060896e+11\n",
       "2     Ada- Boost Regressor  0.943389  0.941292  5.573069e+11\n",
       "3       XG Boost Regressor  0.944166  0.942098  5.972958e+11"
      ]
     },
     "execution_count": 161,
     "metadata": {},
     "output_type": "execute_result"
    }
   ],
   "source": [
    "final_result=pd.DataFrame({\"Model_Name\":list1,\"R-square\":list2,\"Adj_R2\":list3,\"MSE\":list4})\n",
    "final_result"
   ]
  },
  {
   "cell_type": "code",
   "execution_count": 162,
   "id": "a28c17de",
   "metadata": {},
   "outputs": [],
   "source": [
    "# random forest for making predictions for regression\n"
   ]
  },
  {
   "cell_type": "code",
   "execution_count": 163,
   "id": "ce6bdb2b",
   "metadata": {},
   "outputs": [],
   "source": [
    "from sklearn.datasets import make_regression\n",
    "from sklearn.ensemble import RandomForestRegressor"
   ]
  },
  {
   "cell_type": "code",
   "execution_count": 164,
   "id": "259cca9f",
   "metadata": {},
   "outputs": [],
   "source": [
    "# define dataset"
   ]
  },
  {
   "cell_type": "code",
   "execution_count": 165,
   "id": "ebb72624",
   "metadata": {},
   "outputs": [],
   "source": [
    "X=data.iloc[:,0:10]\n",
    "y=data.iloc[:,-1]\n"
   ]
  },
  {
   "cell_type": "code",
   "execution_count": 166,
   "id": "953aaa3d",
   "metadata": {},
   "outputs": [],
   "source": [
    "# define the model\n",
    "model = RandomForestRegressor()\n"
   ]
  },
  {
   "cell_type": "code",
   "execution_count": 167,
   "id": "72881165",
   "metadata": {},
   "outputs": [
    {
     "data": {
      "text/plain": [
       "RandomForestRegressor()"
      ]
     },
     "execution_count": 167,
     "metadata": {},
     "output_type": "execute_result"
    }
   ],
   "source": [
    "# fit the model on the whole dataset\n",
    "model.fit(X, y)\n",
    "RandomForestRegressor()"
   ]
  },
  {
   "cell_type": "code",
   "execution_count": 168,
   "id": "562b9db0",
   "metadata": {},
   "outputs": [],
   "source": [
    "row = [[0,1600000,6,2,15,950,1,6,2022,4]]\n"
   ]
  },
  {
   "cell_type": "code",
   "execution_count": 169,
   "id": "ebe07955",
   "metadata": {},
   "outputs": [
    {
     "name": "stdout",
     "output_type": "stream",
     "text": [
      "Prediction: 3805000\n"
     ]
    }
   ],
   "source": [
    "# make a single prediction\n",
    "yhat = model.predict(row)\n",
    "print('Prediction: %d' % yhat[0])"
   ]
  }
 ],
 "metadata": {
  "kernelspec": {
   "display_name": "Python 3 (ipykernel)",
   "language": "python",
   "name": "python3"
  },
  "language_info": {
   "codemirror_mode": {
    "name": "ipython",
    "version": 3
   },
   "file_extension": ".py",
   "mimetype": "text/x-python",
   "name": "python",
   "nbconvert_exporter": "python",
   "pygments_lexer": "ipython3",
   "version": "3.9.12"
  }
 },
 "nbformat": 4,
 "nbformat_minor": 5
}
